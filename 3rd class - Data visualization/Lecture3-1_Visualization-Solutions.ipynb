{
 "cells": [
  {
   "cell_type": "markdown",
   "metadata": {},
   "source": [
    "# Data Science and Visualization (RUC F2023)\n",
    "\n",
    "## Lecture 3: Data Visualization"
   ]
  },
  {
   "cell_type": "markdown",
   "metadata": {},
   "source": [
    "# Basic Visualizations\n",
    "\n",
    "* ### Histogram\n",
    "* ### Bar chart\n",
    "* ### Boxplot\n",
    "* ### Scatterplot\n",
    "* ### Line chart\n",
    "\n",
    "We demonstrate with a number of synthetic datasets about kids health. This notebook contains both demo code and exercise (with blank cells). We use the library of **matplotlib.pyplot** for making the basic plots."
   ]
  },
  {
   "cell_type": "markdown",
   "metadata": {},
   "source": [
    "## 0. Setup and construct the data"
   ]
  },
  {
   "cell_type": "code",
   "execution_count": 1,
   "metadata": {},
   "outputs": [
    {
     "data": {
      "text/html": [
       "<div>\n",
       "<style scoped>\n",
       "    .dataframe tbody tr th:only-of-type {\n",
       "        vertical-align: middle;\n",
       "    }\n",
       "\n",
       "    .dataframe tbody tr th {\n",
       "        vertical-align: top;\n",
       "    }\n",
       "\n",
       "    .dataframe thead th {\n",
       "        text-align: right;\n",
       "    }\n",
       "</style>\n",
       "<table border=\"1\" class=\"dataframe\">\n",
       "  <thead>\n",
       "    <tr style=\"text-align: right;\">\n",
       "      <th></th>\n",
       "      <th>Name</th>\n",
       "      <th>Gender</th>\n",
       "      <th>Age</th>\n",
       "      <th>Height</th>\n",
       "      <th>Weight</th>\n",
       "      <th>Test</th>\n",
       "      <th>Fever</th>\n",
       "    </tr>\n",
       "  </thead>\n",
       "  <tbody>\n",
       "    <tr>\n",
       "      <th>0</th>\n",
       "      <td>Alis</td>\n",
       "      <td>Female</td>\n",
       "      <td>2</td>\n",
       "      <td>90.0</td>\n",
       "      <td>13.0</td>\n",
       "      <td>Negative</td>\n",
       "      <td>Yes</td>\n",
       "    </tr>\n",
       "    <tr>\n",
       "      <th>1</th>\n",
       "      <td>Alex</td>\n",
       "      <td>Male</td>\n",
       "      <td>6</td>\n",
       "      <td>100.0</td>\n",
       "      <td>20.0</td>\n",
       "      <td>Negative</td>\n",
       "      <td>Yes</td>\n",
       "    </tr>\n",
       "    <tr>\n",
       "      <th>2</th>\n",
       "      <td>Bo</td>\n",
       "      <td>Male</td>\n",
       "      <td>2</td>\n",
       "      <td>80.0</td>\n",
       "      <td>10.0</td>\n",
       "      <td>Negative</td>\n",
       "      <td>Yes</td>\n",
       "    </tr>\n",
       "    <tr>\n",
       "      <th>3</th>\n",
       "      <td>Chris</td>\n",
       "      <td>Male</td>\n",
       "      <td>2</td>\n",
       "      <td>90.0</td>\n",
       "      <td>17.0</td>\n",
       "      <td>Positive</td>\n",
       "      <td>Yes</td>\n",
       "    </tr>\n",
       "    <tr>\n",
       "      <th>4</th>\n",
       "      <td>Daisy</td>\n",
       "      <td>Female</td>\n",
       "      <td>2</td>\n",
       "      <td>90.0</td>\n",
       "      <td>17.0</td>\n",
       "      <td>Positive</td>\n",
       "      <td>No</td>\n",
       "    </tr>\n",
       "    <tr>\n",
       "      <th>5</th>\n",
       "      <td>John</td>\n",
       "      <td>Male</td>\n",
       "      <td>3</td>\n",
       "      <td>96.0</td>\n",
       "      <td>15.0</td>\n",
       "      <td>Negative</td>\n",
       "      <td>Yes</td>\n",
       "    </tr>\n",
       "    <tr>\n",
       "      <th>6</th>\n",
       "      <td>Kate</td>\n",
       "      <td>Female</td>\n",
       "      <td>4</td>\n",
       "      <td>100.0</td>\n",
       "      <td>19.0</td>\n",
       "      <td>Negative</td>\n",
       "      <td>No</td>\n",
       "    </tr>\n",
       "    <tr>\n",
       "      <th>7</th>\n",
       "      <td>Sebastian</td>\n",
       "      <td>Male</td>\n",
       "      <td>5</td>\n",
       "      <td>110.0</td>\n",
       "      <td>19.0</td>\n",
       "      <td>N/A</td>\n",
       "      <td>Yes</td>\n",
       "    </tr>\n",
       "    <tr>\n",
       "      <th>8</th>\n",
       "      <td>Mads</td>\n",
       "      <td>Male</td>\n",
       "      <td>3</td>\n",
       "      <td>100.0</td>\n",
       "      <td>NaN</td>\n",
       "      <td>Positive</td>\n",
       "      <td>No</td>\n",
       "    </tr>\n",
       "    <tr>\n",
       "      <th>9</th>\n",
       "      <td>Emil</td>\n",
       "      <td>Male</td>\n",
       "      <td>5</td>\n",
       "      <td>NaN</td>\n",
       "      <td>18.0</td>\n",
       "      <td>Negative</td>\n",
       "      <td>No</td>\n",
       "    </tr>\n",
       "    <tr>\n",
       "      <th>10</th>\n",
       "      <td>Kelly</td>\n",
       "      <td>Female</td>\n",
       "      <td>4</td>\n",
       "      <td>100.0</td>\n",
       "      <td>18.0</td>\n",
       "      <td>Positive</td>\n",
       "      <td>Yes</td>\n",
       "    </tr>\n",
       "    <tr>\n",
       "      <th>11</th>\n",
       "      <td>Karin</td>\n",
       "      <td>Female</td>\n",
       "      <td>5</td>\n",
       "      <td>90.0</td>\n",
       "      <td>15.0</td>\n",
       "      <td>Positive</td>\n",
       "      <td>No</td>\n",
       "    </tr>\n",
       "    <tr>\n",
       "      <th>12</th>\n",
       "      <td>Sarah</td>\n",
       "      <td>Female</td>\n",
       "      <td>3</td>\n",
       "      <td>90.0</td>\n",
       "      <td>13.0</td>\n",
       "      <td>Negative</td>\n",
       "      <td>No</td>\n",
       "    </tr>\n",
       "  </tbody>\n",
       "</table>\n",
       "</div>"
      ],
      "text/plain": [
       "         Name  Gender  Age  Height  Weight      Test Fever\n",
       "0        Alis  Female    2    90.0    13.0  Negative   Yes\n",
       "1        Alex    Male    6   100.0    20.0  Negative   Yes\n",
       "2          Bo    Male    2    80.0    10.0  Negative   Yes\n",
       "3       Chris    Male    2    90.0    17.0  Positive   Yes\n",
       "4       Daisy  Female    2    90.0    17.0  Positive    No\n",
       "5        John    Male    3    96.0    15.0  Negative   Yes\n",
       "6        Kate  Female    4   100.0    19.0  Negative    No\n",
       "7   Sebastian    Male    5   110.0    19.0       N/A   Yes\n",
       "8        Mads    Male    3   100.0     NaN  Positive    No\n",
       "9        Emil    Male    5     NaN    18.0  Negative    No\n",
       "10      Kelly  Female    4   100.0    18.0  Positive   Yes\n",
       "11      Karin  Female    5    90.0    15.0  Positive    No\n",
       "12      Sarah  Female    3    90.0    13.0  Negative    No"
      ]
     },
     "execution_count": 1,
     "metadata": {},
     "output_type": "execute_result"
    }
   ],
   "source": [
    "import pandas as pd\n",
    "import numpy as np\n",
    "import matplotlib.pyplot as plt\n",
    "\n",
    "df = pd.DataFrame([['Alis', 'Female', 2, 90, 13, 'Negative', 'Yes'],\n",
    "                   ['Alex', 'Male', 6, 100, 20, 'Negative', 'Yes'],\n",
    "                   ['Bo', 'Male', 2, 80, 10, 'Negative', 'Yes'],\n",
    "                   ['Chris', 'Male', 2, 90, 17, 'Positive', 'Yes'],\n",
    "                   ['Daisy', 'Female', 2, 90, 17, 'Positive', 'No'],\n",
    "                   ['John', 'Male', 3, 96, 15, 'Negative', 'Yes'],\n",
    "                   ['Kate', 'Female', 4, 100, 19, 'Negative', 'No'],\n",
    "                   ['Sebastian', 'Male', 5, 110, 19, 'N/A', 'Yes'],\n",
    "                   ['Mads', 'Male', 3, 100, None, 'Positive', 'No'],\n",
    "                   ['Emil', 'Male', 5, None, 18, 'Negative', 'No'],\n",
    "                   ['Kelly', 'Female', 4, 100, 18, 'Positive', 'Yes'],\n",
    "                   ['Karin', 'Female', 5, 90, 15, 'Positive', 'No'],\n",
    "                   ['Sarah', 'Female', 3, 90, 13, 'Negative', 'No']], \n",
    "                  columns=[\"Name\", \"Gender\", \"Age\", \"Height\", \"Weight\", \"Test\", 'Fever'])\n",
    "\n",
    "df"
   ]
  },
  {
   "cell_type": "markdown",
   "metadata": {},
   "source": [
    "## 1. Histogram\n",
    "\n",
    "We can call plt.hist(.) directly to get the histogram for a column."
   ]
  },
  {
   "cell_type": "markdown",
   "metadata": {},
   "source": [
    "### 1.0 We create an array of numbers following a normal distribution"
   ]
  },
  {
   "cell_type": "code",
   "execution_count": 20,
   "metadata": {},
   "outputs": [
    {
     "data": {
      "image/png": "[encoded data removed]",
      "text/plain": [
       "<Figure size 432x288 with 1 Axes>"
      ]
     },
     "metadata": {
      "needs_background": "light"
     },
     "output_type": "display_data"
    }
   ],
   "source": [
    "# A normal distribution with mean=0 and std=10. The number of values is 275.\n",
    "x = np.random.normal(0, 10, 275)\n",
    "\n",
    "# If we print x, it will look like this:\n",
    "\"\"\"\n",
    "print(x)\n",
    "[-12.86467624  -1.55637358   2.04774988  -2.78593052   7.0037208\n",
    "  -2.2541189   -8.15792232 -16.54421057   4.7852369  -17.48727612\n",
    " ... ...\n",
    " -9.86399721 -15.79293859   6.11728893   9.6049965    9.6579244\n",
    "  14.4480663   -4.02353426  -0.49568545   1.29181534  -4.13082611]\n",
    "\"\"\"\n",
    "\n",
    "# Let's plot the histogram of all values in x\n",
    "plt.hist(x)\n",
    "plt.show() "
   ]
  },
  {
   "cell_type": "markdown",
   "metadata": {},
   "source": [
    "### 1.1 We create a histgram for the Fever column in the children health data."
   ]
  },
  {
   "cell_type": "code",
   "execution_count": 100,
   "metadata": {
    "scrolled": true
   },
   "outputs": [
    {
     "data": {
      "text/plain": [
       "Text(0.5, 1.0, 'Histogram of Fever')"
      ]
     },
     "execution_count": 100,
     "metadata": {},
     "output_type": "execute_result"
    },
    {
     "data": {
      "image/png": "[encoded data removed]",
      "text/plain": [
       "<Figure size 432x288 with 1 Axes>"
      ]
     },
     "metadata": {
      "needs_background": "light"
     },
     "output_type": "display_data"
    }
   ],
   "source": [
    "plt.hist(df.Fever)\n",
    "\n",
    "plt.title('Histogram of Fever')"
   ]
  },
  {
   "cell_type": "markdown",
   "metadata": {},
   "source": [
    "### 1.2 We create a function to create histgram for a given column."
   ]
  },
  {
   "cell_type": "markdown",
   "metadata": {},
   "source": [
    "A histogram like above needs some 'decorations', e.g., for the Y ticks and title. Those decorations could be the same for all such histograms. Therefore, we define a function that takes a an arbitrary column to plot histogram for and automate some things, e.g., the range of the column."
   ]
  },
  {
   "cell_type": "code",
   "execution_count": 14,
   "metadata": {},
   "outputs": [],
   "source": [
    "def plotHistgram(data, title='Histogram'):\n",
    "    plt.hist(data)\n",
    "    plt.title(title)\n",
    "    \n",
    "    # We obtain the max and min counts and use them to decide the Y ticks.\n",
    "    data_counted = data.value_counts()\n",
    "    upper = data_counted.nlargest(1).values[0]\n",
    "    lower = data_counted.nsmallest(1).values[0]\n",
    "    plt.yticks(range(0, upper+1))\n",
    "    \n",
    "    # We can also do so likewise for the X axis but it will be more complicated.\n",
    "    # A much easier way is to let the caller of this function to decide the X ticks.\n",
    "    # Parameter 'ha' means horizontal alignment for the x ticks. If you \n",
    "    #plt.xticks([3, 4, 5], ha='center')\n",
    "    plt.xticks(ha='center')"
   ]
  },
  {
   "cell_type": "markdown",
   "metadata": {},
   "source": [
    "We use the function to create a histogram for the Fever column."
   ]
  },
  {
   "cell_type": "code",
   "execution_count": 101,
   "metadata": {},
   "outputs": [
    {
     "data": {
      "image/png": "[encoded data removed]",
      "text/plain": [
       "<Figure size 432x288 with 1 Axes>"
      ]
     },
     "metadata": {
      "needs_background": "light"
     },
     "output_type": "display_data"
    }
   ],
   "source": [
    "plotHistgram(df.Fever, 'Histogram of Fever')"
   ]
  },
  {
   "cell_type": "markdown",
   "metadata": {},
   "source": [
    "We use the function to create a histogram for the Weight column."
   ]
  },
  {
   "cell_type": "code",
   "execution_count": 28,
   "metadata": {
    "scrolled": true
   },
   "outputs": [
    {
     "name": "stderr",
     "output_type": "stream",
     "text": [
      "C:\\Users\\luhua\\Anaconda3\\lib\\site-packages\\numpy\\lib\\histograms.py:839: RuntimeWarning: invalid value encountered in greater_equal\n",
      "  keep = (tmp_a >= first_edge)\n",
      "C:\\Users\\luhua\\Anaconda3\\lib\\site-packages\\numpy\\lib\\histograms.py:840: RuntimeWarning: invalid value encountered in less_equal\n",
      "  keep &= (tmp_a <= last_edge)\n"
     ]
    },
    {
     "data": {
      "image/png": "[encoded data removed]",
      "text/plain": [
       "<Figure size 432x288 with 1 Axes>"
      ]
     },
     "metadata": {
      "needs_background": "light"
     },
     "output_type": "display_data"
    }
   ],
   "source": [
    "plotHistgram(df.Weight)"
   ]
  },
  {
   "cell_type": "markdown",
   "metadata": {},
   "source": [
    "For the Age column."
   ]
  },
  {
   "cell_type": "code",
   "execution_count": 29,
   "metadata": {
    "scrolled": false
   },
   "outputs": [
    {
     "data": {
      "text/plain": [
       "([<matplotlib.axis.XTick at 0x1f72a475070>,\n",
       "  <matplotlib.axis.XTick at 0x1f72a475730>,\n",
       "  <matplotlib.axis.XTick at 0x1f72a4e5c70>,\n",
       "  <matplotlib.axis.XTick at 0x1f72a53dee0>,\n",
       "  <matplotlib.axis.XTick at 0x1f72a527be0>],\n",
       " <a list of 5 Text major ticklabel objects>)"
      ]
     },
     "execution_count": 29,
     "metadata": {},
     "output_type": "execute_result"
    },
    {
     "data": {
      "image/png": "[encoded data removed]",
      "text/plain": [
       "<Figure size 432x288 with 1 Axes>"
      ]
     },
     "metadata": {
      "needs_background": "light"
     },
     "output_type": "display_data"
    }
   ],
   "source": [
    "plotHistgram(df.Age)\n",
    "plt.xticks([2, 3, 4, 5, 6], ha='left')"
   ]
  },
  {
   "cell_type": "markdown",
   "metadata": {},
   "source": [
    "### 1.3 More decorations\n",
    "\n",
    "If the x ticks are of (long) strings, we may specify its horizontal alignment (**ha**) and rotation mode (**rotation_mode**) to make it look better.\n",
    "* ha: 'left', 'center', 'right'\n",
    "* va: \"top\", \"center\", \"baseline\", \"bottom\" (for vertial alignment for y ticks)\n",
    "* rotation_mode:<br>\n",
    "    * 'default' (or None): first rotates the text and then aligns the bounding box of the rotated text.\n",
    "    * 'anchor': aligns the unrotated text and then rotates the text around the point of alignment.\n",
    "    \n",
    "It may cost some time to show ticks in the best way through aligment and rotation, or it may not always possible to have them in the way you want if there's not much room for maneuver. "
   ]
  },
  {
   "cell_type": "code",
   "execution_count": 33,
   "metadata": {},
   "outputs": [
    {
     "data": {
      "text/plain": [
       "([0, 1, 2], <a list of 3 Text major ticklabel objects>)"
      ]
     },
     "execution_count": 33,
     "metadata": {},
     "output_type": "execute_result"
    },
    {
     "data": {
      "image/png": "[encoded data removed]",
      "text/plain": [
       "<Figure size 432x288 with 1 Axes>"
      ]
     },
     "metadata": {
      "needs_background": "light"
     },
     "output_type": "display_data"
    }
   ],
   "source": [
    "plotHistgram(df.Test)\n",
    "plt.xticks(rotation=45, ha='right', rotation_mode='default')"
   ]
  },
  {
   "cell_type": "markdown",
   "metadata": {},
   "source": [
    "### 1.4 (Exercise) Make a histogram for Age *without* using the function defined above."
   ]
  },
  {
   "cell_type": "code",
   "execution_count": 107,
   "metadata": {
    "scrolled": true
   },
   "outputs": [
    {
     "data": {
      "text/plain": [
       "([<matplotlib.axis.XTick at 0x222eb235c10>,\n",
       "  <matplotlib.axis.XTick at 0x222eb235fd0>,\n",
       "  <matplotlib.axis.XTick at 0x222eb23c520>,\n",
       "  <matplotlib.axis.XTick at 0x222eb28a910>,\n",
       "  <matplotlib.axis.XTick at 0x222eb28ae20>],\n",
       " <a list of 5 Text major ticklabel objects>)"
      ]
     },
     "execution_count": 107,
     "metadata": {},
     "output_type": "execute_result"
    },
    {
     "data": {
      "image/png": "[encoded data removed]",
      "text/plain": [
       "<Figure size 432x288 with 1 Axes>"
      ]
     },
     "metadata": {
      "needs_background": "light"
     },
     "output_type": "display_data"
    }
   ],
   "source": [
    "plt.hist(df.Age)\n",
    "\n",
    "x_min = df.min(axis=0)['Age']\n",
    "x_max = df.max(axis=0)['Age']\n",
    "\n",
    "xticks = list(range(x_min, x_max+1))\n",
    "plt.xticks(xticks, ha='left')"
   ]
  },
  {
   "cell_type": "markdown",
   "metadata": {},
   "source": [
    "There are many tricks to beautify such a histogram, e.g., to position the bars closer or distanter from each other, to customize the X ticks. You may find such low level details from online examples if you need to use them. NB: They could be time-consuming to implement. "
   ]
  },
  {
   "cell_type": "markdown",
   "metadata": {},
   "source": [
    "### 1.5 (Exercise) Make a histogram for Height using the function defined above."
   ]
  },
  {
   "cell_type": "code",
   "execution_count": 15,
   "metadata": {},
   "outputs": [
    {
     "name": "stderr",
     "output_type": "stream",
     "text": [
      "C:\\Users\\luhua\\Anaconda3\\lib\\site-packages\\numpy\\lib\\histograms.py:839: RuntimeWarning: invalid value encountered in greater_equal\n",
      "  keep = (tmp_a >= first_edge)\n",
      "C:\\Users\\luhua\\Anaconda3\\lib\\site-packages\\numpy\\lib\\histograms.py:840: RuntimeWarning: invalid value encountered in less_equal\n",
      "  keep &= (tmp_a <= last_edge)\n"
     ]
    },
    {
     "data": {
      "image/png": "[encoded data removed]",
      "text/plain": [
       "<Figure size 432x288 with 1 Axes>"
      ]
     },
     "metadata": {
      "needs_background": "light"
     },
     "output_type": "display_data"
    }
   ],
   "source": [
    "plotHistgram(df.Height)"
   ]
  },
  {
   "cell_type": "markdown",
   "metadata": {},
   "source": [
    "### *1.6 Bins and bar width of histogram (Optional)\n",
    "\n",
    "If you watch the histgram of Age carefully, you'll notice that the intervals between each pair of bars are not equal. \n",
    "It is because the number of 'bins' in plt.hist() is set to 10 by default. So there are acually 10 bars in the histgram, but only five of them have samples so they're blue. \n",
    "\n",
    "Let's try to beautify the histogram."
   ]
  },
  {
   "cell_type": "markdown",
   "metadata": {},
   "source": [
    "### bins\n",
    "'bins' can be:\n",
    "* int. It defines the number of equal-width bins in the range. \n",
    "* sequence. It defines the bin edges, including the left edge of the first bin and the right edge of the last bin; in this case, bins may be unequally spaced. All but the last (righthand-most) bin is half-open。\n",
    "* string. You can refer to https://matplotlib.org/stable/api/_as_gen/matplotlib.pyplot.hist.html for more description. \n",
    "\n",
    "We have 13 samples in this dataframe, each of them has an unique name, but there are bins that values=2 in the Name Histgram. This is because the default number of bins is 10, then some bars are merged."
   ]
  },
  {
   "cell_type": "code",
   "execution_count": 19,
   "metadata": {},
   "outputs": [
    {
     "data": {
      "image/png": "[encoded data removed]",
      "text/plain": [
       "<Figure size 432x288 with 1 Axes>"
      ]
     },
     "metadata": {
      "needs_background": "light"
     },
     "output_type": "display_data"
    }
   ],
   "source": [
    "plotHistgram(df.Name)"
   ]
  },
  {
   "cell_type": "markdown",
   "metadata": {},
   "source": [
    "If we set 'bins' into 13, which equals to the actual number of bars. Then each bar in the histogram has the same value 1."
   ]
  },
  {
   "cell_type": "code",
   "execution_count": 23,
   "metadata": {},
   "outputs": [
    {
     "data": {
      "text/plain": [
       "Text(0.5, 1.0, 'Histogram')"
      ]
     },
     "execution_count": 23,
     "metadata": {},
     "output_type": "execute_result"
    },
    {
     "data": {
      "image/png": "[encoded data removed]",
      "text/plain": [
       "<Figure size 432x288 with 1 Axes>"
      ]
     },
     "metadata": {
      "needs_background": "light"
     },
     "output_type": "display_data"
    }
   ],
   "source": [
    "plt.hist(df.Name, bins=13)\n",
    "plt.title(\"Histogram\")"
   ]
  },
  {
   "cell_type": "markdown",
   "metadata": {},
   "source": [
    "### rwidth\n",
    "All bars are connected to each other which is not beatiful. Next we can reset the 'rwidth' which is the relative width of the bars as a fraction of the bin width"
   ]
  },
  {
   "cell_type": "code",
   "execution_count": 26,
   "metadata": {},
   "outputs": [
    {
     "data": {
      "text/plain": [
       "([0, 1, 2, 3, 4, 5, 6, 7, 8, 9, 10, 11, 12],\n",
       " [Text(0, 0, 'Alis'),\n",
       "  Text(1, 0, 'Alex'),\n",
       "  Text(2, 0, 'Bo'),\n",
       "  Text(3, 0, 'Chris'),\n",
       "  Text(4, 0, 'Daisy'),\n",
       "  Text(5, 0, 'John'),\n",
       "  Text(6, 0, 'Kate'),\n",
       "  Text(7, 0, 'Sebastian'),\n",
       "  Text(8, 0, 'Mads'),\n",
       "  Text(9, 0, 'Emil'),\n",
       "  Text(10, 0, 'Kelly'),\n",
       "  Text(11, 0, 'Karin'),\n",
       "  Text(12, 0, 'Sarah')])"
      ]
     },
     "execution_count": 26,
     "metadata": {},
     "output_type": "execute_result"
    },
    {
     "data": {
      "image/png": "[encoded data removed]",
      "text/plain": [
       "<Figure size 432x288 with 1 Axes>"
      ]
     },
     "metadata": {
      "needs_background": "light"
     },
     "output_type": "display_data"
    }
   ],
   "source": [
    "plt.hist(df.Name, bins=13, rwidth=0.8)\n",
    "plt.title(\"Histogram\")\n",
    "plt.xticks(rotation=45, ha='right', rotation_mode='default')"
   ]
  },
  {
   "cell_type": "markdown",
   "metadata": {},
   "source": [
    "It looks better but the bars are still not aligned with the xlabels. This is because all the width of bins are equally  set to range/num_bins. Try setting 'bins' to sequence."
   ]
  },
  {
   "cell_type": "code",
   "execution_count": 28,
   "metadata": {},
   "outputs": [
    {
     "data": {
      "text/plain": [
       "([0, 1, 2, 3, 4, 5, 6, 7, 8, 9, 10, 11, 12],\n",
       " [Text(0, 0, 'Alis'),\n",
       "  Text(1, 0, 'Alex'),\n",
       "  Text(2, 0, 'Bo'),\n",
       "  Text(3, 0, 'Chris'),\n",
       "  Text(4, 0, 'Daisy'),\n",
       "  Text(5, 0, 'John'),\n",
       "  Text(6, 0, 'Kate'),\n",
       "  Text(7, 0, 'Sebastian'),\n",
       "  Text(8, 0, 'Mads'),\n",
       "  Text(9, 0, 'Emil'),\n",
       "  Text(10, 0, 'Kelly'),\n",
       "  Text(11, 0, 'Karin'),\n",
       "  Text(12, 0, 'Sarah')])"
      ]
     },
     "execution_count": 28,
     "metadata": {},
     "output_type": "execute_result"
    },
    {
     "data": {
      "image/png": "[encoded data removed]",
      "text/plain": [
       "<Figure size 432x288 with 1 Axes>"
      ]
     },
     "metadata": {
      "needs_background": "light"
     },
     "output_type": "display_data"
    }
   ],
   "source": [
    "plt.hist(df.Name, bins=['Alis', 'Alex', 'Bo', 'Chris', 'Daisy', 'John', 'Kate', 'Sebastian', 'Mads', 'Emil', 'Kelly', 'Karin', 'Sarah'], rwidth=0.8)\n",
    "plt.title(\"Histogram\")\n",
    "plt.xticks(rotation=45, ha='right', rotation_mode='default')"
   ]
  },
  {
   "cell_type": "markdown",
   "metadata": {},
   "source": [
    "Now every bar is located in the center of each interval. Looks pretty good!\n",
    "You can also change the alignment mode by setting the 'align' to 'left' or 'right'"
   ]
  },
  {
   "cell_type": "code",
   "execution_count": 29,
   "metadata": {},
   "outputs": [
    {
     "data": {
      "text/plain": [
       "([0, 1, 2, 3, 4, 5, 6, 7, 8, 9, 10, 11, 12],\n",
       " [Text(0, 0, 'Alis'),\n",
       "  Text(1, 0, 'Alex'),\n",
       "  Text(2, 0, 'Bo'),\n",
       "  Text(3, 0, 'Chris'),\n",
       "  Text(4, 0, 'Daisy'),\n",
       "  Text(5, 0, 'John'),\n",
       "  Text(6, 0, 'Kate'),\n",
       "  Text(7, 0, 'Sebastian'),\n",
       "  Text(8, 0, 'Mads'),\n",
       "  Text(9, 0, 'Emil'),\n",
       "  Text(10, 0, 'Kelly'),\n",
       "  Text(11, 0, 'Karin'),\n",
       "  Text(12, 0, 'Sarah')])"
      ]
     },
     "execution_count": 29,
     "metadata": {},
     "output_type": "execute_result"
    },
    {
     "data": {
      "image/png": "[encoded data removed]",
      "text/plain": [
       "<Figure size 432x288 with 1 Axes>"
      ]
     },
     "metadata": {
      "needs_background": "light"
     },
     "output_type": "display_data"
    }
   ],
   "source": [
    "plt.hist(df.Name, bins=['Alis', 'Alex', 'Bo', 'Chris', 'Daisy', 'John', 'Kate', 'Sebastian', 'Mads', 'Emil', 'Kelly', 'Karin', 'Sarah'], rwidth=0.8, align='left')\n",
    "plt.title(\"Histogram\")\n",
    "plt.xticks(rotation=45, ha='right', rotation_mode='default')"
   ]
  },
  {
   "cell_type": "markdown",
   "metadata": {},
   "source": [
    "## 2. Bar chart"
   ]
  },
  {
   "cell_type": "markdown",
   "metadata": {},
   "source": [
    "### 2.1 Make a bar chart about the age of all kids."
   ]
  },
  {
   "cell_type": "code",
   "execution_count": 108,
   "metadata": {
    "scrolled": true
   },
   "outputs": [
    {
     "data": {
      "text/plain": [
       "Text(0.5, 1.0, 'Age of each kid')"
      ]
     },
     "execution_count": 108,
     "metadata": {},
     "output_type": "execute_result"
    },
    {
     "data": {
      "image/png": "[encoded data removed]",
      "text/plain": [
       "<Figure size 432x288 with 1 Axes>"
      ]
     },
     "metadata": {
      "needs_background": "light"
     },
     "output_type": "display_data"
    }
   ],
   "source": [
    "plt.bar(df.Name, df.Age)\n",
    "plt.xlabel('Names')\n",
    "plt.xticks(ha='right', rotation_mode='anchor', rotation=45)\n",
    "plt.ylabel('Age')\n",
    "plt.title('Age of each kid')"
   ]
  },
  {
   "cell_type": "markdown",
   "metadata": {},
   "source": [
    "### 2.2 Make a bar chart about the number of kids per each gender group."
   ]
  },
  {
   "cell_type": "code",
   "execution_count": 113,
   "metadata": {},
   "outputs": [
    {
     "data": {
      "text/plain": [
       "Gender\n",
       "Female    6\n",
       "Male      7\n",
       "Name: Name, dtype: int64"
      ]
     },
     "execution_count": 113,
     "metadata": {},
     "output_type": "execute_result"
    }
   ],
   "source": [
    "series_1 = df.groupby(['Gender'])['Name'].count()\n",
    "series_1"
   ]
  },
  {
   "cell_type": "code",
   "execution_count": 114,
   "metadata": {
    "scrolled": true
   },
   "outputs": [
    {
     "data": {
      "text/plain": [
       "Text(0, 0.5, '#Kids')"
      ]
     },
     "execution_count": 114,
     "metadata": {},
     "output_type": "execute_result"
    },
    {
     "data": {
      "image/png": "[encoded data removed]",
      "text/plain": [
       "<Figure size 432x288 with 1 Axes>"
      ]
     },
     "metadata": {
      "needs_background": "light"
     },
     "output_type": "display_data"
    }
   ],
   "source": [
    "plt.bar(series_1.index, series_1.values)\n",
    "plt.title('Number of kids per gender')\n",
    "plt.yticks(series_1.values)\n",
    "plt.xlabel('Gender')\n",
    "plt.ylabel('#Kids')"
   ]
  },
  {
   "cell_type": "markdown",
   "metadata": {},
   "source": [
    "### 2.3 Make a bar chart about the number of Positives and Negatives of each gender group."
   ]
  },
  {
   "cell_type": "code",
   "execution_count": 118,
   "metadata": {
    "scrolled": true
   },
   "outputs": [
    {
     "data": {
      "text/plain": [
       "Gender  Test    \n",
       "Female  Negative    3\n",
       "        Positive    3\n",
       "Male    N/A         1\n",
       "        Negative    4\n",
       "        Positive    2\n",
       "Name: Test, dtype: int64"
      ]
     },
     "execution_count": 118,
     "metadata": {},
     "output_type": "execute_result"
    }
   ],
   "source": [
    "series_3 = df.groupby(['Gender', 'Test'])['Test'].count()\n",
    "series_3"
   ]
  },
  {
   "cell_type": "code",
   "execution_count": 141,
   "metadata": {
    "scrolled": false
   },
   "outputs": [
    {
     "data": {
      "text/plain": [
       "([<matplotlib.axis.YTick at 0x222eca31670>,\n",
       "  <matplotlib.axis.YTick at 0x222eca31220>,\n",
       "  <matplotlib.axis.YTick at 0x222eca0b310>,\n",
       "  <matplotlib.axis.YTick at 0x222eab12820>,\n",
       "  <matplotlib.axis.YTick at 0x222eca789a0>],\n",
       " <a list of 5 Text major ticklabel objects>)"
      ]
     },
     "execution_count": 141,
     "metadata": {},
     "output_type": "execute_result"
    },
    {
     "data": {
      "image/png": "[encoded data removed]",
      "text/plain": [
       "<Figure size 432x288 with 1 Axes>"
      ]
     },
     "metadata": {
      "needs_background": "light"
     },
     "output_type": "display_data"
    }
   ],
   "source": [
    "# Below rot=0 is needed to make the x ticks horizontal\n",
    "series_3.unstack().plot(kind='bar', rot=0)\n",
    "plt.yticks(series_3.values)"
   ]
  },
  {
   "cell_type": "markdown",
   "metadata": {},
   "source": [
    "We may also show the bars in a stacked way, by set 'stacked' to True."
   ]
  },
  {
   "cell_type": "code",
   "execution_count": 164,
   "metadata": {},
   "outputs": [
    {
     "data": {
      "text/plain": [
       "([<matplotlib.axis.YTick at 0x222edf20340>,\n",
       "  <matplotlib.axis.YTick at 0x222edf1aeb0>,\n",
       "  <matplotlib.axis.YTick at 0x222edef3370>,\n",
       "  <matplotlib.axis.YTick at 0x222ede48640>,\n",
       "  <matplotlib.axis.YTick at 0x222edf60af0>,\n",
       "  <matplotlib.axis.YTick at 0x222edf66040>,\n",
       "  <matplotlib.axis.YTick at 0x222edf66550>,\n",
       "  <matplotlib.axis.YTick at 0x222edf66a60>],\n",
       " <a list of 8 Text major ticklabel objects>)"
      ]
     },
     "execution_count": 164,
     "metadata": {},
     "output_type": "execute_result"
    },
    {
     "data": {
      "image/png": "[encoded data removed]",
      "text/plain": [
       "<Figure size 432x288 with 1 Axes>"
      ]
     },
     "metadata": {
      "needs_background": "light"
     },
     "output_type": "display_data"
    }
   ],
   "source": [
    "# Below the width parameter specifies the width of the bars\n",
    "series_3.unstack().plot(kind='bar', stacked=True, rot=0, width=0.2)\n",
    "\n",
    "# We should set the y ticks differently as above\n",
    "# We get two counts each for a gender group\n",
    "counts = df.groupby(['Gender'])['Test'].count()\n",
    "# We use the larger count as the upper limit for the y ticks\n",
    "plt.yticks(range(0, counts.values.max()+1))"
   ]
  },
  {
   "cell_type": "markdown",
   "metadata": {},
   "source": [
    "### 2.4 (**Exercise**) Make a bar chart about the height (or weight) of all kids."
   ]
  },
  {
   "cell_type": "code",
   "execution_count": 110,
   "metadata": {
    "scrolled": true
   },
   "outputs": [
    {
     "data": {
      "text/plain": [
       "Text(0.5, 1.0, 'Height of each kid')"
      ]
     },
     "execution_count": 110,
     "metadata": {},
     "output_type": "execute_result"
    },
    {
     "data": {
      "image/png": "[encoded data removed]",
      "text/plain": [
       "<Figure size 432x288 with 1 Axes>"
      ]
     },
     "metadata": {
      "needs_background": "light"
     },
     "output_type": "display_data"
    }
   ],
   "source": [
    "plt.bar(df.Name, df.Height)\n",
    "plt.xlabel('Names')\n",
    "plt.xticks(ha='right', rotation_mode='anchor', rotation=45)\n",
    "plt.ylabel('Height (cm)')\n",
    "plt.title('Height of each kid')"
   ]
  },
  {
   "cell_type": "code",
   "execution_count": 20,
   "metadata": {
    "scrolled": true
   },
   "outputs": [
    {
     "data": {
      "text/plain": [
       "Text(0.5, 1.0, 'Weight of each kid')"
      ]
     },
     "execution_count": 20,
     "metadata": {},
     "output_type": "execute_result"
    },
    {
     "data": {
      "image/png": "[encoded data removed]",
      "text/plain": [
       "<Figure size 432x288 with 1 Axes>"
      ]
     },
     "metadata": {
      "needs_background": "light"
     },
     "output_type": "display_data"
    }
   ],
   "source": [
    "plt.bar(df.Name, df.Weight)\n",
    "plt.xlabel('Names')\n",
    "plt.xticks(ha='right', rotation_mode='anchor', rotation=45)\n",
    "plt.ylabel('Weight (kg)')\n",
    "plt.title('Weight of each kid')"
   ]
  },
  {
   "cell_type": "markdown",
   "metadata": {},
   "source": [
    "### 2.5 (**Exercise**) Make a bar chart about the number of kids per each test result group."
   ]
  },
  {
   "cell_type": "code",
   "execution_count": 23,
   "metadata": {},
   "outputs": [
    {
     "data": {
      "text/plain": [
       "Test\n",
       "N/A         1\n",
       "Negative    7\n",
       "Positive    5\n",
       "Name: Name, dtype: int64"
      ]
     },
     "execution_count": 23,
     "metadata": {},
     "output_type": "execute_result"
    }
   ],
   "source": [
    "series_2 = df.groupby(['Test'])['Name'].count()\n",
    "series_2"
   ]
  },
  {
   "cell_type": "code",
   "execution_count": 25,
   "metadata": {
    "scrolled": true
   },
   "outputs": [
    {
     "data": {
      "text/plain": [
       "Text(0, 0.5, '#Kids')"
      ]
     },
     "execution_count": 25,
     "metadata": {},
     "output_type": "execute_result"
    },
    {
     "data": {
      "image/png": "[encoded data removed]",
      "text/plain": [
       "<Figure size 432x288 with 1 Axes>"
      ]
     },
     "metadata": {
      "needs_background": "light"
     },
     "output_type": "display_data"
    }
   ],
   "source": [
    "plt.bar(series_2.index, series_2.values)\n",
    "plt.title('Number of kids per test result')\n",
    "plt.yticks(series_2.values)\n",
    "plt.xlabel('Test result')\n",
    "plt.ylabel('#Kids')"
   ]
  },
  {
   "cell_type": "markdown",
   "metadata": {},
   "source": [
    "### 2.6 (**Exercise**) Make a bar chart about the number of fever cases and no-fever cases of each gender group."
   ]
  },
  {
   "cell_type": "code",
   "execution_count": 21,
   "metadata": {},
   "outputs": [
    {
     "data": {
      "text/plain": [
       "Gender  Fever\n",
       "Female  No       4\n",
       "        Yes      2\n",
       "Male    No       2\n",
       "        Yes      5\n",
       "Name: Fever, dtype: int64"
      ]
     },
     "execution_count": 21,
     "metadata": {},
     "output_type": "execute_result"
    }
   ],
   "source": [
    "series_4 = df.groupby(['Gender', 'Fever'])['Fever'].count()\n",
    "series_4"
   ]
  },
  {
   "cell_type": "code",
   "execution_count": 24,
   "metadata": {},
   "outputs": [
    {
     "data": {
      "text/plain": [
       "([<matplotlib.axis.YTick at 0x1f72b736b20>,\n",
       "  <matplotlib.axis.YTick at 0x1f72b736460>,\n",
       "  <matplotlib.axis.YTick at 0x1f72b701970>,\n",
       "  <matplotlib.axis.YTick at 0x1f72b665100>],\n",
       " <a list of 4 Text major ticklabel objects>)"
      ]
     },
     "execution_count": 24,
     "metadata": {},
     "output_type": "execute_result"
    },
    {
     "data": {
      "image/png": "[encoded data removed]",
      "text/plain": [
       "<Figure size 432x288 with 1 Axes>"
      ]
     },
     "metadata": {
      "needs_background": "light"
     },
     "output_type": "display_data"
    }
   ],
   "source": [
    "series_4.unstack().plot(kind='bar', rot=0, width=0.2)\n",
    "plt.yticks(series_4.values)"
   ]
  },
  {
   "cell_type": "code",
   "execution_count": 25,
   "metadata": {
    "scrolled": false
   },
   "outputs": [
    {
     "data": {
      "text/plain": [
       "([<matplotlib.axis.YTick at 0x1f72b6018b0>,\n",
       "  <matplotlib.axis.YTick at 0x1f72b6010a0>,\n",
       "  <matplotlib.axis.YTick at 0x1f72b902340>,\n",
       "  <matplotlib.axis.YTick at 0x1f72a0cab20>],\n",
       " <a list of 4 Text major ticklabel objects>)"
      ]
     },
     "execution_count": 25,
     "metadata": {},
     "output_type": "execute_result"
    },
    {
     "data": {
      "image/png": "[encoded data removed]",
      "text/plain": [
       "<Figure size 432x288 with 1 Axes>"
      ]
     },
     "metadata": {
      "needs_background": "light"
     },
     "output_type": "display_data"
    }
   ],
   "source": [
    "series_4.unstack().plot(kind='bar', stacked=True, rot=0, width=0.2)\n",
    "plt.yticks(series_4.values*2)"
   ]
  },
  {
   "cell_type": "markdown",
   "metadata": {},
   "source": [
    "## 3. Boxplot"
   ]
  },
  {
   "cell_type": "markdown",
   "metadata": {},
   "source": [
    "### 3.1 Get the statistics of Age and make a boxplot for it"
   ]
  },
  {
   "cell_type": "code",
   "execution_count": 121,
   "metadata": {
    "scrolled": true
   },
   "outputs": [
    {
     "data": {
      "text/plain": [
       "count    13.000000\n",
       "mean      3.538462\n",
       "std       1.391365\n",
       "min       2.000000\n",
       "25%       2.000000\n",
       "50%       3.000000\n",
       "75%       5.000000\n",
       "max       6.000000\n",
       "Name: Age, dtype: float64"
      ]
     },
     "execution_count": 121,
     "metadata": {},
     "output_type": "execute_result"
    }
   ],
   "source": [
    "df['Age'].describe()"
   ]
  },
  {
   "cell_type": "code",
   "execution_count": 122,
   "metadata": {
    "scrolled": true
   },
   "outputs": [
    {
     "data": {
      "text/plain": [
       "([<matplotlib.axis.XTick at 0x222e81444f0>], [Text(0, 0, 'Age')])"
      ]
     },
     "execution_count": 122,
     "metadata": {},
     "output_type": "execute_result"
    },
    {
     "data": {
      "image/png": "[encoded data removed]",
      "text/plain": [
       "<Figure size 432x288 with 1 Axes>"
      ]
     },
     "metadata": {
      "needs_background": "light"
     },
     "output_type": "display_data"
    }
   ],
   "source": [
    "import matplotlib.pyplot as plt\n",
    "\n",
    "plt.boxplot(df['Age'])\n",
    "plt.xticks([1], ['Age'])"
   ]
  },
  {
   "cell_type": "markdown",
   "metadata": {},
   "source": [
    "### 3.2 Get the statistics of Age for each gender group and make a boxplot for each"
   ]
  },
  {
   "cell_type": "code",
   "execution_count": 133,
   "metadata": {},
   "outputs": [
    {
     "data": {
      "text/plain": [
       "([<matplotlib.axis.XTick at 0x222ec592070>,\n",
       "  <matplotlib.axis.XTick at 0x222ec797940>],\n",
       " [Text(0, 0, 'Male'), Text(0, 0, 'Female')])"
      ]
     },
     "execution_count": 133,
     "metadata": {},
     "output_type": "execute_result"
    },
    {
     "data": {
      "image/png": "[encoded data removed]",
      "text/plain": [
       "<Figure size 432x288 with 1 Axes>"
      ]
     },
     "metadata": {
      "needs_background": "light"
     },
     "output_type": "display_data"
    }
   ],
   "source": [
    "# We prepare a list of series objects, each having the age values for a specific gender.\n",
    "data2plot = [df['Age'][df.Gender == 'Male'],\n",
    "             df['Age'][df.Gender == 'Female']]\n",
    "\n",
    "# We pass the list to boxplot() which will make a boxplot for each series object in the list\n",
    "plt.boxplot(data2plot)\n",
    "\n",
    "# Below, the first argument specifies the positions on the x axis to place the ticks,\n",
    "# and the second argument gives a list of labels for the x ticks\n",
    "plt.xticks(range(1, 3), ['Male', 'Female'], ha='center')\n",
    "\n",
    "# We also save the graph into a disk file\n",
    "#plt.savefig('boxes.jpg', dpi=300, bbox_inches='tight')"
   ]
  },
  {
   "cell_type": "markdown",
   "metadata": {},
   "source": [
    "### 3.3 (Exercise) Make a boxplot for Weight\n",
    "\n",
    "You need to assign values to missing values on Weight, otherwise nothing will be plotted. You may use forward filling (ffill)  on the data."
   ]
  },
  {
   "cell_type": "code",
   "execution_count": 134,
   "metadata": {},
   "outputs": [
    {
     "name": "stderr",
     "output_type": "stream",
     "text": [
      "C:\\Users\\luhua\\Anaconda3\\lib\\site-packages\\matplotlib\\cbook\\__init__.py:1239: RuntimeWarning: invalid value encountered in less_equal\n",
      "  wiskhi = x[x <= hival]\n",
      "C:\\Users\\luhua\\Anaconda3\\lib\\site-packages\\matplotlib\\cbook\\__init__.py:1246: RuntimeWarning: invalid value encountered in greater_equal\n",
      "  wisklo = x[x >= loval]\n",
      "C:\\Users\\luhua\\Anaconda3\\lib\\site-packages\\matplotlib\\cbook\\__init__.py:1254: RuntimeWarning: invalid value encountered in less\n",
      "  x[x < stats['whislo']],\n",
      "C:\\Users\\luhua\\Anaconda3\\lib\\site-packages\\matplotlib\\cbook\\__init__.py:1255: RuntimeWarning: invalid value encountered in greater\n",
      "  x[x > stats['whishi']],\n"
     ]
    },
    {
     "data": {
      "text/plain": [
       "{'whiskers': [<matplotlib.lines.Line2D at 0x222ec837700>,\n",
       "  <matplotlib.lines.Line2D at 0x222ec837a60>],\n",
       " 'caps': [<matplotlib.lines.Line2D at 0x222ec837dc0>,\n",
       "  <matplotlib.lines.Line2D at 0x222ec842160>],\n",
       " 'boxes': [<matplotlib.lines.Line2D at 0x222ec837550>],\n",
       " 'medians': [<matplotlib.lines.Line2D at 0x222ec8424c0>],\n",
       " 'fliers': [<matplotlib.lines.Line2D at 0x222ec8427c0>],\n",
       " 'means': []}"
      ]
     },
     "execution_count": 134,
     "metadata": {},
     "output_type": "execute_result"
    },
    {
     "data": {
      "image/png": "[encoded data removed]",
      "text/plain": [
       "<Figure size 432x288 with 1 Axes>"
      ]
     },
     "metadata": {
      "needs_background": "light"
     },
     "output_type": "display_data"
    }
   ],
   "source": [
    "plt.boxplot(df['Weight'])"
   ]
  },
  {
   "cell_type": "code",
   "execution_count": 4,
   "metadata": {
    "scrolled": true
   },
   "outputs": [
    {
     "data": {
      "text/plain": [
       "Text(0.5, 0, 'Weight')"
      ]
     },
     "execution_count": 4,
     "metadata": {},
     "output_type": "execute_result"
    },
    {
     "data": {
      "image/png": "[encoded data removed]",
      "text/plain": [
       "<Figure size 432x288 with 1 Axes>"
      ]
     },
     "metadata": {
      "needs_background": "light"
     },
     "output_type": "display_data"
    }
   ],
   "source": [
    "df2 = df.ffill()\n",
    "df2['Weight'].describe()\n",
    "plt.boxplot(df2['Weight'])\n",
    "plt.xlabel('Weight')"
   ]
  },
  {
   "cell_type": "markdown",
   "metadata": {},
   "source": [
    "### 3.4 (Exercise) Make two boxplots of Weight each for a gender group, in a single figure.\n",
    "\n",
    "You also need to fill in for the missing value first."
   ]
  },
  {
   "cell_type": "code",
   "execution_count": 5,
   "metadata": {},
   "outputs": [
    {
     "data": {
      "text/plain": [
       "([<matplotlib.axis.XTick at 0x259d4e53790>,\n",
       "  <matplotlib.axis.XTick at 0x259d4e53760>],\n",
       " [Text(0, 0, 'Male'), Text(0, 0, 'Female')])"
      ]
     },
     "execution_count": 5,
     "metadata": {},
     "output_type": "execute_result"
    },
    {
     "data": {
      "image/png": "[encoded data removed]",
      "text/plain": [
       "<Figure size 432x288 with 1 Axes>"
      ]
     },
     "metadata": {
      "needs_background": "light"
     },
     "output_type": "display_data"
    }
   ],
   "source": [
    "data2plot = [df2['Weight'][df.Gender == 'Male'],\n",
    "             df2['Weight'][df.Gender == 'Female']]\n",
    "plt.boxplot(data2plot)\n",
    "plt.xticks(range(1, 3), ['Male', 'Female'], ha='center')"
   ]
  },
  {
   "cell_type": "markdown",
   "metadata": {},
   "source": [
    "### 3.5 (Exercise) Make two boxplots of Height each for a gender group, in a single figure.\n",
    "\n",
    "You also need to fill in for the missing value first."
   ]
  },
  {
   "cell_type": "code",
   "execution_count": 6,
   "metadata": {},
   "outputs": [
    {
     "data": {
      "text/plain": [
       "([<matplotlib.axis.XTick at 0x259d4ecb0a0>,\n",
       "  <matplotlib.axis.XTick at 0x259d4ecb070>],\n",
       " [Text(0, 0, 'Male'), Text(0, 0, 'Female')])"
      ]
     },
     "execution_count": 6,
     "metadata": {},
     "output_type": "execute_result"
    },
    {
     "data": {
      "image/png": "[encoded data removed]",
      "text/plain": [
       "<Figure size 432x288 with 1 Axes>"
      ]
     },
     "metadata": {
      "needs_background": "light"
     },
     "output_type": "display_data"
    }
   ],
   "source": [
    "df3 = df.ffill()\n",
    "data2plot = [df3['Height'][df.Gender == 'Male'],\n",
    "             df3['Height'][df.Gender == 'Female']]\n",
    "plt.boxplot(data2plot)\n",
    "plt.xticks(range(1, 3), ['Male', 'Female'], ha='center')"
   ]
  },
  {
   "cell_type": "markdown",
   "metadata": {},
   "source": [
    "## 4. Scatterplot"
   ]
  },
  {
   "cell_type": "markdown",
   "metadata": {},
   "source": [
    "### 4.1 Age-weight scatterplot"
   ]
  },
  {
   "cell_type": "code",
   "execution_count": 14,
   "metadata": {},
   "outputs": [
    {
     "data": {
      "text/plain": [
       "Text(0, 0.5, 'Weight')"
      ]
     },
     "execution_count": 14,
     "metadata": {},
     "output_type": "execute_result"
    },
    {
     "data": {
      "image/png": "[encoded data removed]",
      "text/plain": [
       "<Figure size 432x288 with 1 Axes>"
      ]
     },
     "metadata": {
      "needs_background": "light"
     },
     "output_type": "display_data"
    }
   ],
   "source": [
    "age_weight = df[['Age', 'Weight']]\n",
    "plt.scatter(age_weight.Age, age_weight.Weight)\n",
    "plt.xlabel('Age')\n",
    "plt.ylabel('Weight')"
   ]
  },
  {
   "cell_type": "markdown",
   "metadata": {},
   "source": [
    "### 4.2 Age-weight scatterplot for each gender group"
   ]
  },
  {
   "cell_type": "code",
   "execution_count": 13,
   "metadata": {},
   "outputs": [
    {
     "data": {
      "image/png": "[encoded data removed]",
      "text/plain": [
       "<Figure size 432x288 with 1 Axes>"
      ]
     },
     "metadata": {
      "needs_background": "light"
     },
     "output_type": "display_data"
    }
   ],
   "source": [
    "groups = df.groupby('Gender')\n",
    "\n",
    "# Plot\n",
    "fig, ax = plt.subplots()\n",
    "ax.margins(0.05) # Optional, just adds 5% padding to the autoscaling\n",
    "for name, group in groups:\n",
    "    ax.plot(group.Age, group.Weight, marker='o', linestyle='', label=name)\n",
    "ax.legend()\n",
    "\n",
    "plt.xlabel('Age')\n",
    "plt.ylabel('Weight')\n",
    "plt.show()"
   ]
  },
  {
   "cell_type": "markdown",
   "metadata": {},
   "source": [
    "### 4.3 (Exercise) Make a scatterplot for Weight and Height"
   ]
  },
  {
   "cell_type": "code",
   "execution_count": 17,
   "metadata": {
    "scrolled": true
   },
   "outputs": [
    {
     "data": {
      "text/plain": [
       "Text(0, 0.5, 'Height')"
      ]
     },
     "execution_count": 17,
     "metadata": {},
     "output_type": "execute_result"
    },
    {
     "data": {
      "image/png": "[encoded data removed]",
      "text/plain": [
       "<Figure size 432x288 with 1 Axes>"
      ]
     },
     "metadata": {
      "needs_background": "light"
     },
     "output_type": "display_data"
    }
   ],
   "source": [
    "age_height = df[['Weight', 'Height']]\n",
    "plt.scatter(age_height.Weight, age_height.Height)\n",
    "plt.xlabel('Weight')\n",
    "plt.ylabel('Height')"
   ]
  },
  {
   "cell_type": "markdown",
   "metadata": {},
   "source": [
    "### 4.4 (Exercise) Make a scatterplot for Weight and Height for each gender group"
   ]
  },
  {
   "cell_type": "code",
   "execution_count": 19,
   "metadata": {},
   "outputs": [
    {
     "data": {
      "image/png": "[encoded data removed]",
      "text/plain": [
       "<Figure size 432x288 with 1 Axes>"
      ]
     },
     "metadata": {
      "needs_background": "light"
     },
     "output_type": "display_data"
    }
   ],
   "source": [
    "groups = df.groupby('Gender')\n",
    "\n",
    "# Plot\n",
    "fig, ax = plt.subplots()\n",
    "for name, group in groups:\n",
    "    ax.plot(group.Weight, group.Height, marker='o', linestyle='', label=name)\n",
    "ax.legend()\n",
    "plt.xlabel('Weight')\n",
    "plt.ylabel('Height')\n",
    "\n",
    "plt.show()"
   ]
  },
  {
   "cell_type": "markdown",
   "metadata": {},
   "source": [
    "## 5. Line chart"
   ]
  },
  {
   "cell_type": "markdown",
   "metadata": {},
   "source": [
    "Let's create another dataset about children's weights over a number of years"
   ]
  },
  {
   "cell_type": "code",
   "execution_count": 8,
   "metadata": {
    "scrolled": true
   },
   "outputs": [
    {
     "data": {
      "text/html": [
       "<div>\n",
       "<style scoped>\n",
       "    .dataframe tbody tr th:only-of-type {\n",
       "        vertical-align: middle;\n",
       "    }\n",
       "\n",
       "    .dataframe tbody tr th {\n",
       "        vertical-align: top;\n",
       "    }\n",
       "\n",
       "    .dataframe thead th {\n",
       "        text-align: right;\n",
       "    }\n",
       "</style>\n",
       "<table border=\"1\" class=\"dataframe\">\n",
       "  <thead>\n",
       "    <tr style=\"text-align: right;\">\n",
       "      <th></th>\n",
       "      <th>Year</th>\n",
       "      <th>Alex</th>\n",
       "      <th>Emma</th>\n",
       "      <th>Noah</th>\n",
       "      <th>Will</th>\n",
       "    </tr>\n",
       "  </thead>\n",
       "  <tbody>\n",
       "    <tr>\n",
       "      <th>0</th>\n",
       "      <td>2010</td>\n",
       "      <td>5</td>\n",
       "      <td>6</td>\n",
       "      <td>4</td>\n",
       "      <td>5</td>\n",
       "    </tr>\n",
       "    <tr>\n",
       "      <th>1</th>\n",
       "      <td>2011</td>\n",
       "      <td>6</td>\n",
       "      <td>7</td>\n",
       "      <td>5</td>\n",
       "      <td>7</td>\n",
       "    </tr>\n",
       "    <tr>\n",
       "      <th>2</th>\n",
       "      <td>2012</td>\n",
       "      <td>6</td>\n",
       "      <td>7</td>\n",
       "      <td>7</td>\n",
       "      <td>9</td>\n",
       "    </tr>\n",
       "    <tr>\n",
       "      <th>3</th>\n",
       "      <td>2013</td>\n",
       "      <td>7</td>\n",
       "      <td>9</td>\n",
       "      <td>9</td>\n",
       "      <td>10</td>\n",
       "    </tr>\n",
       "    <tr>\n",
       "      <th>4</th>\n",
       "      <td>2014</td>\n",
       "      <td>9</td>\n",
       "      <td>11</td>\n",
       "      <td>10</td>\n",
       "      <td>12</td>\n",
       "    </tr>\n",
       "    <tr>\n",
       "      <th>5</th>\n",
       "      <td>2015</td>\n",
       "      <td>11</td>\n",
       "      <td>12</td>\n",
       "      <td>12</td>\n",
       "      <td>13</td>\n",
       "    </tr>\n",
       "    <tr>\n",
       "      <th>6</th>\n",
       "      <td>2016</td>\n",
       "      <td>13</td>\n",
       "      <td>14</td>\n",
       "      <td>14</td>\n",
       "      <td>15</td>\n",
       "    </tr>\n",
       "    <tr>\n",
       "      <th>7</th>\n",
       "      <td>2017</td>\n",
       "      <td>14</td>\n",
       "      <td>15</td>\n",
       "      <td>15</td>\n",
       "      <td>16</td>\n",
       "    </tr>\n",
       "    <tr>\n",
       "      <th>8</th>\n",
       "      <td>2018</td>\n",
       "      <td>17</td>\n",
       "      <td>18</td>\n",
       "      <td>18</td>\n",
       "      <td>17</td>\n",
       "    </tr>\n",
       "    <tr>\n",
       "      <th>9</th>\n",
       "      <td>2019</td>\n",
       "      <td>19</td>\n",
       "      <td>20</td>\n",
       "      <td>20</td>\n",
       "      <td>19</td>\n",
       "    </tr>\n",
       "    <tr>\n",
       "      <th>10</th>\n",
       "      <td>2020</td>\n",
       "      <td>20</td>\n",
       "      <td>21</td>\n",
       "      <td>20</td>\n",
       "      <td>21</td>\n",
       "    </tr>\n",
       "  </tbody>\n",
       "</table>\n",
       "</div>"
      ],
      "text/plain": [
       "    Year  Alex  Emma  Noah  Will\n",
       "0   2010     5     6     4     5\n",
       "1   2011     6     7     5     7\n",
       "2   2012     6     7     7     9\n",
       "3   2013     7     9     9    10\n",
       "4   2014     9    11    10    12\n",
       "5   2015    11    12    12    13\n",
       "6   2016    13    14    14    15\n",
       "7   2017    14    15    15    16\n",
       "8   2018    17    18    18    17\n",
       "9   2019    19    20    20    19\n",
       "10  2020    20    21    20    21"
      ]
     },
     "execution_count": 8,
     "metadata": {},
     "output_type": "execute_result"
    }
   ],
   "source": [
    "weights = pd.DataFrame([[2010, 5, 6, 4, 5],\n",
    "                        [2011, 6, 7, 5, 7],\n",
    "                        [2012, 6, 7, 7, 9],\n",
    "                        [2013, 7, 9, 9, 10],\n",
    "                        [2014, 9, 11, 10, 12],\n",
    "                        [2015, 11, 12, 12, 13],\n",
    "                        [2016, 13, 14, 14, 15],\n",
    "                        [2017, 14, 15, 15, 16],\n",
    "                        [2018, 17, 18, 18, 17],\n",
    "                        [2019, 19, 20, 20, 19],\n",
    "                        [2020, 20, 21, 20, 21]], \n",
    "                       columns=[\"Year\", \"Alex\", \"Emma\", \"Noah\", \"Will\"])\n",
    "\n",
    "weights"
   ]
  },
  {
   "cell_type": "markdown",
   "metadata": {},
   "source": [
    "### 5.1 Plot a line for each child over the years"
   ]
  },
  {
   "cell_type": "code",
   "execution_count": 189,
   "metadata": {},
   "outputs": [
    {
     "data": {
      "text/plain": [
       "<matplotlib.legend.Legend at 0x222ee59bb80>"
      ]
     },
     "execution_count": 189,
     "metadata": {},
     "output_type": "execute_result"
    },
    {
     "data": {
      "image/png": "[encoded data removed]",
      "text/plain": [
       "<Figure size 432x288 with 1 Axes>"
      ]
     },
     "metadata": {
      "needs_background": "light"
     },
     "output_type": "display_data"
    }
   ],
   "source": [
    "plt.plot(weights.Year, weights.Alex, 'b.-', label = 'Alex', color='green')\n",
    "plt.plot(weights.Year, weights.Emma, 'b.-', label = 'Emma', color='pink')\n",
    "#plt.plot(weights.Year, weights.Noah, 'b.-', label = 'Noach', color='blue')\n",
    "#plt.plot(weights.Year, weights.Will, 'b.-', label = 'Will', color='gold')\n",
    "\n",
    "plt.legend()"
   ]
  },
  {
   "cell_type": "markdown",
   "metadata": {},
   "source": [
    "### 5.2 Plot the largest weight values over the years"
   ]
  },
  {
   "cell_type": "code",
   "execution_count": 195,
   "metadata": {
    "scrolled": true
   },
   "outputs": [
    {
     "data": {
      "text/plain": [
       "Text(0, 0.5, 'Largest weight')"
      ]
     },
     "execution_count": 195,
     "metadata": {},
     "output_type": "execute_result"
    },
    {
     "data": {
      "image/png": "[encoded data removed]",
      "text/plain": [
       "<Figure size 432x288 with 1 Axes>"
      ]
     },
     "metadata": {
      "needs_background": "light"
     },
     "output_type": "display_data"
    }
   ],
   "source": [
    "plt.plot(weights.Year, weights.iloc[:, 1:].max(axis=1))\n",
    "\n",
    "# We get the year range from the Year column\n",
    "yearRange = range(weights.min(axis=0)['Year'], weights.max(axis=0)['Year']+1, 1)\n",
    "# We set the x axis to the year range\n",
    "plt.xticks(yearRange)\n",
    "plt.xlabel('Year')\n",
    "\n",
    "plt.ylabel('Largest weight')"
   ]
  },
  {
   "cell_type": "markdown",
   "metadata": {},
   "source": [
    "### (Exercises) 5.3 Plot the average weight values over the years"
   ]
  },
  {
   "cell_type": "code",
   "execution_count": 9,
   "metadata": {},
   "outputs": [
    {
     "data": {
      "text/plain": [
       "Text(0, 0.5, 'Largest weight')"
      ]
     },
     "execution_count": 9,
     "metadata": {},
     "output_type": "execute_result"
    },
    {
     "data": {
      "image/png": "[encoded data removed]",
      "text/plain": [
       "<Figure size 432x288 with 1 Axes>"
      ]
     },
     "metadata": {
      "needs_background": "light"
     },
     "output_type": "display_data"
    }
   ],
   "source": [
    "plt.plot(weights.Year, weights.iloc[:, 1:].mean(axis=1))\n",
    "yearRange = range(weights.min(axis=0)['Year'], weights.max(axis=0)['Year']+1, 1)\n",
    "plt.xticks(yearRange)\n",
    "plt.xlabel('Year')\n",
    "\n",
    "plt.ylabel('Largest weight')"
   ]
  },
  {
   "cell_type": "markdown",
   "metadata": {},
   "source": [
    "### (Exercises) 5.4 Plot the smallest weight values over the years"
   ]
  },
  {
   "cell_type": "code",
   "execution_count": 10,
   "metadata": {},
   "outputs": [
    {
     "data": {
      "text/plain": [
       "Text(0, 0.5, 'Largest weight')"
      ]
     },
     "execution_count": 10,
     "metadata": {},
     "output_type": "execute_result"
    },
    {
     "data": {
      "image/png": "[encoded data removed]",
      "text/plain": [
       "<Figure size 432x288 with 1 Axes>"
      ]
     },
     "metadata": {
      "needs_background": "light"
     },
     "output_type": "display_data"
    }
   ],
   "source": [
    "plt.plot(weights.Year, weights.iloc[:, 1:].min(axis=1))\n",
    "yearRange = range(weights.min(axis=0)['Year'], weights.max(axis=0)['Year']+1, 1)\n",
    "plt.xticks(yearRange)\n",
    "plt.xlabel('Year')\n",
    "\n",
    "plt.ylabel('Largest weight')"
   ]
  },
  {
   "cell_type": "markdown",
   "metadata": {},
   "source": [
    "### (Exercises) 5.5 Plot both the average and smallest weight values over the years in a single plot"
   ]
  },
  {
   "cell_type": "code",
   "execution_count": 12,
   "metadata": {},
   "outputs": [
    {
     "data": {
      "text/plain": [
       "<matplotlib.legend.Legend at 0x259d525d520>"
      ]
     },
     "execution_count": 12,
     "metadata": {},
     "output_type": "execute_result"
    },
    {
     "data": {
      "image/png": "[encoded data removed]",
      "text/plain": [
       "<Figure size 432x288 with 1 Axes>"
      ]
     },
     "metadata": {
      "needs_background": "light"
     },
     "output_type": "display_data"
    }
   ],
   "source": [
    "plt.plot(weights.Year, weights.iloc[:, 1:].mean(axis=1), 'b.-', label = 'mean', color='green')\n",
    "plt.plot(weights.Year, weights.iloc[:, 1:].min(axis=1), 'b.-', label = 'min', color='blue')\n",
    "yearRange = range(weights.min(axis=0)['Year'], weights.max(axis=0)['Year']+1, 1)\n",
    "plt.xticks(yearRange)\n",
    "plt.xlabel('Year')\n",
    "\n",
    "plt.ylabel('Weight')\n",
    "\n",
    "plt.legend()"
   ]
  },
  {
   "cell_type": "markdown",
   "metadata": {},
   "source": [
    "## 6. Advanced visualization"
   ]
  },
  {
   "cell_type": "markdown",
   "metadata": {},
   "source": [
    "### 6.1 (Exercise) Create a Heatmap for the kid health data set\n",
    "\n",
    "What do you see from it?"
   ]
  },
  {
   "cell_type": "code",
   "execution_count": 28,
   "metadata": {
    "scrolled": true
   },
   "outputs": [
    {
     "data": {
      "image/png": "[encoded data removed]",
      "text/plain": [
       "<Figure size 432x288 with 2 Axes>"
      ]
     },
     "metadata": {
      "needs_background": "light"
     },
     "output_type": "display_data"
    }
   ],
   "source": [
    "import seaborn as sns\n",
    "heatmap = sns.heatmap(df.corr(), vmin=-1, vmax=1, annot=True, cmap='BrBG')\n",
    "heatmap.set_title('Correlation Heatmap', fontdict={'fontsize':18}, pad=12);"
   ]
  },
  {
   "cell_type": "markdown",
   "metadata": {},
   "source": [
    "### 6.2 (Exercise) Create a Heatmap for the children weight data set\n",
    "\n",
    "What do you see from it?"
   ]
  },
  {
   "cell_type": "code",
   "execution_count": 31,
   "metadata": {},
   "outputs": [
    {
     "data": {
      "image/png": "[encoded data removed]",
      "text/plain": [
       "<Figure size 432x288 with 2 Axes>"
      ]
     },
     "metadata": {
      "needs_background": "light"
     },
     "output_type": "display_data"
    }
   ],
   "source": [
    "data = weights.drop(columns=['Year'])\n",
    "heatmap = sns.heatmap(data.corr(), vmin=-1, vmax=1, annot=True, cmap='BrBG')\n",
    "heatmap.set_title('Correlation Heatmap', fontdict={'fontsize':18}, pad=12);"
   ]
  }
 ],
 "metadata": {
  "kernelspec": {
   "display_name": "Python 3",
   "language": "python",
   "name": "python3"
  },
  "language_info": {
   "codemirror_mode": {
    "name": "ipython",
    "version": 3
   },
   "file_extension": ".py",
   "mimetype": "text/x-python",
   "name": "python",
   "nbconvert_exporter": "python",
   "pygments_lexer": "ipython3",
   "version": "3.8.3"
  }
 },
 "nbformat": 4,
 "nbformat_minor": 4
}
