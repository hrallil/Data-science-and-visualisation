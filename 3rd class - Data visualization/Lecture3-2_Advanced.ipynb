{
 "cells": [
  {
   "cell_type": "markdown",
   "metadata": {},
   "source": [
    "# Data Science and Visualization (RUC F2023)\n",
    "\n",
    "## Lecture 3: Data Visualization"
   ]
  },
  {
   "cell_type": "markdown",
   "metadata": {},
   "source": [
    "# Advanced Visualizations\n",
    "\n",
    "* ### Advanced bar chart\n",
    "* ### Pairplot\n",
    "* ### Correlation heatmap\n",
    "\n",
    "\n",
    "We demonstrate with a real dataset about gas prices in selected countries from 1990 to 2000. We mainly use the library called **seaborn** which contains functions that make more advanced and/or beautiful plots."
   ]
  },
  {
   "cell_type": "markdown",
   "metadata": {},
   "source": [
    "## 0. Setup and construct the data"
   ]
  },
  {
   "cell_type": "code",
   "execution_count": null,
   "metadata": {},
   "outputs": [],
   "source": [
    "import pandas as pd\n",
    "import seaborn as sns\n",
    "\n",
    "# 'C:/Data/gas_prices.csv' is where I put my data file. You need to change it to your path/folder that contains your data file.\n",
    "gas = pd.read_csv('C:/Data/gas_prices.csv')\n",
    "\n",
    "gas.head()"
   ]
  },
  {
   "cell_type": "code",
   "execution_count": null,
   "metadata": {},
   "outputs": [],
   "source": [
    "gas.shape"
   ]
  },
  {
   "cell_type": "markdown",
   "metadata": {},
   "source": [
    "## 1. Advanced bar chart\n",
    "\n",
    "Here we show how to plot a bar chart in a 'transformed' manner, i.e., with horizontal bars.\n",
    "\n",
    "### 1.1 We plot such a bar chart for all countries gas prices in the year of 1990"
   ]
  },
  {
   "cell_type": "markdown",
   "metadata": {},
   "source": [
    "We get the data as the first row without the year column:"
   ]
  },
  {
   "cell_type": "code",
   "execution_count": null,
   "metadata": {},
   "outputs": [],
   "source": [
    "data = gas.iloc[0][1:]\n",
    "data\n",
    "#data = gas.drop(columns=['Year'])"
   ]
  },
  {
   "cell_type": "markdown",
   "metadata": {},
   "source": [
    "We call seaborn's **barplot()** function to plot it. In order to get the horizontal bars, we need to use 'h' for the parameter *orient*. This parameter is not defined for **bar()** in matplotlib.pyplot.\n",
    "\n",
    "NB: If *orient* is not specified, the barplot() function will decide the orientation automatically and try to make the plot look wide. This means sometimes the bars are still horizontal. "
   ]
  },
  {
   "cell_type": "code",
   "execution_count": null,
   "metadata": {
    "scrolled": true
   },
   "outputs": [],
   "source": [
    "sns.barplot(y=data.index, x=data.values) #, orient='h')"
   ]
  },
  {
   "cell_type": "markdown",
   "metadata": {},
   "source": [
    "We may want to make all bars sorted."
   ]
  },
  {
   "cell_type": "code",
   "execution_count": null,
   "metadata": {},
   "outputs": [],
   "source": [
    "sorted = data.sort_values(ascending=False)\n",
    "\n",
    "sns.barplot(y=sorted.index, x=sorted.values)"
   ]
  },
  {
   "cell_type": "markdown",
   "metadata": {},
   "source": [
    "### 1.2 (Exercise) Plot a 'transformed' bar chart for USA's gas prices over all these years"
   ]
  },
  {
   "cell_type": "code",
   "execution_count": null,
   "metadata": {},
   "outputs": [],
   "source": []
  },
  {
   "cell_type": "markdown",
   "metadata": {},
   "source": [
    "## 2. Pairplot"
   ]
  },
  {
   "cell_type": "markdown",
   "metadata": {},
   "source": [
    "### 2.1 We compare European countries with UK"
   ]
  },
  {
   "cell_type": "code",
   "execution_count": null,
   "metadata": {
    "scrolled": true
   },
   "outputs": [],
   "source": [
    "import matplotlib.pyplot as plt\n",
    "\n",
    "# Compare European countries with UK\n",
    "sns.pairplot(gas, x_vars=['France', 'Germany', 'Italy'], y_vars='UK', height=4.5, aspect=1)\n",
    "# If the first plot does not show anything, include this \"diag_kind = None\"\n",
    "\n",
    "# To save it in a file\n",
    "# dpi - sets the resolution of the saved image in dots/inches\n",
    "# bbox_inches - when set to 'tight' - does not allow the labels to be cropped\n",
    "plt.savefig('gas_prices_EU.png', dpi=300, bbox_inches='tight')"
   ]
  },
  {
   "cell_type": "markdown",
   "metadata": {},
   "source": [
    "What kind of patterns do you see from above?"
   ]
  },
  {
   "cell_type": "markdown",
   "metadata": {},
   "source": [
    "###  And Asian countries with Mexico:"
   ]
  },
  {
   "cell_type": "code",
   "execution_count": null,
   "metadata": {},
   "outputs": [],
   "source": [
    "# Compare European countries with UK\n",
    "sns.pairplot(gas, x_vars=['Japan', 'South Korea'], y_vars='Mexico', height=4.5, aspect=1)"
   ]
  },
  {
   "cell_type": "markdown",
   "metadata": {},
   "source": [
    "### 2.2 (Exercise) Make a pairplot to compare Asia-Pacific countries with USA, and another one to compare European countries (incl. UK) with USA.\n",
    "\n",
    "What can you tell from the plots?"
   ]
  },
  {
   "cell_type": "code",
   "execution_count": null,
   "metadata": {
    "scrolled": true
   },
   "outputs": [],
   "source": []
  },
  {
   "cell_type": "code",
   "execution_count": null,
   "metadata": {},
   "outputs": [],
   "source": []
  },
  {
   "cell_type": "markdown",
   "metadata": {},
   "source": [
    "## 3. Heatmap: Another way to visualize pairwise correlation.\n",
    "\n",
    "We may plot the correlation heatmap for each pair of countries to show the correlation."
   ]
  },
  {
   "cell_type": "code",
   "execution_count": null,
   "metadata": {},
   "outputs": [],
   "source": [
    "# Drop the column of Year, as we only want to see the correlation among countries\n",
    "data = gas.drop(columns=['Year'])\n",
    "#data = gas\n",
    "\n",
    "# We may set the size of a figure\n",
    "plt.figure(figsize=(16, 6))\n",
    "\n",
    "heatmap = sns.heatmap(data.corr(), vmin=-1, vmax=1, annot=True, cmap='BrBG')\n",
    "heatmap.set_title('Correlation Heatmap', fontdict={'fontsize':18}, pad=12);\n",
    "\n",
    "# save heatmap as .png file\n",
    "plt.savefig('heatmap_gas_prices.png', dpi=300, bbox_inches='tight')"
   ]
  }
 ],
 "metadata": {
  "kernelspec": {
   "display_name": "Python 3",
   "language": "python",
   "name": "python3"
  },
  "language_info": {
   "codemirror_mode": {
    "name": "ipython",
    "version": 3
   },
   "file_extension": ".py",
   "mimetype": "text/x-python",
   "name": "python",
   "nbconvert_exporter": "python",
   "pygments_lexer": "ipython3",
   "version": "3.8.3"
  }
 },
 "nbformat": 4,
 "nbformat_minor": 4
}
