{
 "cells": [
  {
   "cell_type": "markdown",
   "metadata": {},
   "source": [
    "# Data Science and Visualization (RUC F2023)\n",
    "\n",
    "## Lecture 3: Data Visualization"
   ]
  },
  {
   "cell_type": "markdown",
   "metadata": {},
   "source": [
    "# Basic Visualizations\n",
    "\n",
    "* ### Histogram\n",
    "* ### Bar chart\n",
    "* ### Boxplot\n",
    "* ### Scatterplot\n",
    "* ### Line chart\n",
    "\n",
    "We demonstrate with a number of synthetic datasets about kids health. This notebook contains both demo code and exercise (with blank cells). We use the library of **matplotlib.pyplot** for making the basic plots."
   ]
  },
  {
   "cell_type": "markdown",
   "metadata": {},
   "source": [
    "## 0. Setup and construct the data"
   ]
  },
  {
   "cell_type": "code",
   "execution_count": null,
   "metadata": {},
   "outputs": [],
   "source": [
    "import pandas as pd\n",
    "import numpy as np\n",
    "import matplotlib.pyplot as plt\n",
    "\n",
    "df = pd.DataFrame([['Alis', 'Female', 2, 90, 13, 'Negative', 'Yes'],\n",
    "                   ['Alex', 'Male', 6, 100, 20, 'Negative', 'Yes'],\n",
    "                   ['Bo', 'Male', 2, 80, 10, 'Negative', 'Yes'],\n",
    "                   ['Chris', 'Male', 2, 90, 17, 'Positive', 'Yes'],\n",
    "                   ['Daisy', 'Female', 2, 90, 17, 'Positive', 'No'],\n",
    "                   ['John', 'Male', 3, 96, 15, 'Negative', 'Yes'],\n",
    "                   ['Kate', 'Female', 4, 100, 19, 'Negative', 'No'],\n",
    "                   ['Sebastian', 'Male', 5, 110, 19, 'N/A', 'Yes'],\n",
    "                   ['Mads', 'Male', 3, 100, None, 'Positive', 'No'],\n",
    "                   ['Emil', 'Male', 5, None, 18, 'Negative', 'No'],\n",
    "                   ['Kelly', 'Female', 4, 100, 18, 'Positive', 'Yes'],\n",
    "                   ['Karin', 'Female', 5, 90, 15, 'Positive', 'No'],\n",
    "                   ['Sarah', 'Female', 3, 90, 13, 'Negative', 'No']], \n",
    "                  columns=[\"Name\", \"Gender\", \"Age\", \"Height\", \"Weight\", \"Test\", 'Fever'])\n",
    "\n",
    "df"
   ]
  },
  {
   "cell_type": "markdown",
   "metadata": {},
   "source": [
    "## 1. Histogram\n",
    "\n",
    "We can call plt.hist(.) directly to get the histogram for a column."
   ]
  },
  {
   "cell_type": "markdown",
   "metadata": {},
   "source": [
    "### 1.0 We create an array of numbers following a normal distribution"
   ]
  },
  {
   "cell_type": "code",
   "execution_count": null,
   "metadata": {},
   "outputs": [],
   "source": [
    "# A normal distribution with mean=0 and std=10. The number of values is 275.\n",
    "x = np.random.normal(0, 10, 275)\n",
    "\n",
    "# If we print x, it will look like this:\n",
    "\"\"\"\n",
    "print(x)\n",
    "[-12.86467624  -1.55637358   2.04774988  -2.78593052   7.0037208\n",
    "  -2.2541189   -8.15792232 -16.54421057   4.7852369  -17.48727612\n",
    " ... ...\n",
    " -9.86399721 -15.79293859   6.11728893   9.6049965    9.6579244\n",
    "  14.4480663   -4.02353426  -0.49568545   1.29181534  -4.13082611]\n",
    "\"\"\"\n",
    "\n",
    "# Let's plot the histogram of all values in x\n",
    "plt.hist(x)\n",
    "plt.show() "
   ]
  },
  {
   "cell_type": "markdown",
   "metadata": {},
   "source": [
    "### 1.1 We create a histgram for the Fever column in the children health data."
   ]
  },
  {
   "cell_type": "code",
   "execution_count": null,
   "metadata": {
    "scrolled": true
   },
   "outputs": [],
   "source": [
    "plt.hist(df.Fever)\n",
    "\n",
    "plt.title('Histogram of Fever')"
   ]
  },
  {
   "cell_type": "markdown",
   "metadata": {},
   "source": [
    "### 1.2 We create a function to create histgram for a given column."
   ]
  },
  {
   "cell_type": "markdown",
   "metadata": {},
   "source": [
    "A histogram like above needs some 'decorations', e.g., for the Y ticks and title. Those decorations could be the same for all such histograms. Therefore, we define a function that takes a an arbitrary column to plot histogram for and automate some things, e.g., the range of the column."
   ]
  },
  {
   "cell_type": "code",
   "execution_count": null,
   "metadata": {},
   "outputs": [],
   "source": [
    "def plotHistgram(data, title='Histogram'):\n",
    "    plt.hist(data)\n",
    "    plt.title(title)\n",
    "    \n",
    "    # We obtain the max and min counts and use them to decide the Y ticks.\n",
    "    data_counted = data.value_counts()\n",
    "    upper = data_counted.nlargest(1).values[0]\n",
    "    lower = data_counted.nsmallest(1).values[0]\n",
    "    plt.yticks(range(0, upper+1))\n",
    "    \n",
    "    # We can also do so likewise for the X axis but it will be more complicated.\n",
    "    # A much easier way is to let the caller of this function to decide the X ticks.\n",
    "    # Parameter 'ha' means horizontal alignment for the x ticks. If you \n",
    "    #plt.xticks([3, 4, 5], ha='center')\n",
    "    plt.xticks(ha='center')"
   ]
  },
  {
   "cell_type": "markdown",
   "metadata": {},
   "source": [
    "We use the function to create a histogram for the Fever column."
   ]
  },
  {
   "cell_type": "code",
   "execution_count": null,
   "metadata": {},
   "outputs": [],
   "source": [
    "plotHistgram(df.Fever, 'Histogram of Fever')"
   ]
  },
  {
   "cell_type": "markdown",
   "metadata": {},
   "source": [
    "We use the function to create a histogram for the Weight column."
   ]
  },
  {
   "cell_type": "code",
   "execution_count": null,
   "metadata": {
    "scrolled": true
   },
   "outputs": [],
   "source": [
    "plotHistgram(df.Weight)"
   ]
  },
  {
   "cell_type": "markdown",
   "metadata": {},
   "source": [
    "For the Age column."
   ]
  },
  {
   "cell_type": "code",
   "execution_count": null,
   "metadata": {
    "scrolled": false
   },
   "outputs": [],
   "source": [
    "plotHistgram(df.Age)\n",
    "plt.xticks([2, 3, 4, 5, 6], ha='left')"
   ]
  },
  {
   "cell_type": "markdown",
   "metadata": {},
   "source": [
    "### 1.3 More decorations\n",
    "\n",
    "If the x ticks are of (long) strings, we may specify its horizontal alignment (**ha**) and rotation mode (**rotation_mode**) to make it look better.\n",
    "* ha: 'left', 'center', 'right'\n",
    "* va: \"top\", \"center\", \"baseline\", \"bottom\" (for vertial alignment for y ticks)\n",
    "* rotation_mode:<br>\n",
    "    * 'default' (or None): first rotates the text and then aligns the bounding box of the rotated text.\n",
    "    * 'anchor': aligns the unrotated text and then rotates the text around the point of alignment.\n",
    "    \n",
    "It may cost some time to show ticks in the best way through aligment and rotation, or it may not always possible to have them in the way you want if there's not much room for maneuver. "
   ]
  },
  {
   "cell_type": "code",
   "execution_count": null,
   "metadata": {},
   "outputs": [],
   "source": [
    "plotHistgram(df.Test)\n",
    "plt.xticks(rotation=45, ha='right', rotation_mode='default')"
   ]
  },
  {
   "cell_type": "markdown",
   "metadata": {},
   "source": [
    "### 1.4 (Exercise) Make a histogram for Age *without* using the function defined above."
   ]
  },
  {
   "cell_type": "code",
   "execution_count": null,
   "metadata": {
    "scrolled": true
   },
   "outputs": [],
   "source": []
  },
  {
   "cell_type": "markdown",
   "metadata": {},
   "source": [
    "There are many tricks to beautify such a histogram, e.g., to position the bars closer or distanter from each other, to customize the X ticks. You may find such low level details from online examples if you need to use them. NB: They could be time-consuming to implement. "
   ]
  },
  {
   "cell_type": "markdown",
   "metadata": {},
   "source": [
    "### 1.5 (Exercise) Make a histogram for Height using the function defined above."
   ]
  },
  {
   "cell_type": "code",
   "execution_count": null,
   "metadata": {},
   "outputs": [],
   "source": []
  },
  {
   "cell_type": "markdown",
   "metadata": {},
   "source": [
    "## 2. Bar chart"
   ]
  },
  {
   "cell_type": "markdown",
   "metadata": {},
   "source": [
    "### 2.1 Make a bar chart about the age of all kids."
   ]
  },
  {
   "cell_type": "code",
   "execution_count": null,
   "metadata": {
    "scrolled": true
   },
   "outputs": [],
   "source": [
    "plt.bar(df.Name, df.Age)\n",
    "plt.xlabel('Names')\n",
    "plt.xticks(ha='right', rotation_mode='anchor', rotation=45)\n",
    "plt.ylabel('Age')\n",
    "plt.title('Age of each kid')"
   ]
  },
  {
   "cell_type": "markdown",
   "metadata": {},
   "source": [
    "### 2.2 Make a bar chart about the number of kids per each gender group."
   ]
  },
  {
   "cell_type": "code",
   "execution_count": null,
   "metadata": {},
   "outputs": [],
   "source": [
    "series_1 = df.groupby(['Gender'])['Name'].count()\n",
    "series_1"
   ]
  },
  {
   "cell_type": "code",
   "execution_count": null,
   "metadata": {
    "scrolled": true
   },
   "outputs": [],
   "source": [
    "plt.bar(series_1.index, series_1.values)\n",
    "plt.title('Number of kids per gender')\n",
    "plt.yticks(series_1.values)\n",
    "plt.xlabel('Gender')\n",
    "plt.ylabel('#Kids')"
   ]
  },
  {
   "cell_type": "markdown",
   "metadata": {},
   "source": [
    "### 2.3 Make a bar chart about the number of Positives and Negatives of each gender group."
   ]
  },
  {
   "cell_type": "code",
   "execution_count": null,
   "metadata": {
    "scrolled": true
   },
   "outputs": [],
   "source": [
    "series_3 = df.groupby(['Gender', 'Test'])['Test'].count()\n",
    "series_3"
   ]
  },
  {
   "cell_type": "code",
   "execution_count": null,
   "metadata": {
    "scrolled": false
   },
   "outputs": [],
   "source": [
    "# Below rot=0 is needed to make the x ticks horizontal\n",
    "series_3.unstack().plot(kind='bar', rot=0)\n",
    "plt.yticks(series_3.values)"
   ]
  },
  {
   "cell_type": "markdown",
   "metadata": {},
   "source": [
    "We may also show the bars in a stacked way, by set 'stacked' to True."
   ]
  },
  {
   "cell_type": "code",
   "execution_count": null,
   "metadata": {},
   "outputs": [],
   "source": [
    "# Below the width parameter specifies the width of the bars\n",
    "series_3.unstack().plot(kind='bar', stacked=True, rot=0, width=0.2)\n",
    "\n",
    "# We should set the y ticks differently as above\n",
    "# We get two counts each for a gender group\n",
    "counts = df.groupby(['Gender'])['Test'].count()\n",
    "# We use the larger count as the upper limit for the y ticks\n",
    "plt.yticks(range(0, counts.values.max()+1))"
   ]
  },
  {
   "cell_type": "markdown",
   "metadata": {},
   "source": [
    "### 2.4 (**Exercise**) Make a bar chart about the height (or weight) of all kids."
   ]
  },
  {
   "cell_type": "code",
   "execution_count": null,
   "metadata": {
    "scrolled": true
   },
   "outputs": [],
   "source": []
  },
  {
   "cell_type": "code",
   "execution_count": null,
   "metadata": {
    "scrolled": true
   },
   "outputs": [],
   "source": [
    "plt.bar(df.Name, df.Weight)\n",
    "plt.xlabel('Names')\n",
    "plt.xticks(ha='right', rotation_mode='anchor', rotation=45)\n",
    "plt.ylabel('Weight (kg)')\n",
    "plt.title('Weight of each kid')"
   ]
  },
  {
   "cell_type": "markdown",
   "metadata": {},
   "source": [
    "### 2.5 (**Exercise**) Make a bar chart about the number of kids per each test result group."
   ]
  },
  {
   "cell_type": "code",
   "execution_count": null,
   "metadata": {
    "scrolled": true
   },
   "outputs": [],
   "source": []
  },
  {
   "cell_type": "markdown",
   "metadata": {},
   "source": [
    "### 2.6 (**Exercise**) Make a bar chart about the number of fever cases and no-fever cases of each gender group."
   ]
  },
  {
   "cell_type": "code",
   "execution_count": null,
   "metadata": {},
   "outputs": [],
   "source": []
  },
  {
   "cell_type": "markdown",
   "metadata": {},
   "source": [
    "## 3. Boxplot"
   ]
  },
  {
   "cell_type": "markdown",
   "metadata": {},
   "source": [
    "### 3.1 Get the statistics of Age and make a boxplot for it"
   ]
  },
  {
   "cell_type": "code",
   "execution_count": null,
   "metadata": {
    "scrolled": true
   },
   "outputs": [],
   "source": [
    "df['Age'].describe()"
   ]
  },
  {
   "cell_type": "code",
   "execution_count": null,
   "metadata": {
    "scrolled": true
   },
   "outputs": [],
   "source": [
    "import matplotlib.pyplot as plt\n",
    "\n",
    "plt.boxplot(df['Age'])\n",
    "plt.xticks([1], ['Age'])"
   ]
  },
  {
   "cell_type": "markdown",
   "metadata": {},
   "source": [
    "### 3.2 Get the statistics of Age for each gender group and make a boxplot for each"
   ]
  },
  {
   "cell_type": "code",
   "execution_count": null,
   "metadata": {},
   "outputs": [],
   "source": [
    "# We prepare a list of series objects, each having the age values for a specific gender.\n",
    "data2plot = [df['Age'][df.Gender == 'Male'],\n",
    "             df['Age'][df.Gender == 'Female']]\n",
    "\n",
    "# We pass the list to boxplot() which will make a boxplot for each series object in the list\n",
    "plt.boxplot(data2plot)\n",
    "\n",
    "# Below, the first argument specifies the positions on the x axis to place the ticks,\n",
    "# and the second argument gives a list of labels for the x ticks\n",
    "plt.xticks(range(1, 3), ['Male', 'Female'], ha='center')\n",
    "\n",
    "# We also save the graph into a disk file\n",
    "#plt.savefig('boxes.jpg', dpi=300, bbox_inches='tight')"
   ]
  },
  {
   "cell_type": "markdown",
   "metadata": {},
   "source": [
    "### 3.3 (Exercise) Make a boxplot for Weight\n",
    "\n",
    "You need to assign values to missing values on Weight, otherwise nothing will be plotted. You may use forward filling (ffill)  on the data."
   ]
  },
  {
   "cell_type": "code",
   "execution_count": null,
   "metadata": {},
   "outputs": [],
   "source": []
  },
  {
   "cell_type": "markdown",
   "metadata": {},
   "source": [
    "### 3.4 (Exercise) Make two boxplots of Weight each for a gender group, in a single figure.\n",
    "\n",
    "You also need to fill in for the missing value first."
   ]
  },
  {
   "cell_type": "code",
   "execution_count": null,
   "metadata": {
    "scrolled": true
   },
   "outputs": [],
   "source": []
  },
  {
   "cell_type": "markdown",
   "metadata": {},
   "source": [
    "### 3.5 (Exercise) Make two boxplots of Height each for a gender group, in a single figure.\n",
    "\n",
    "You also need to fill in for the missing value first."
   ]
  },
  {
   "cell_type": "code",
   "execution_count": null,
   "metadata": {},
   "outputs": [],
   "source": []
  },
  {
   "cell_type": "markdown",
   "metadata": {},
   "source": [
    "## 4. Scatterplot"
   ]
  },
  {
   "cell_type": "markdown",
   "metadata": {},
   "source": [
    "### 4.1 Age-weight scatterplot"
   ]
  },
  {
   "cell_type": "code",
   "execution_count": null,
   "metadata": {},
   "outputs": [],
   "source": [
    "age_weight = df[['Age', 'Weight']]\n",
    "plt.scatter(age_weight.Age, age_weight.Weight)\n",
    "plt.xlabel('Age')\n",
    "plt.ylabel('Weight')"
   ]
  },
  {
   "cell_type": "markdown",
   "metadata": {},
   "source": [
    "### 4.2 Age-weight scatterplot for each gender group"
   ]
  },
  {
   "cell_type": "code",
   "execution_count": null,
   "metadata": {},
   "outputs": [],
   "source": [
    "groups = df.groupby('Gender')\n",
    "\n",
    "# Plot\n",
    "fig, ax = plt.subplots()\n",
    "ax.margins(0.05) # Optional, just adds 5% padding to the autoscaling\n",
    "for name, group in groups:\n",
    "    ax.plot(group.Age, group.Weight, marker='o', linestyle='', label=name)\n",
    "ax.legend()\n",
    "\n",
    "plt.xlabel('Age')\n",
    "plt.ylabel('Weight')\n",
    "plt.show()"
   ]
  },
  {
   "cell_type": "markdown",
   "metadata": {},
   "source": [
    "### 4.3 (Exercise) Make a scatterplot for Weight and Height"
   ]
  },
  {
   "cell_type": "code",
   "execution_count": null,
   "metadata": {
    "scrolled": true
   },
   "outputs": [],
   "source": []
  },
  {
   "cell_type": "markdown",
   "metadata": {},
   "source": [
    "### 4.4 (Exercise) Make a scatterplot for Weight and Height for each gender group"
   ]
  },
  {
   "cell_type": "code",
   "execution_count": null,
   "metadata": {},
   "outputs": [],
   "source": []
  },
  {
   "cell_type": "markdown",
   "metadata": {},
   "source": [
    "## 5. Line chart"
   ]
  },
  {
   "cell_type": "markdown",
   "metadata": {},
   "source": [
    "Let's create another dataset about children's weights over a number of years"
   ]
  },
  {
   "cell_type": "code",
   "execution_count": null,
   "metadata": {
    "scrolled": true
   },
   "outputs": [],
   "source": [
    "weights = pd.DataFrame([[2010, 5, 6, 4, 5],\n",
    "                        [2011, 6, 7, 5, 7],\n",
    "                        [2012, 6, 7, 7, 9],\n",
    "                        [2013, 7, 9, 9, 10],\n",
    "                        [2014, 9, 11, 10, 12],\n",
    "                        [2015, 11, 12, 12, 13],\n",
    "                        [2016, 13, 14, 14, 15],\n",
    "                        [2017, 14, 15, 15, 16],\n",
    "                        [2018, 17, 18, 18, 17],\n",
    "                        [2019, 19, 20, 20, 19],\n",
    "                        [2020, 20, 21, 20, 21]], \n",
    "                       columns=[\"Year\", \"Alex\", \"Emma\", \"Noah\", \"Will\"])\n",
    "\n",
    "weights"
   ]
  },
  {
   "cell_type": "markdown",
   "metadata": {},
   "source": [
    "### 5.1 Plot a line for each child over the years"
   ]
  },
  {
   "cell_type": "code",
   "execution_count": null,
   "metadata": {},
   "outputs": [],
   "source": [
    "plt.plot(weights.Year, weights.Alex, 'b.-', label = 'Alex', color='green')\n",
    "plt.plot(weights.Year, weights.Emma, 'b.-', label = 'Emma', color='pink')\n",
    "#plt.plot(weights.Year, weights.Noah, 'b.-', label = 'Noach', color='blue')\n",
    "#plt.plot(weights.Year, weights.Will, 'b.-', label = 'Will', color='gold')\n",
    "\n",
    "plt.legend()"
   ]
  },
  {
   "cell_type": "markdown",
   "metadata": {},
   "source": [
    "### 5.2 Plot the largest weight values over the years"
   ]
  },
  {
   "cell_type": "code",
   "execution_count": null,
   "metadata": {
    "scrolled": true
   },
   "outputs": [],
   "source": [
    "plt.plot(weights.Year, weights.iloc[:, 1:].max(axis=1))\n",
    "\n",
    "# We get the year range from the Year column\n",
    "yearRange = range(weights.min(axis=0)['Year'], weights.max(axis=0)['Year']+1, 1)\n",
    "# We set the x axis to the year range\n",
    "plt.xticks(yearRange)\n",
    "plt.xlabel('Year')\n",
    "\n",
    "plt.ylabel('Largest weight')"
   ]
  },
  {
   "cell_type": "markdown",
   "metadata": {},
   "source": [
    "### (Exercises) 5.3 Plot the average weight values over the years"
   ]
  },
  {
   "cell_type": "code",
   "execution_count": null,
   "metadata": {},
   "outputs": [],
   "source": []
  },
  {
   "cell_type": "markdown",
   "metadata": {},
   "source": [
    "### (Exercises) 5.4 Plot the smallest weight values over the years"
   ]
  },
  {
   "cell_type": "code",
   "execution_count": null,
   "metadata": {},
   "outputs": [],
   "source": []
  },
  {
   "cell_type": "markdown",
   "metadata": {},
   "source": [
    "### (Exercises) 5.5 Plot both the average and smallest weight values over the years in a single plot"
   ]
  },
  {
   "cell_type": "code",
   "execution_count": null,
   "metadata": {},
   "outputs": [],
   "source": []
  },
  {
   "cell_type": "markdown",
   "metadata": {},
   "source": [
    "## 6. Advanced visualization"
   ]
  },
  {
   "cell_type": "markdown",
   "metadata": {},
   "source": [
    "### 6.1 (Exercise) Create a Heatmap for the kid health data set\n",
    "\n",
    "What do you see from it?"
   ]
  },
  {
   "cell_type": "code",
   "execution_count": null,
   "metadata": {
    "scrolled": true
   },
   "outputs": [],
   "source": []
  },
  {
   "cell_type": "markdown",
   "metadata": {},
   "source": [
    "### 6.2 (Exercise) Create a Heatmap for the children weight data set\n",
    "\n",
    "What do you see from it?"
   ]
  },
  {
   "cell_type": "code",
   "execution_count": null,
   "metadata": {},
   "outputs": [],
   "source": []
  }
 ],
 "metadata": {
  "kernelspec": {
   "display_name": "Python 3",
   "language": "python",
   "name": "python3"
  },
  "language_info": {
   "codemirror_mode": {
    "name": "ipython",
    "version": 3
   },
   "file_extension": ".py",
   "mimetype": "text/x-python",
   "name": "python",
   "nbconvert_exporter": "python",
   "pygments_lexer": "ipython3",
   "version": "3.8.3"
  }
 },
 "nbformat": 4,
 "nbformat_minor": 4
}
