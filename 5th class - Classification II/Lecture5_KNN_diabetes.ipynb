{
 "cells": [
  {
   "cell_type": "markdown",
   "metadata": {},
   "source": [
    "# Data Science and Visualization (RUC F2023)\n",
    "\n",
    "## Lecture 5: Classification (II)"
   ]
  },
  {
   "cell_type": "markdown",
   "metadata": {},
   "source": [
    " # Main Points:\n",
    " \n",
    "## K Nearest Neighborgs (KNN)\n",
    "## Data Scaling\n",
    "## Model Evaluation\n",
    "* ### Cross-Validation\n",
    "* ### ROC and AUC"
   ]
  },
  {
   "cell_type": "markdown",
   "metadata": {},
   "source": [
    "## 0. Importing the Required Libraries"
   ]
  },
  {
   "cell_type": "code",
   "execution_count": 2,
   "metadata": {},
   "outputs": [],
   "source": [
    "import pandas as pd\n",
    "import numpy as np\n",
    "from sklearn import metrics\n",
    "from sklearn.model_selection import train_test_split\n",
    "#from sklearn.metrics import accuracy_score\n",
    "from sklearn.neighbors import KNeighborsClassifier"
   ]
  },
  {
   "cell_type": "markdown",
   "metadata": {},
   "source": [
    "## 1. Loading the Data"
   ]
  },
  {
   "cell_type": "code",
   "execution_count": 3,
   "metadata": {},
   "outputs": [],
   "source": [
    "data = pd.read_csv('..\\Data\\diabetes.csv')"
   ]
  },
  {
   "cell_type": "code",
   "execution_count": 4,
   "metadata": {},
   "outputs": [
    {
     "data": {
      "text/html": [
       "<div>\n",
       "<style scoped>\n",
       "    .dataframe tbody tr th:only-of-type {\n",
       "        vertical-align: middle;\n",
       "    }\n",
       "\n",
       "    .dataframe tbody tr th {\n",
       "        vertical-align: top;\n",
       "    }\n",
       "\n",
       "    .dataframe thead th {\n",
       "        text-align: right;\n",
       "    }\n",
       "</style>\n",
       "<table border=\"1\" class=\"dataframe\">\n",
       "  <thead>\n",
       "    <tr style=\"text-align: right;\">\n",
       "      <th></th>\n",
       "      <th>Pregnancies</th>\n",
       "      <th>Glucose</th>\n",
       "      <th>BloodPressure</th>\n",
       "      <th>SkinThickness</th>\n",
       "      <th>Insulin</th>\n",
       "      <th>BMI</th>\n",
       "      <th>DiabetesPedigreeFunction</th>\n",
       "      <th>Age</th>\n",
       "      <th>Outcome</th>\n",
       "    </tr>\n",
       "  </thead>\n",
       "  <tbody>\n",
       "    <tr>\n",
       "      <th>0</th>\n",
       "      <td>6</td>\n",
       "      <td>148</td>\n",
       "      <td>72</td>\n",
       "      <td>35</td>\n",
       "      <td>0</td>\n",
       "      <td>33.6</td>\n",
       "      <td>0.627</td>\n",
       "      <td>50</td>\n",
       "      <td>1</td>\n",
       "    </tr>\n",
       "    <tr>\n",
       "      <th>1</th>\n",
       "      <td>1</td>\n",
       "      <td>85</td>\n",
       "      <td>66</td>\n",
       "      <td>29</td>\n",
       "      <td>0</td>\n",
       "      <td>26.6</td>\n",
       "      <td>0.351</td>\n",
       "      <td>31</td>\n",
       "      <td>0</td>\n",
       "    </tr>\n",
       "    <tr>\n",
       "      <th>2</th>\n",
       "      <td>8</td>\n",
       "      <td>183</td>\n",
       "      <td>64</td>\n",
       "      <td>0</td>\n",
       "      <td>0</td>\n",
       "      <td>23.3</td>\n",
       "      <td>0.672</td>\n",
       "      <td>32</td>\n",
       "      <td>1</td>\n",
       "    </tr>\n",
       "    <tr>\n",
       "      <th>3</th>\n",
       "      <td>1</td>\n",
       "      <td>89</td>\n",
       "      <td>66</td>\n",
       "      <td>23</td>\n",
       "      <td>94</td>\n",
       "      <td>28.1</td>\n",
       "      <td>0.167</td>\n",
       "      <td>21</td>\n",
       "      <td>0</td>\n",
       "    </tr>\n",
       "    <tr>\n",
       "      <th>4</th>\n",
       "      <td>0</td>\n",
       "      <td>137</td>\n",
       "      <td>40</td>\n",
       "      <td>35</td>\n",
       "      <td>168</td>\n",
       "      <td>43.1</td>\n",
       "      <td>2.288</td>\n",
       "      <td>33</td>\n",
       "      <td>1</td>\n",
       "    </tr>\n",
       "  </tbody>\n",
       "</table>\n",
       "</div>"
      ],
      "text/plain": [
       "   Pregnancies  Glucose  BloodPressure  SkinThickness  Insulin   BMI  \\\n",
       "0            6      148             72             35        0  33.6   \n",
       "1            1       85             66             29        0  26.6   \n",
       "2            8      183             64              0        0  23.3   \n",
       "3            1       89             66             23       94  28.1   \n",
       "4            0      137             40             35      168  43.1   \n",
       "\n",
       "   DiabetesPedigreeFunction  Age  Outcome  \n",
       "0                     0.627   50        1  \n",
       "1                     0.351   31        0  \n",
       "2                     0.672   32        1  \n",
       "3                     0.167   21        0  \n",
       "4                     2.288   33        1  "
      ]
     },
     "execution_count": 4,
     "metadata": {},
     "output_type": "execute_result"
    }
   ],
   "source": [
    "data.head()"
   ]
  },
  {
   "cell_type": "code",
   "execution_count": 5,
   "metadata": {},
   "outputs": [
    {
     "data": {
      "text/plain": [
       "(768, 9)"
      ]
     },
     "execution_count": 5,
     "metadata": {},
     "output_type": "execute_result"
    }
   ],
   "source": [
    "data.shape"
   ]
  },
  {
   "cell_type": "markdown",
   "metadata": {},
   "source": [
    "## 2. Feature Selection"
   ]
  },
  {
   "cell_type": "markdown",
   "metadata": {},
   "source": [
    "Let's first take a look at all columns' information:"
   ]
  },
  {
   "cell_type": "code",
   "execution_count": 6,
   "metadata": {
    "scrolled": false
   },
   "outputs": [
    {
     "name": "stdout",
     "output_type": "stream",
     "text": [
      "<class 'pandas.core.frame.DataFrame'>\n",
      "RangeIndex: 768 entries, 0 to 767\n",
      "Data columns (total 9 columns):\n",
      " #   Column                    Non-Null Count  Dtype  \n",
      "---  ------                    --------------  -----  \n",
      " 0   Pregnancies               768 non-null    int64  \n",
      " 1   Glucose                   768 non-null    int64  \n",
      " 2   BloodPressure             768 non-null    int64  \n",
      " 3   SkinThickness             768 non-null    int64  \n",
      " 4   Insulin                   768 non-null    int64  \n",
      " 5   BMI                       768 non-null    float64\n",
      " 6   DiabetesPedigreeFunction  768 non-null    float64\n",
      " 7   Age                       768 non-null    int64  \n",
      " 8   Outcome                   768 non-null    int64  \n",
      "dtypes: float64(2), int64(7)\n",
      "memory usage: 54.1 KB\n"
     ]
    }
   ],
   "source": [
    "data.info()"
   ]
  },
  {
   "cell_type": "code",
   "execution_count": 7,
   "metadata": {},
   "outputs": [
    {
     "data": {
      "text/plain": [
       "Index(['Pregnancies', 'Glucose', 'BloodPressure', 'SkinThickness', 'Insulin',\n",
       "       'BMI', 'DiabetesPedigreeFunction', 'Age', 'Outcome'],\n",
       "      dtype='object')"
      ]
     },
     "execution_count": 7,
     "metadata": {},
     "output_type": "execute_result"
    }
   ],
   "source": [
    "data.columns"
   ]
  },
  {
   "cell_type": "markdown",
   "metadata": {},
   "source": [
    "Apparently, the Outcome column contains the class label. So it should be excluded from the features. Let's also assume Age is not that relevant, so we also drop it from the feature columns."
   ]
  },
  {
   "cell_type": "code",
   "execution_count": 8,
   "metadata": {},
   "outputs": [
    {
     "data": {
      "text/plain": [
       "Index(['Pregnancies', 'Glucose', 'BloodPressure', 'SkinThickness', 'Insulin',\n",
       "       'BMI', 'DiabetesPedigreeFunction'],\n",
       "      dtype='object')"
      ]
     },
     "execution_count": 8,
     "metadata": {},
     "output_type": "execute_result"
    }
   ],
   "source": [
    "features = data.columns.drop(['Age', 'Outcome'])\n",
    "features"
   ]
  },
  {
   "cell_type": "markdown",
   "metadata": {},
   "source": [
    "Conventionaly, we use **X** to represent all data under the feature columns, and *y* the class label column in the data."
   ]
  },
  {
   "cell_type": "code",
   "execution_count": 9,
   "metadata": {},
   "outputs": [],
   "source": [
    "# Features\n",
    "X = data[features]\n",
    "\n",
    "# Target variable\n",
    "y = data.Outcome "
   ]
  },
  {
   "cell_type": "markdown",
   "metadata": {},
   "source": [
    "## 3. A Simple KNN"
   ]
  },
  {
   "cell_type": "markdown",
   "metadata": {},
   "source": [
    "We just create a simple, default KNN classifier:"
   ]
  },
  {
   "cell_type": "code",
   "execution_count": 10,
   "metadata": {},
   "outputs": [
    {
     "name": "stdout",
     "output_type": "stream",
     "text": [
      "Accuracy: 0.6822916666666666\n",
      "\n"
     ]
    }
   ],
   "source": [
    "X_train, X_test, y_train, y_test = train_test_split(X, y, test_size=0.25, random_state=42)\n",
    "\n",
    "# n_neighbors=5 by default\n",
    "knn = KNeighborsClassifier()\n",
    "\n",
    "# Training (very light compared to an eager learner)\n",
    "knn.fit(X_train, y_train)\n",
    "\n",
    "# Validation/Test\n",
    "y_pred = knn.predict(X_test)\n",
    "          \n",
    "# Get the accuracy from metrics\n",
    "accuracy = metrics.accuracy_score(y_test, y_pred)\n",
    "print(\"Accuracy: {}\\r\\n\".format(accuracy))            "
   ]
  },
  {
   "cell_type": "markdown",
   "metadata": {},
   "source": [
    "The plain confusion matrix:"
   ]
  },
  {
   "cell_type": "code",
   "execution_count": 11,
   "metadata": {},
   "outputs": [
    {
     "data": {
      "text/plain": [
       "array([[92, 31],\n",
       "       [30, 39]], dtype=int64)"
      ]
     },
     "execution_count": 11,
     "metadata": {},
     "output_type": "execute_result"
    }
   ],
   "source": [
    "metrics.confusion_matrix(y_test.values, y_pred)"
   ]
  },
  {
   "cell_type": "markdown",
   "metadata": {},
   "source": [
    "The visual confusion matrix:"
   ]
  },
  {
   "cell_type": "code",
   "execution_count": 12,
   "metadata": {},
   "outputs": [
    {
     "name": "stderr",
     "output_type": "stream",
     "text": [
      "c:\\Users\\mathi\\anaconda3\\lib\\site-packages\\sklearn\\utils\\deprecation.py:87: FutureWarning: Function plot_confusion_matrix is deprecated; Function `plot_confusion_matrix` is deprecated in 1.0 and will be removed in 1.2. Use one of the class methods: ConfusionMatrixDisplay.from_predictions or ConfusionMatrixDisplay.from_estimator.\n",
      "  warnings.warn(msg, category=FutureWarning)\n"
     ]
    },
    {
     "data": {
      "image/png": "[encoded data removed]",
      "text/plain": [
       "<Figure size 432x288 with 2 Axes>"
      ]
     },
     "metadata": {
      "needs_background": "light"
     },
     "output_type": "display_data"
    }
   ],
   "source": [
    "import matplotlib.pyplot as plt\n",
    "from sklearn.metrics import plot_confusion_matrix\n",
    "\n",
    "plot_confusion_matrix(knn, X_test, y_test)\n",
    "plt.show()"
   ]
  },
  {
   "cell_type": "markdown",
   "metadata": {},
   "source": [
    "## 4. A Series of KNN Classifiers\n",
    "\n",
    "In this example, we try out many different combinations of the percetage of test data and the value of K for KNN. For each iteration, we split the labelled data, apply the KNN, and measure the performance of the current classifier.\n",
    "\n",
    "We also record all accuracy results for later visualized comparion between using and not using data scaling."
   ]
  },
  {
   "cell_type": "code",
   "execution_count": 13,
   "metadata": {},
   "outputs": [],
   "source": [
    "def knnRunner(X, y):\n",
    "    # We create a 2-D array to store all accuracy values\n",
    "    accuracy_data = []\n",
    "    \n",
    "    for training_percent in [0.7, 0.8, 0.9]:\n",
    "        X_train, X_test, y_train, y_test = train_test_split(X, y, test_size=1-training_percent, random_state=1)\n",
    "\n",
    "        # We crate a 1-D array to store all accuracy values on this split batch\n",
    "        accuracy_row = []\n",
    "        \n",
    "        for k in range(2, 11):\n",
    "            # Model intializing\n",
    "            knn = KNeighborsClassifier(n_neighbors=k)\n",
    "\n",
    "            # Training (very light compared to an eager learner)\n",
    "            knn.fit(X_train, y_train)\n",
    "\n",
    "            # Validation/Test\n",
    "            y_pred = knn.predict(X_test)\n",
    "\n",
    "            print(\"KNN with training_percent={}, k={}:\\r\".format(training_percent, k))\n",
    "            \n",
    "            # Get the accuracy from metrics\n",
    "            accuracy = metrics.accuracy_score(y_test, y_pred)\n",
    "            print(\"Accuracy: {}\\r\\n\".format(accuracy))\n",
    "\n",
    "            accuracy_row.append(accuracy)\n",
    "            \n",
    "        accuracy_data.append(accuracy_row)\n",
    "    \n",
    "    return accuracy_data"
   ]
  },
  {
   "cell_type": "code",
   "execution_count": 14,
   "metadata": {},
   "outputs": [
    {
     "name": "stdout",
     "output_type": "stream",
     "text": [
      "KNN with training_percent=0.7, k=2:\n",
      "Accuracy: 0.7012987012987013\n",
      "\n",
      "KNN with training_percent=0.7, k=3:\n",
      "Accuracy: 0.7272727272727273\n",
      "\n",
      "KNN with training_percent=0.7, k=4:\n",
      "Accuracy: 0.7445887445887446\n",
      "\n",
      "KNN with training_percent=0.7, k=5:\n",
      "Accuracy: 0.7402597402597403\n",
      "\n",
      "KNN with training_percent=0.7, k=6:\n",
      "Accuracy: 0.7316017316017316\n",
      "\n",
      "KNN with training_percent=0.7, k=7:\n",
      "Accuracy: 0.7359307359307359\n",
      "\n",
      "KNN with training_percent=0.7, k=8:\n",
      "Accuracy: 0.7272727272727273\n",
      "\n",
      "KNN with training_percent=0.7, k=9:\n",
      "Accuracy: 0.7359307359307359\n",
      "\n",
      "KNN with training_percent=0.7, k=10:\n",
      "Accuracy: 0.7575757575757576\n",
      "\n",
      "KNN with training_percent=0.8, k=2:\n",
      "Accuracy: 0.6948051948051948\n",
      "\n",
      "KNN with training_percent=0.8, k=3:\n",
      "Accuracy: 0.7142857142857143\n",
      "\n",
      "KNN with training_percent=0.8, k=4:\n",
      "Accuracy: 0.7402597402597403\n",
      "\n",
      "KNN with training_percent=0.8, k=5:\n",
      "Accuracy: 0.7337662337662337\n",
      "\n",
      "KNN with training_percent=0.8, k=6:\n",
      "Accuracy: 0.7207792207792207\n",
      "\n",
      "KNN with training_percent=0.8, k=7:\n",
      "Accuracy: 0.7272727272727273\n",
      "\n",
      "KNN with training_percent=0.8, k=8:\n",
      "Accuracy: 0.7532467532467533\n",
      "\n",
      "KNN with training_percent=0.8, k=9:\n",
      "Accuracy: 0.7337662337662337\n",
      "\n",
      "KNN with training_percent=0.8, k=10:\n",
      "Accuracy: 0.7337662337662337\n",
      "\n",
      "KNN with training_percent=0.9, k=2:\n",
      "Accuracy: 0.7142857142857143\n",
      "\n",
      "KNN with training_percent=0.9, k=3:\n",
      "Accuracy: 0.8181818181818182\n",
      "\n",
      "KNN with training_percent=0.9, k=4:\n",
      "Accuracy: 0.7402597402597403\n",
      "\n",
      "KNN with training_percent=0.9, k=5:\n",
      "Accuracy: 0.7662337662337663\n",
      "\n",
      "KNN with training_percent=0.9, k=6:\n",
      "Accuracy: 0.7532467532467533\n",
      "\n",
      "KNN with training_percent=0.9, k=7:\n",
      "Accuracy: 0.7662337662337663\n",
      "\n",
      "KNN with training_percent=0.9, k=8:\n",
      "Accuracy: 0.7532467532467533\n",
      "\n",
      "KNN with training_percent=0.9, k=9:\n",
      "Accuracy: 0.7662337662337663\n",
      "\n",
      "KNN with training_percent=0.9, k=10:\n",
      "Accuracy: 0.7532467532467533\n",
      "\n"
     ]
    }
   ],
   "source": [
    "accuracies_no_scaling = knnRunner(X, y)"
   ]
  },
  {
   "cell_type": "code",
   "execution_count": 61,
   "metadata": {
    "scrolled": true
   },
   "outputs": [
    {
     "data": {
      "text/plain": [
       "[[0.7012987012987013,\n",
       "  0.7272727272727273,\n",
       "  0.7445887445887446,\n",
       "  0.7402597402597403,\n",
       "  0.7316017316017316,\n",
       "  0.7359307359307359,\n",
       "  0.7272727272727273,\n",
       "  0.7359307359307359,\n",
       "  0.7575757575757576],\n",
       " [0.6948051948051948,\n",
       "  0.7142857142857143,\n",
       "  0.7402597402597403,\n",
       "  0.7337662337662337,\n",
       "  0.7207792207792207,\n",
       "  0.7272727272727273,\n",
       "  0.7532467532467533,\n",
       "  0.7337662337662337,\n",
       "  0.7337662337662337],\n",
       " [0.7142857142857143,\n",
       "  0.8181818181818182,\n",
       "  0.7402597402597403,\n",
       "  0.7662337662337663,\n",
       "  0.7532467532467533,\n",
       "  0.7662337662337663,\n",
       "  0.7532467532467533,\n",
       "  0.7662337662337663,\n",
       "  0.7532467532467533]]"
      ]
     },
     "execution_count": 61,
     "metadata": {},
     "output_type": "execute_result"
    }
   ],
   "source": [
    "accuracies_no_scaling"
   ]
  },
  {
   "cell_type": "markdown",
   "metadata": {},
   "source": [
    "## 5. Data Scaling"
   ]
  },
  {
   "cell_type": "markdown",
   "metadata": {},
   "source": [
    "Let's take a 'statistical' view of all features:"
   ]
  },
  {
   "cell_type": "code",
   "execution_count": 15,
   "metadata": {
    "scrolled": true
   },
   "outputs": [
    {
     "data": {
      "text/html": [
       "<div>\n",
       "<style scoped>\n",
       "    .dataframe tbody tr th:only-of-type {\n",
       "        vertical-align: middle;\n",
       "    }\n",
       "\n",
       "    .dataframe tbody tr th {\n",
       "        vertical-align: top;\n",
       "    }\n",
       "\n",
       "    .dataframe thead th {\n",
       "        text-align: right;\n",
       "    }\n",
       "</style>\n",
       "<table border=\"1\" class=\"dataframe\">\n",
       "  <thead>\n",
       "    <tr style=\"text-align: right;\">\n",
       "      <th></th>\n",
       "      <th>Pregnancies</th>\n",
       "      <th>Glucose</th>\n",
       "      <th>BloodPressure</th>\n",
       "      <th>SkinThickness</th>\n",
       "      <th>Insulin</th>\n",
       "      <th>BMI</th>\n",
       "      <th>DiabetesPedigreeFunction</th>\n",
       "    </tr>\n",
       "  </thead>\n",
       "  <tbody>\n",
       "    <tr>\n",
       "      <th>count</th>\n",
       "      <td>768.000000</td>\n",
       "      <td>768.000000</td>\n",
       "      <td>768.000000</td>\n",
       "      <td>768.000000</td>\n",
       "      <td>768.000000</td>\n",
       "      <td>768.000000</td>\n",
       "      <td>768.000000</td>\n",
       "    </tr>\n",
       "    <tr>\n",
       "      <th>mean</th>\n",
       "      <td>3.845052</td>\n",
       "      <td>120.894531</td>\n",
       "      <td>69.105469</td>\n",
       "      <td>20.536458</td>\n",
       "      <td>79.799479</td>\n",
       "      <td>31.992578</td>\n",
       "      <td>0.471876</td>\n",
       "    </tr>\n",
       "    <tr>\n",
       "      <th>std</th>\n",
       "      <td>3.369578</td>\n",
       "      <td>31.972618</td>\n",
       "      <td>19.355807</td>\n",
       "      <td>15.952218</td>\n",
       "      <td>115.244002</td>\n",
       "      <td>7.884160</td>\n",
       "      <td>0.331329</td>\n",
       "    </tr>\n",
       "    <tr>\n",
       "      <th>min</th>\n",
       "      <td>0.000000</td>\n",
       "      <td>0.000000</td>\n",
       "      <td>0.000000</td>\n",
       "      <td>0.000000</td>\n",
       "      <td>0.000000</td>\n",
       "      <td>0.000000</td>\n",
       "      <td>0.078000</td>\n",
       "    </tr>\n",
       "    <tr>\n",
       "      <th>25%</th>\n",
       "      <td>1.000000</td>\n",
       "      <td>99.000000</td>\n",
       "      <td>62.000000</td>\n",
       "      <td>0.000000</td>\n",
       "      <td>0.000000</td>\n",
       "      <td>27.300000</td>\n",
       "      <td>0.243750</td>\n",
       "    </tr>\n",
       "    <tr>\n",
       "      <th>50%</th>\n",
       "      <td>3.000000</td>\n",
       "      <td>117.000000</td>\n",
       "      <td>72.000000</td>\n",
       "      <td>23.000000</td>\n",
       "      <td>30.500000</td>\n",
       "      <td>32.000000</td>\n",
       "      <td>0.372500</td>\n",
       "    </tr>\n",
       "    <tr>\n",
       "      <th>75%</th>\n",
       "      <td>6.000000</td>\n",
       "      <td>140.250000</td>\n",
       "      <td>80.000000</td>\n",
       "      <td>32.000000</td>\n",
       "      <td>127.250000</td>\n",
       "      <td>36.600000</td>\n",
       "      <td>0.626250</td>\n",
       "    </tr>\n",
       "    <tr>\n",
       "      <th>max</th>\n",
       "      <td>17.000000</td>\n",
       "      <td>199.000000</td>\n",
       "      <td>122.000000</td>\n",
       "      <td>99.000000</td>\n",
       "      <td>846.000000</td>\n",
       "      <td>67.100000</td>\n",
       "      <td>2.420000</td>\n",
       "    </tr>\n",
       "  </tbody>\n",
       "</table>\n",
       "</div>"
      ],
      "text/plain": [
       "       Pregnancies     Glucose  BloodPressure  SkinThickness     Insulin  \\\n",
       "count   768.000000  768.000000     768.000000     768.000000  768.000000   \n",
       "mean      3.845052  120.894531      69.105469      20.536458   79.799479   \n",
       "std       3.369578   31.972618      19.355807      15.952218  115.244002   \n",
       "min       0.000000    0.000000       0.000000       0.000000    0.000000   \n",
       "25%       1.000000   99.000000      62.000000       0.000000    0.000000   \n",
       "50%       3.000000  117.000000      72.000000      23.000000   30.500000   \n",
       "75%       6.000000  140.250000      80.000000      32.000000  127.250000   \n",
       "max      17.000000  199.000000     122.000000      99.000000  846.000000   \n",
       "\n",
       "              BMI  DiabetesPedigreeFunction  \n",
       "count  768.000000                768.000000  \n",
       "mean    31.992578                  0.471876  \n",
       "std      7.884160                  0.331329  \n",
       "min      0.000000                  0.078000  \n",
       "25%     27.300000                  0.243750  \n",
       "50%     32.000000                  0.372500  \n",
       "75%     36.600000                  0.626250  \n",
       "max     67.100000                  2.420000  "
      ]
     },
     "execution_count": 15,
     "metadata": {},
     "output_type": "execute_result"
    }
   ],
   "source": [
    "X.describe()"
   ]
  },
  {
   "cell_type": "markdown",
   "metadata": {},
   "source": [
    "### 5.1 StandardScaler\n",
    "\n",
    "Let's scale the data using zero mean and unit variance scaling, i.e., StandardScaler:"
   ]
  },
  {
   "cell_type": "code",
   "execution_count": 16,
   "metadata": {},
   "outputs": [],
   "source": [
    "from sklearn.preprocessing import StandardScaler\n",
    "\n",
    "scaler = StandardScaler()\n",
    "X_scaled = pd.DataFrame(scaler.fit_transform(X), columns=X.columns)"
   ]
  },
  {
   "cell_type": "code",
   "execution_count": 17,
   "metadata": {},
   "outputs": [
    {
     "data": {
      "text/html": [
       "<div>\n",
       "<style scoped>\n",
       "    .dataframe tbody tr th:only-of-type {\n",
       "        vertical-align: middle;\n",
       "    }\n",
       "\n",
       "    .dataframe tbody tr th {\n",
       "        vertical-align: top;\n",
       "    }\n",
       "\n",
       "    .dataframe thead th {\n",
       "        text-align: right;\n",
       "    }\n",
       "</style>\n",
       "<table border=\"1\" class=\"dataframe\">\n",
       "  <thead>\n",
       "    <tr style=\"text-align: right;\">\n",
       "      <th></th>\n",
       "      <th>Pregnancies</th>\n",
       "      <th>Glucose</th>\n",
       "      <th>BloodPressure</th>\n",
       "      <th>SkinThickness</th>\n",
       "      <th>Insulin</th>\n",
       "      <th>BMI</th>\n",
       "      <th>DiabetesPedigreeFunction</th>\n",
       "    </tr>\n",
       "  </thead>\n",
       "  <tbody>\n",
       "    <tr>\n",
       "      <th>count</th>\n",
       "      <td>7.680000e+02</td>\n",
       "      <td>7.680000e+02</td>\n",
       "      <td>7.680000e+02</td>\n",
       "      <td>7.680000e+02</td>\n",
       "      <td>7.680000e+02</td>\n",
       "      <td>7.680000e+02</td>\n",
       "      <td>7.680000e+02</td>\n",
       "    </tr>\n",
       "    <tr>\n",
       "      <th>mean</th>\n",
       "      <td>2.544261e-17</td>\n",
       "      <td>3.614007e-18</td>\n",
       "      <td>-1.327244e-17</td>\n",
       "      <td>7.994184e-17</td>\n",
       "      <td>-3.556183e-17</td>\n",
       "      <td>2.295979e-16</td>\n",
       "      <td>2.462585e-16</td>\n",
       "    </tr>\n",
       "    <tr>\n",
       "      <th>std</th>\n",
       "      <td>1.000652e+00</td>\n",
       "      <td>1.000652e+00</td>\n",
       "      <td>1.000652e+00</td>\n",
       "      <td>1.000652e+00</td>\n",
       "      <td>1.000652e+00</td>\n",
       "      <td>1.000652e+00</td>\n",
       "      <td>1.000652e+00</td>\n",
       "    </tr>\n",
       "    <tr>\n",
       "      <th>min</th>\n",
       "      <td>-1.141852e+00</td>\n",
       "      <td>-3.783654e+00</td>\n",
       "      <td>-3.572597e+00</td>\n",
       "      <td>-1.288212e+00</td>\n",
       "      <td>-6.928906e-01</td>\n",
       "      <td>-4.060474e+00</td>\n",
       "      <td>-1.189553e+00</td>\n",
       "    </tr>\n",
       "    <tr>\n",
       "      <th>25%</th>\n",
       "      <td>-8.448851e-01</td>\n",
       "      <td>-6.852363e-01</td>\n",
       "      <td>-3.673367e-01</td>\n",
       "      <td>-1.288212e+00</td>\n",
       "      <td>-6.928906e-01</td>\n",
       "      <td>-5.955785e-01</td>\n",
       "      <td>-6.889685e-01</td>\n",
       "    </tr>\n",
       "    <tr>\n",
       "      <th>50%</th>\n",
       "      <td>-2.509521e-01</td>\n",
       "      <td>-1.218877e-01</td>\n",
       "      <td>1.496408e-01</td>\n",
       "      <td>1.545332e-01</td>\n",
       "      <td>-4.280622e-01</td>\n",
       "      <td>9.419788e-04</td>\n",
       "      <td>-3.001282e-01</td>\n",
       "    </tr>\n",
       "    <tr>\n",
       "      <th>75%</th>\n",
       "      <td>6.399473e-01</td>\n",
       "      <td>6.057709e-01</td>\n",
       "      <td>5.632228e-01</td>\n",
       "      <td>7.190857e-01</td>\n",
       "      <td>4.120079e-01</td>\n",
       "      <td>5.847705e-01</td>\n",
       "      <td>4.662269e-01</td>\n",
       "    </tr>\n",
       "    <tr>\n",
       "      <th>max</th>\n",
       "      <td>3.906578e+00</td>\n",
       "      <td>2.444478e+00</td>\n",
       "      <td>2.734528e+00</td>\n",
       "      <td>4.921866e+00</td>\n",
       "      <td>6.652839e+00</td>\n",
       "      <td>4.455807e+00</td>\n",
       "      <td>5.883565e+00</td>\n",
       "    </tr>\n",
       "  </tbody>\n",
       "</table>\n",
       "</div>"
      ],
      "text/plain": [
       "        Pregnancies       Glucose  BloodPressure  SkinThickness       Insulin  \\\n",
       "count  7.680000e+02  7.680000e+02   7.680000e+02   7.680000e+02  7.680000e+02   \n",
       "mean   2.544261e-17  3.614007e-18  -1.327244e-17   7.994184e-17 -3.556183e-17   \n",
       "std    1.000652e+00  1.000652e+00   1.000652e+00   1.000652e+00  1.000652e+00   \n",
       "min   -1.141852e+00 -3.783654e+00  -3.572597e+00  -1.288212e+00 -6.928906e-01   \n",
       "25%   -8.448851e-01 -6.852363e-01  -3.673367e-01  -1.288212e+00 -6.928906e-01   \n",
       "50%   -2.509521e-01 -1.218877e-01   1.496408e-01   1.545332e-01 -4.280622e-01   \n",
       "75%    6.399473e-01  6.057709e-01   5.632228e-01   7.190857e-01  4.120079e-01   \n",
       "max    3.906578e+00  2.444478e+00   2.734528e+00   4.921866e+00  6.652839e+00   \n",
       "\n",
       "                BMI  DiabetesPedigreeFunction  \n",
       "count  7.680000e+02              7.680000e+02  \n",
       "mean   2.295979e-16              2.462585e-16  \n",
       "std    1.000652e+00              1.000652e+00  \n",
       "min   -4.060474e+00             -1.189553e+00  \n",
       "25%   -5.955785e-01             -6.889685e-01  \n",
       "50%    9.419788e-04             -3.001282e-01  \n",
       "75%    5.847705e-01              4.662269e-01  \n",
       "max    4.455807e+00              5.883565e+00  "
      ]
     },
     "execution_count": 17,
     "metadata": {},
     "output_type": "execute_result"
    }
   ],
   "source": [
    "X_scaled.describe()"
   ]
  },
  {
   "cell_type": "code",
   "execution_count": 18,
   "metadata": {
    "scrolled": false
   },
   "outputs": [
    {
     "name": "stdout",
     "output_type": "stream",
     "text": [
      "KNN with training_percent=0.7, k=2:\n",
      "Accuracy: 0.7142857142857143\n",
      "\n",
      "KNN with training_percent=0.7, k=3:\n",
      "Accuracy: 0.7316017316017316\n",
      "\n",
      "KNN with training_percent=0.7, k=4:\n",
      "Accuracy: 0.7445887445887446\n",
      "\n",
      "KNN with training_percent=0.7, k=5:\n",
      "Accuracy: 0.7748917748917749\n",
      "\n",
      "KNN with training_percent=0.7, k=6:\n",
      "Accuracy: 0.7575757575757576\n",
      "\n",
      "KNN with training_percent=0.7, k=7:\n",
      "Accuracy: 0.7922077922077922\n",
      "\n",
      "KNN with training_percent=0.7, k=8:\n",
      "Accuracy: 0.7575757575757576\n",
      "\n",
      "KNN with training_percent=0.7, k=9:\n",
      "Accuracy: 0.7878787878787878\n",
      "\n",
      "KNN with training_percent=0.7, k=10:\n",
      "Accuracy: 0.7792207792207793\n",
      "\n",
      "KNN with training_percent=0.8, k=2:\n",
      "Accuracy: 0.7207792207792207\n",
      "\n",
      "KNN with training_percent=0.8, k=3:\n",
      "Accuracy: 0.7467532467532467\n",
      "\n",
      "KNN with training_percent=0.8, k=4:\n",
      "Accuracy: 0.7662337662337663\n",
      "\n",
      "KNN with training_percent=0.8, k=5:\n",
      "Accuracy: 0.7857142857142857\n",
      "\n",
      "KNN with training_percent=0.8, k=6:\n",
      "Accuracy: 0.7662337662337663\n",
      "\n",
      "KNN with training_percent=0.8, k=7:\n",
      "Accuracy: 0.7857142857142857\n",
      "\n",
      "KNN with training_percent=0.8, k=8:\n",
      "Accuracy: 0.7792207792207793\n",
      "\n",
      "KNN with training_percent=0.8, k=9:\n",
      "Accuracy: 0.7727272727272727\n",
      "\n",
      "KNN with training_percent=0.8, k=10:\n",
      "Accuracy: 0.7662337662337663\n",
      "\n",
      "KNN with training_percent=0.9, k=2:\n",
      "Accuracy: 0.7272727272727273\n",
      "\n",
      "KNN with training_percent=0.9, k=3:\n",
      "Accuracy: 0.8051948051948052\n",
      "\n",
      "KNN with training_percent=0.9, k=4:\n",
      "Accuracy: 0.8441558441558441\n",
      "\n",
      "KNN with training_percent=0.9, k=5:\n",
      "Accuracy: 0.7922077922077922\n",
      "\n",
      "KNN with training_percent=0.9, k=6:\n",
      "Accuracy: 0.8051948051948052\n",
      "\n",
      "KNN with training_percent=0.9, k=7:\n",
      "Accuracy: 0.8181818181818182\n",
      "\n",
      "KNN with training_percent=0.9, k=8:\n",
      "Accuracy: 0.8181818181818182\n",
      "\n",
      "KNN with training_percent=0.9, k=9:\n",
      "Accuracy: 0.8181818181818182\n",
      "\n",
      "KNN with training_percent=0.9, k=10:\n",
      "Accuracy: 0.7662337662337663\n",
      "\n"
     ]
    }
   ],
   "source": [
    "accuracies_standard_scaling = knnRunner(X_scaled, y)"
   ]
  },
  {
   "cell_type": "code",
   "execution_count": 63,
   "metadata": {},
   "outputs": [
    {
     "data": {
      "text/plain": [
       "[[0.7142857142857143,\n",
       "  0.7316017316017316,\n",
       "  0.7445887445887446,\n",
       "  0.7748917748917749,\n",
       "  0.7575757575757576,\n",
       "  0.7922077922077922,\n",
       "  0.7575757575757576,\n",
       "  0.7878787878787878,\n",
       "  0.7792207792207793],\n",
       " [0.7207792207792207,\n",
       "  0.7467532467532467,\n",
       "  0.7662337662337663,\n",
       "  0.7857142857142857,\n",
       "  0.7662337662337663,\n",
       "  0.7857142857142857,\n",
       "  0.7792207792207793,\n",
       "  0.7727272727272727,\n",
       "  0.7662337662337663],\n",
       " [0.7272727272727273,\n",
       "  0.8051948051948052,\n",
       "  0.8441558441558441,\n",
       "  0.7922077922077922,\n",
       "  0.8051948051948052,\n",
       "  0.8181818181818182,\n",
       "  0.8181818181818182,\n",
       "  0.8181818181818182,\n",
       "  0.7662337662337663]]"
      ]
     },
     "execution_count": 63,
     "metadata": {},
     "output_type": "execute_result"
    }
   ],
   "source": [
    "accuracies_standard_scaling"
   ]
  },
  {
   "cell_type": "markdown",
   "metadata": {},
   "source": [
    "Above, it is clear that KNN classifiers after data scaling achieve higher accuracy than the counterparts without scaling."
   ]
  },
  {
   "cell_type": "markdown",
   "metadata": {},
   "source": [
    "### 5.2 MinMaxScaler\n",
    "\n",
    "Let's try 0-1 scaling (MinMaxScaler) and see the effect."
   ]
  },
  {
   "cell_type": "code",
   "execution_count": 19,
   "metadata": {},
   "outputs": [],
   "source": [
    "from sklearn.preprocessing import MinMaxScaler\n",
    "\n",
    "minMaxScaler = MinMaxScaler()\n",
    "X_scaled_mm = pd.DataFrame(minMaxScaler.fit_transform(X), columns=X.columns)"
   ]
  },
  {
   "cell_type": "code",
   "execution_count": 20,
   "metadata": {
    "scrolled": true
   },
   "outputs": [
    {
     "data": {
      "text/html": [
       "<div>\n",
       "<style scoped>\n",
       "    .dataframe tbody tr th:only-of-type {\n",
       "        vertical-align: middle;\n",
       "    }\n",
       "\n",
       "    .dataframe tbody tr th {\n",
       "        vertical-align: top;\n",
       "    }\n",
       "\n",
       "    .dataframe thead th {\n",
       "        text-align: right;\n",
       "    }\n",
       "</style>\n",
       "<table border=\"1\" class=\"dataframe\">\n",
       "  <thead>\n",
       "    <tr style=\"text-align: right;\">\n",
       "      <th></th>\n",
       "      <th>Pregnancies</th>\n",
       "      <th>Glucose</th>\n",
       "      <th>BloodPressure</th>\n",
       "      <th>SkinThickness</th>\n",
       "      <th>Insulin</th>\n",
       "      <th>BMI</th>\n",
       "      <th>DiabetesPedigreeFunction</th>\n",
       "    </tr>\n",
       "  </thead>\n",
       "  <tbody>\n",
       "    <tr>\n",
       "      <th>count</th>\n",
       "      <td>768.000000</td>\n",
       "      <td>768.000000</td>\n",
       "      <td>768.000000</td>\n",
       "      <td>768.000000</td>\n",
       "      <td>768.000000</td>\n",
       "      <td>768.000000</td>\n",
       "      <td>768.000000</td>\n",
       "    </tr>\n",
       "    <tr>\n",
       "      <th>mean</th>\n",
       "      <td>0.226180</td>\n",
       "      <td>0.607510</td>\n",
       "      <td>0.566438</td>\n",
       "      <td>0.207439</td>\n",
       "      <td>0.094326</td>\n",
       "      <td>0.476790</td>\n",
       "      <td>0.168179</td>\n",
       "    </tr>\n",
       "    <tr>\n",
       "      <th>std</th>\n",
       "      <td>0.198210</td>\n",
       "      <td>0.160666</td>\n",
       "      <td>0.158654</td>\n",
       "      <td>0.161134</td>\n",
       "      <td>0.136222</td>\n",
       "      <td>0.117499</td>\n",
       "      <td>0.141473</td>\n",
       "    </tr>\n",
       "    <tr>\n",
       "      <th>min</th>\n",
       "      <td>0.000000</td>\n",
       "      <td>0.000000</td>\n",
       "      <td>0.000000</td>\n",
       "      <td>0.000000</td>\n",
       "      <td>0.000000</td>\n",
       "      <td>0.000000</td>\n",
       "      <td>0.000000</td>\n",
       "    </tr>\n",
       "    <tr>\n",
       "      <th>25%</th>\n",
       "      <td>0.058824</td>\n",
       "      <td>0.497487</td>\n",
       "      <td>0.508197</td>\n",
       "      <td>0.000000</td>\n",
       "      <td>0.000000</td>\n",
       "      <td>0.406855</td>\n",
       "      <td>0.070773</td>\n",
       "    </tr>\n",
       "    <tr>\n",
       "      <th>50%</th>\n",
       "      <td>0.176471</td>\n",
       "      <td>0.587940</td>\n",
       "      <td>0.590164</td>\n",
       "      <td>0.232323</td>\n",
       "      <td>0.036052</td>\n",
       "      <td>0.476900</td>\n",
       "      <td>0.125747</td>\n",
       "    </tr>\n",
       "    <tr>\n",
       "      <th>75%</th>\n",
       "      <td>0.352941</td>\n",
       "      <td>0.704774</td>\n",
       "      <td>0.655738</td>\n",
       "      <td>0.323232</td>\n",
       "      <td>0.150414</td>\n",
       "      <td>0.545455</td>\n",
       "      <td>0.234095</td>\n",
       "    </tr>\n",
       "    <tr>\n",
       "      <th>max</th>\n",
       "      <td>1.000000</td>\n",
       "      <td>1.000000</td>\n",
       "      <td>1.000000</td>\n",
       "      <td>1.000000</td>\n",
       "      <td>1.000000</td>\n",
       "      <td>1.000000</td>\n",
       "      <td>1.000000</td>\n",
       "    </tr>\n",
       "  </tbody>\n",
       "</table>\n",
       "</div>"
      ],
      "text/plain": [
       "       Pregnancies     Glucose  BloodPressure  SkinThickness     Insulin  \\\n",
       "count   768.000000  768.000000     768.000000     768.000000  768.000000   \n",
       "mean      0.226180    0.607510       0.566438       0.207439    0.094326   \n",
       "std       0.198210    0.160666       0.158654       0.161134    0.136222   \n",
       "min       0.000000    0.000000       0.000000       0.000000    0.000000   \n",
       "25%       0.058824    0.497487       0.508197       0.000000    0.000000   \n",
       "50%       0.176471    0.587940       0.590164       0.232323    0.036052   \n",
       "75%       0.352941    0.704774       0.655738       0.323232    0.150414   \n",
       "max       1.000000    1.000000       1.000000       1.000000    1.000000   \n",
       "\n",
       "              BMI  DiabetesPedigreeFunction  \n",
       "count  768.000000                768.000000  \n",
       "mean     0.476790                  0.168179  \n",
       "std      0.117499                  0.141473  \n",
       "min      0.000000                  0.000000  \n",
       "25%      0.406855                  0.070773  \n",
       "50%      0.476900                  0.125747  \n",
       "75%      0.545455                  0.234095  \n",
       "max      1.000000                  1.000000  "
      ]
     },
     "execution_count": 20,
     "metadata": {},
     "output_type": "execute_result"
    }
   ],
   "source": [
    "X_scaled_mm.describe()"
   ]
  },
  {
   "cell_type": "code",
   "execution_count": 21,
   "metadata": {
    "scrolled": true
   },
   "outputs": [
    {
     "name": "stdout",
     "output_type": "stream",
     "text": [
      "KNN with training_percent=0.7, k=2:\n",
      "Accuracy: 0.696969696969697\n",
      "\n",
      "KNN with training_percent=0.7, k=3:\n",
      "Accuracy: 0.7272727272727273\n",
      "\n",
      "KNN with training_percent=0.7, k=4:\n",
      "Accuracy: 0.7229437229437229\n",
      "\n",
      "KNN with training_percent=0.7, k=5:\n",
      "Accuracy: 0.7662337662337663\n",
      "\n",
      "KNN with training_percent=0.7, k=6:\n",
      "Accuracy: 0.7445887445887446\n",
      "\n",
      "KNN with training_percent=0.7, k=7:\n",
      "Accuracy: 0.7748917748917749\n",
      "\n",
      "KNN with training_percent=0.7, k=8:\n",
      "Accuracy: 0.7662337662337663\n",
      "\n",
      "KNN with training_percent=0.7, k=9:\n",
      "Accuracy: 0.7792207792207793\n",
      "\n",
      "KNN with training_percent=0.7, k=10:\n",
      "Accuracy: 0.7489177489177489\n",
      "\n",
      "KNN with training_percent=0.8, k=2:\n",
      "Accuracy: 0.7142857142857143\n",
      "\n",
      "KNN with training_percent=0.8, k=3:\n",
      "Accuracy: 0.7662337662337663\n",
      "\n",
      "KNN with training_percent=0.8, k=4:\n",
      "Accuracy: 0.7727272727272727\n",
      "\n",
      "KNN with training_percent=0.8, k=5:\n",
      "Accuracy: 0.7792207792207793\n",
      "\n",
      "KNN with training_percent=0.8, k=6:\n",
      "Accuracy: 0.7727272727272727\n",
      "\n",
      "KNN with training_percent=0.8, k=7:\n",
      "Accuracy: 0.7987012987012987\n",
      "\n",
      "KNN with training_percent=0.8, k=8:\n",
      "Accuracy: 0.7727272727272727\n",
      "\n",
      "KNN with training_percent=0.8, k=9:\n",
      "Accuracy: 0.7727272727272727\n",
      "\n",
      "KNN with training_percent=0.8, k=10:\n",
      "Accuracy: 0.7662337662337663\n",
      "\n",
      "KNN with training_percent=0.9, k=2:\n",
      "Accuracy: 0.7012987012987013\n",
      "\n",
      "KNN with training_percent=0.9, k=3:\n",
      "Accuracy: 0.7402597402597403\n",
      "\n",
      "KNN with training_percent=0.9, k=4:\n",
      "Accuracy: 0.8051948051948052\n",
      "\n",
      "KNN with training_percent=0.9, k=5:\n",
      "Accuracy: 0.7922077922077922\n",
      "\n",
      "KNN with training_percent=0.9, k=6:\n",
      "Accuracy: 0.7792207792207793\n",
      "\n",
      "KNN with training_percent=0.9, k=7:\n",
      "Accuracy: 0.8311688311688312\n",
      "\n",
      "KNN with training_percent=0.9, k=8:\n",
      "Accuracy: 0.8181818181818182\n",
      "\n",
      "KNN with training_percent=0.9, k=9:\n",
      "Accuracy: 0.7922077922077922\n",
      "\n",
      "KNN with training_percent=0.9, k=10:\n",
      "Accuracy: 0.7662337662337663\n",
      "\n"
     ]
    }
   ],
   "source": [
    "accuracies_minmax_scaling = knnRunner(X_scaled_mm, y)"
   ]
  },
  {
   "cell_type": "code",
   "execution_count": 22,
   "metadata": {},
   "outputs": [
    {
     "data": {
      "text/plain": [
       "[[0.696969696969697,\n",
       "  0.7272727272727273,\n",
       "  0.7229437229437229,\n",
       "  0.7662337662337663,\n",
       "  0.7445887445887446,\n",
       "  0.7748917748917749,\n",
       "  0.7662337662337663,\n",
       "  0.7792207792207793,\n",
       "  0.7489177489177489],\n",
       " [0.7142857142857143,\n",
       "  0.7662337662337663,\n",
       "  0.7727272727272727,\n",
       "  0.7792207792207793,\n",
       "  0.7727272727272727,\n",
       "  0.7987012987012987,\n",
       "  0.7727272727272727,\n",
       "  0.7727272727272727,\n",
       "  0.7662337662337663],\n",
       " [0.7012987012987013,\n",
       "  0.7402597402597403,\n",
       "  0.8051948051948052,\n",
       "  0.7922077922077922,\n",
       "  0.7792207792207793,\n",
       "  0.8311688311688312,\n",
       "  0.8181818181818182,\n",
       "  0.7922077922077922,\n",
       "  0.7662337662337663]]"
      ]
     },
     "execution_count": 22,
     "metadata": {},
     "output_type": "execute_result"
    }
   ],
   "source": [
    "accuracies_minmax_scaling"
   ]
  },
  {
   "cell_type": "markdown",
   "metadata": {},
   "source": [
    "### 5.3 Visualize the scaling effect\n",
    "\n",
    "We first organize all three 2-D arrays into three DataFrames, respectively."
   ]
  },
  {
   "cell_type": "code",
   "execution_count": 23,
   "metadata": {},
   "outputs": [],
   "source": [
    "columns = [2, 3, 4, 5, 6, 7, 8, 9, 10]\n",
    "index = ['0.7', '0.8', '0.9']\n",
    "\n",
    "df_no_scaling = pd.DataFrame(accuracies_no_scaling, columns=columns, index=index).transpose()\n",
    "df_standard_scaling = pd.DataFrame(accuracies_standard_scaling, columns=columns, index=index).transpose()\n",
    "df_minmax_scaling = pd.DataFrame(accuracies_minmax_scaling, columns=columns, index=index).transpose()"
   ]
  },
  {
   "cell_type": "code",
   "execution_count": 24,
   "metadata": {},
   "outputs": [
    {
     "data": {
      "text/html": [
       "<div>\n",
       "<style scoped>\n",
       "    .dataframe tbody tr th:only-of-type {\n",
       "        vertical-align: middle;\n",
       "    }\n",
       "\n",
       "    .dataframe tbody tr th {\n",
       "        vertical-align: top;\n",
       "    }\n",
       "\n",
       "    .dataframe thead th {\n",
       "        text-align: right;\n",
       "    }\n",
       "</style>\n",
       "<table border=\"1\" class=\"dataframe\">\n",
       "  <thead>\n",
       "    <tr style=\"text-align: right;\">\n",
       "      <th></th>\n",
       "      <th>0.7</th>\n",
       "      <th>0.8</th>\n",
       "      <th>0.9</th>\n",
       "    </tr>\n",
       "  </thead>\n",
       "  <tbody>\n",
       "    <tr>\n",
       "      <th>2</th>\n",
       "      <td>0.701299</td>\n",
       "      <td>0.694805</td>\n",
       "      <td>0.714286</td>\n",
       "    </tr>\n",
       "    <tr>\n",
       "      <th>3</th>\n",
       "      <td>0.727273</td>\n",
       "      <td>0.714286</td>\n",
       "      <td>0.818182</td>\n",
       "    </tr>\n",
       "    <tr>\n",
       "      <th>4</th>\n",
       "      <td>0.744589</td>\n",
       "      <td>0.740260</td>\n",
       "      <td>0.740260</td>\n",
       "    </tr>\n",
       "    <tr>\n",
       "      <th>5</th>\n",
       "      <td>0.740260</td>\n",
       "      <td>0.733766</td>\n",
       "      <td>0.766234</td>\n",
       "    </tr>\n",
       "    <tr>\n",
       "      <th>6</th>\n",
       "      <td>0.731602</td>\n",
       "      <td>0.720779</td>\n",
       "      <td>0.753247</td>\n",
       "    </tr>\n",
       "    <tr>\n",
       "      <th>7</th>\n",
       "      <td>0.735931</td>\n",
       "      <td>0.727273</td>\n",
       "      <td>0.766234</td>\n",
       "    </tr>\n",
       "    <tr>\n",
       "      <th>8</th>\n",
       "      <td>0.727273</td>\n",
       "      <td>0.753247</td>\n",
       "      <td>0.753247</td>\n",
       "    </tr>\n",
       "    <tr>\n",
       "      <th>9</th>\n",
       "      <td>0.735931</td>\n",
       "      <td>0.733766</td>\n",
       "      <td>0.766234</td>\n",
       "    </tr>\n",
       "    <tr>\n",
       "      <th>10</th>\n",
       "      <td>0.757576</td>\n",
       "      <td>0.733766</td>\n",
       "      <td>0.753247</td>\n",
       "    </tr>\n",
       "  </tbody>\n",
       "</table>\n",
       "</div>"
      ],
      "text/plain": [
       "         0.7       0.8       0.9\n",
       "2   0.701299  0.694805  0.714286\n",
       "3   0.727273  0.714286  0.818182\n",
       "4   0.744589  0.740260  0.740260\n",
       "5   0.740260  0.733766  0.766234\n",
       "6   0.731602  0.720779  0.753247\n",
       "7   0.735931  0.727273  0.766234\n",
       "8   0.727273  0.753247  0.753247\n",
       "9   0.735931  0.733766  0.766234\n",
       "10  0.757576  0.733766  0.753247"
      ]
     },
     "execution_count": 24,
     "metadata": {},
     "output_type": "execute_result"
    }
   ],
   "source": [
    "df_no_scaling"
   ]
  },
  {
   "cell_type": "code",
   "execution_count": 25,
   "metadata": {},
   "outputs": [],
   "source": [
    "def plotAccuracy(col):\n",
    "    import matplotlib.pyplot as plt\n",
    "\n",
    "    plt.plot(df_standard_scaling.index, df_standard_scaling[col], 'b.-', label = 'standard scaling', color='pink')\n",
    "    plt.plot(df_minmax_scaling.index, df_minmax_scaling[col], 'b.-', label = 'minmax scaling', color='blue')\n",
    "    plt.plot(df_no_scaling.index, df_no_scaling[col], 'b.-', label = 'no scaling', color='green')\n",
    "\n",
    "    plt.xlabel('K')\n",
    "    plt.ylabel('KNN accuracy')\n",
    "    plt.title('Effect of data scaling on KNN for training data ratio={}'.format(col))\n",
    "\n",
    "    plt.legend()"
   ]
  },
  {
   "cell_type": "code",
   "execution_count": 26,
   "metadata": {
    "scrolled": true
   },
   "outputs": [
    {
     "name": "stderr",
     "output_type": "stream",
     "text": [
      "C:\\Users\\mathi\\AppData\\Local\\Temp\\ipykernel_25388\\2969690644.py:4: UserWarning: color is redundantly defined by the 'color' keyword argument and the fmt string \"b.-\" (-> color='b'). The keyword argument will take precedence.\n",
      "  plt.plot(df_standard_scaling.index, df_standard_scaling[col], 'b.-', label = 'standard scaling', color='pink')\n",
      "C:\\Users\\mathi\\AppData\\Local\\Temp\\ipykernel_25388\\2969690644.py:5: UserWarning: color is redundantly defined by the 'color' keyword argument and the fmt string \"b.-\" (-> color='b'). The keyword argument will take precedence.\n",
      "  plt.plot(df_minmax_scaling.index, df_minmax_scaling[col], 'b.-', label = 'minmax scaling', color='blue')\n",
      "C:\\Users\\mathi\\AppData\\Local\\Temp\\ipykernel_25388\\2969690644.py:6: UserWarning: color is redundantly defined by the 'color' keyword argument and the fmt string \"b.-\" (-> color='b'). The keyword argument will take precedence.\n",
      "  plt.plot(df_no_scaling.index, df_no_scaling[col], 'b.-', label = 'no scaling', color='green')\n"
     ]
    },
    {
     "data": {
      "image/png": "[encoded data removed]",
      "text/plain": [
       "<Figure size 432x288 with 1 Axes>"
      ]
     },
     "metadata": {
      "needs_background": "light"
     },
     "output_type": "display_data"
    }
   ],
   "source": [
    "plotAccuracy('0.7')"
   ]
  },
  {
   "cell_type": "code",
   "execution_count": 27,
   "metadata": {
    "scrolled": true
   },
   "outputs": [
    {
     "name": "stderr",
     "output_type": "stream",
     "text": [
      "C:\\Users\\mathi\\AppData\\Local\\Temp\\ipykernel_25388\\2969690644.py:4: UserWarning: color is redundantly defined by the 'color' keyword argument and the fmt string \"b.-\" (-> color='b'). The keyword argument will take precedence.\n",
      "  plt.plot(df_standard_scaling.index, df_standard_scaling[col], 'b.-', label = 'standard scaling', color='pink')\n",
      "C:\\Users\\mathi\\AppData\\Local\\Temp\\ipykernel_25388\\2969690644.py:5: UserWarning: color is redundantly defined by the 'color' keyword argument and the fmt string \"b.-\" (-> color='b'). The keyword argument will take precedence.\n",
      "  plt.plot(df_minmax_scaling.index, df_minmax_scaling[col], 'b.-', label = 'minmax scaling', color='blue')\n",
      "C:\\Users\\mathi\\AppData\\Local\\Temp\\ipykernel_25388\\2969690644.py:6: UserWarning: color is redundantly defined by the 'color' keyword argument and the fmt string \"b.-\" (-> color='b'). The keyword argument will take precedence.\n",
      "  plt.plot(df_no_scaling.index, df_no_scaling[col], 'b.-', label = 'no scaling', color='green')\n"
     ]
    },
    {
     "data": {
      "image/png": "[encoded data removed]",
      "text/plain": [
       "<Figure size 432x288 with 1 Axes>"
      ]
     },
     "metadata": {
      "needs_background": "light"
     },
     "output_type": "display_data"
    }
   ],
   "source": [
    "plotAccuracy('0.8')"
   ]
  },
  {
   "cell_type": "code",
   "execution_count": 28,
   "metadata": {
    "scrolled": true
   },
   "outputs": [
    {
     "name": "stderr",
     "output_type": "stream",
     "text": [
      "C:\\Users\\mathi\\AppData\\Local\\Temp\\ipykernel_25388\\2969690644.py:4: UserWarning: color is redundantly defined by the 'color' keyword argument and the fmt string \"b.-\" (-> color='b'). The keyword argument will take precedence.\n",
      "  plt.plot(df_standard_scaling.index, df_standard_scaling[col], 'b.-', label = 'standard scaling', color='pink')\n",
      "C:\\Users\\mathi\\AppData\\Local\\Temp\\ipykernel_25388\\2969690644.py:5: UserWarning: color is redundantly defined by the 'color' keyword argument and the fmt string \"b.-\" (-> color='b'). The keyword argument will take precedence.\n",
      "  plt.plot(df_minmax_scaling.index, df_minmax_scaling[col], 'b.-', label = 'minmax scaling', color='blue')\n",
      "C:\\Users\\mathi\\AppData\\Local\\Temp\\ipykernel_25388\\2969690644.py:6: UserWarning: color is redundantly defined by the 'color' keyword argument and the fmt string \"b.-\" (-> color='b'). The keyword argument will take precedence.\n",
      "  plt.plot(df_no_scaling.index, df_no_scaling[col], 'b.-', label = 'no scaling', color='green')\n"
     ]
    },
    {
     "data": {
      "image/png": "[encoded data removed]",
      "text/plain": [
       "<Figure size 432x288 with 1 Axes>"
      ]
     },
     "metadata": {
      "needs_background": "light"
     },
     "output_type": "display_data"
    }
   ],
   "source": [
    "plotAccuracy('0.9')"
   ]
  },
  {
   "cell_type": "markdown",
   "metadata": {},
   "source": [
    "## 6. Effect of train_test_split(.)"
   ]
  },
  {
   "cell_type": "code",
   "execution_count": 12,
   "metadata": {},
   "outputs": [],
   "source": [
    "columns = [2, 3, 4, 5, 6, 7, 8, 9, 10]\n",
    "index = ['0.7', '0.8', '0.9']\n",
    "\n",
    "df_standard_scaling = pd.DataFrame(accuracies_standard_scaling, columns=columns, index=index).transpose()"
   ]
  },
  {
   "cell_type": "code",
   "execution_count": 15,
   "metadata": {},
   "outputs": [
    {
     "data": {
      "text/plain": [
       "<matplotlib.legend.Legend at 0x2396e9b7310>"
      ]
     },
     "execution_count": 15,
     "metadata": {},
     "output_type": "execute_result"
    },
    {
     "data": {
      "image/png": "[encoded data removed]",
      "text/plain": [
       "<Figure size 432x288 with 1 Axes>"
      ]
     },
     "metadata": {
      "needs_background": "light"
     },
     "output_type": "display_data"
    }
   ],
   "source": [
    "import matplotlib.pyplot as plt\n",
    "\n",
    "plt.plot(df_standard_scaling.index, df_standard_scaling['0.9'], 'b.-', label = '0.9', color='green')\n",
    "plt.plot(df_standard_scaling.index, df_standard_scaling['0.8'], 'b.-', label = '0.8', color='blue')\n",
    "plt.plot(df_standard_scaling.index, df_standard_scaling['0.7'], 'b.-', label = '0.7', color='pink')\n",
    "\n",
    "plt.xlabel('K')\n",
    "plt.ylabel('KNN accuracy')\n",
    "plt.title('Effect of training data percentage on KNN')\n",
    "\n",
    "plt.legend()"
   ]
  },
  {
   "cell_type": "markdown",
   "metadata": {},
   "source": [
    "## 7. Cross-Validation\n",
    "\n",
    "Below we use the diabetes data to demonstrate how to carry out Cross-Validation (or K-Fold validation) and its speicial case LeaveOut. Pay attention to the execution times of each way, especially the long time needed by LeaveOut\n",
    "\n",
    "**First**, we reobtain the whole training data, and create a KNN classifier."
   ]
  },
  {
   "cell_type": "code",
   "execution_count": 4,
   "metadata": {},
   "outputs": [],
   "source": [
    "# Features\n",
    "X = data[features]\n",
    "\n",
    "# Target variable\n",
    "y = data.Outcome "
   ]
  },
  {
   "cell_type": "code",
   "execution_count": 9,
   "metadata": {},
   "outputs": [],
   "source": [
    "knn = KNeighborsClassifier(n_neighbors=5)"
   ]
  },
  {
   "cell_type": "markdown",
   "metadata": {},
   "source": [
    "**Second**, we run a (default) stratified 5-fold cross validation using **cross_val_score(.)**:"
   ]
  },
  {
   "cell_type": "code",
   "execution_count": 24,
   "metadata": {
    "scrolled": true
   },
   "outputs": [
    {
     "name": "stdout",
     "output_type": "stream",
     "text": [
      "Cross-validation scores: [0.70779221 0.66233766 0.70779221 0.75816993 0.67973856]\n",
      "Average cross-validation score: 0.70\n",
      "Wall time: 160 ms\n"
     ]
    }
   ],
   "source": [
    "%%time\n",
    "from sklearn.model_selection import cross_val_score\n",
    "\n",
    "scores = cross_val_score(knn, X, y)\n",
    "print(\"Cross-validation scores: {}\".format(scores))\n",
    "print(\"Average cross-validation score: {:.2f}\".format(scores.mean()))"
   ]
  },
  {
   "cell_type": "markdown",
   "metadata": {},
   "source": [
    "**Third**, we run a standard 5-fold cross validation for the same KNN classifier. This need **KFold** class."
   ]
  },
  {
   "cell_type": "code",
   "execution_count": 23,
   "metadata": {},
   "outputs": [
    {
     "name": "stdout",
     "output_type": "stream",
     "text": [
      "Cross-validation scores: [0.70779221 0.62337662 0.73376623 0.76470588 0.67320261]\n",
      "Average cross-validation score: 0.70\n",
      "Wall time: 182 ms\n"
     ]
    }
   ],
   "source": [
    "%%time\n",
    "from sklearn.model_selection import KFold\n",
    "\n",
    "# We need to create a KFold object\n",
    "kfold = KFold(n_splits=5)\n",
    "scores = cross_val_score(knn, X, y, cv=kfold)\n",
    "\n",
    "print(\"Cross-validation scores: {}\".format(scores))\n",
    "print(\"Average cross-validation score: {:.2f}\".format(scores.mean()))"
   ]
  },
  {
   "cell_type": "markdown",
   "metadata": {},
   "source": [
    "**Fourth**, we show how to use a standard 3-fold cross-validation to decide K for KNN."
   ]
  },
  {
   "cell_type": "code",
   "execution_count": 25,
   "metadata": {
    "scrolled": true
   },
   "outputs": [
    {
     "name": "stdout",
     "output_type": "stream",
     "text": [
      "K=3\n",
      "Cross-validation scores: [0.67578125 0.68359375 0.6875    ]\n",
      "Average cross-validation score: 0.68229\n",
      "\n",
      "K=4\n",
      "Cross-validation scores: [0.69921875 0.71875    0.72265625]\n",
      "Average cross-validation score: 0.71354\n",
      "\n",
      "K=5\n",
      "Cross-validation scores: [0.69140625 0.71484375 0.71875   ]\n",
      "Average cross-validation score: 0.70833\n",
      "\n",
      "K=6\n",
      "Cross-validation scores: [0.7265625  0.71484375 0.71484375]\n",
      "Average cross-validation score: 0.71875\n",
      "\n",
      "K=7\n",
      "Cross-validation scores: [0.7421875  0.703125   0.71484375]\n",
      "Average cross-validation score: 0.72005\n",
      "\n",
      "K=8\n",
      "Cross-validation scores: [0.734375   0.72265625 0.7421875 ]\n",
      "Average cross-validation score: 0.73307\n",
      "\n",
      "K=9\n",
      "Cross-validation scores: [0.7421875  0.7421875  0.73046875]\n",
      "Average cross-validation score: 0.73828\n",
      "\n"
     ]
    }
   ],
   "source": [
    "for k in range(3, 10):\n",
    "    knn = KNeighborsClassifier(n_neighbors=k)\n",
    "    \n",
    "    kfold = KFold(n_splits=3)\n",
    "    scores = cross_val_score(knn, X, y, cv=kfold)\n",
    "\n",
    "    print(\"K={}\".format(k))\n",
    "    print(\"Cross-validation scores: {}\".format(scores))\n",
    "    print(\"Average cross-validation score: {:.5f}\\r\\n\".format(scores.mean()))"
   ]
  },
  {
   "cell_type": "markdown",
   "metadata": {},
   "source": [
    "Which K value would you want to use for your KNN on this diabetes dataset?"
   ]
  },
  {
   "cell_type": "markdown",
   "metadata": {},
   "source": [
    "**Last**, an example of LeaveOut:"
   ]
  },
  {
   "cell_type": "code",
   "execution_count": 26,
   "metadata": {
    "scrolled": true
   },
   "outputs": [
    {
     "name": "stdout",
     "output_type": "stream",
     "text": [
      "Number of cv iterations:  768\n",
      "Cross-validation scores: [0. 1. 1. 1. 0. 1. 0. 1. 1. 0. 1. 1. 1. 1. 1. 0. 0. 0. 1. 0. 0. 1. 1. 1.\n",
      " 1. 0. 0. 1. 1. 1. 0. 1. 1. 1. 0. 1. 0. 0. 0. 0. 0. 1. 1. 1. 0. 1. 1. 1.\n",
      " 0. 1. 1. 1. 1. 1. 0. 1. 1. 1. 0. 1. 1. 0. 1. 1. 1. 1. 0. 1. 1. 0. 0. 1.\n",
      " 0. 1. 1. 1. 1. 1. 1. 1. 1. 1. 1. 1. 1. 1. 1. 1. 0. 1. 1. 1. 1. 0. 1. 1.\n",
      " 1. 1. 1. 0. 1. 1. 1. 1. 1. 1. 1. 0. 1. 0. 1. 1. 1. 1. 0. 1. 1. 1. 1. 1.\n",
      " 1. 0. 1. 1. 1. 0. 1. 1. 0. 0. 1. 1. 1. 1. 1. 1. 1. 1. 1. 1. 1. 1. 1. 1.\n",
      " 1. 1. 1. 1. 0. 1. 1. 1. 1. 0. 1. 1. 1. 1. 1. 0. 0. 1. 1. 1. 0. 0. 0. 0.\n",
      " 1. 1. 0. 1. 1. 1. 1. 1. 1. 1. 0. 0. 1. 1. 1. 1. 0. 1. 1. 0. 0. 1. 1. 1.\n",
      " 0. 1. 1. 0. 1. 0. 0. 0. 1. 1. 1. 1. 1. 1. 1. 1. 1. 1. 1. 0. 0. 1. 0. 0.\n",
      " 0. 0. 0. 0. 1. 1. 1. 1. 1. 1. 1. 1. 0. 1. 0. 0. 1. 0. 1. 1. 1. 1. 1. 1.\n",
      " 1. 1. 0. 0. 1. 1. 0. 0. 1. 1. 1. 0. 1. 1. 0. 0. 1. 1. 0. 1. 0. 1. 1. 1.\n",
      " 0. 1. 1. 0. 1. 1. 0. 1. 1. 1. 0. 1. 0. 1. 1. 1. 1. 0. 0. 1. 0. 0. 0. 0.\n",
      " 1. 1. 1. 0. 0. 0. 1. 0. 0. 1. 0. 1. 1. 0. 1. 0. 1. 1. 1. 1. 0. 0. 1. 1.\n",
      " 0. 1. 0. 1. 1. 1. 1. 1. 1. 0. 0. 0. 0. 0. 0. 0. 0. 1. 1. 1. 1. 0. 1. 0.\n",
      " 1. 0. 1. 1. 1. 1. 1. 1. 1. 1. 1. 1. 1. 0. 1. 1. 1. 1. 1. 1. 1. 1. 1. 1.\n",
      " 1. 0. 0. 0. 1. 1. 0. 1. 1. 1. 1. 1. 1. 1. 0. 0. 1. 1. 1. 1. 1. 1. 1. 1.\n",
      " 1. 1. 0. 1. 0. 1. 1. 1. 1. 1. 1. 1. 1. 0. 1. 1. 0. 1. 0. 1. 1. 0. 0. 1.\n",
      " 1. 1. 0. 1. 0. 1. 1. 1. 1. 0. 1. 0. 0. 1. 1. 1. 0. 1. 1. 1. 0. 0. 1. 1.\n",
      " 1. 0. 1. 1. 1. 1. 1. 1. 1. 1. 1. 0. 0. 1. 1. 1. 0. 1. 1. 1. 1. 1. 1. 1.\n",
      " 1. 1. 0. 1. 1. 1. 1. 0. 1. 1. 1. 1. 0. 0. 0. 1. 1. 0. 1. 1. 0. 1. 1. 1.\n",
      " 1. 0. 1. 1. 1. 1. 0. 0. 1. 0. 1. 1. 1. 0. 1. 0. 1. 1. 1. 1. 1. 1. 0. 1.\n",
      " 1. 1. 1. 0. 1. 1. 0. 1. 1. 1. 1. 0. 1. 1. 1. 1. 1. 1. 1. 1. 0. 1. 1. 1.\n",
      " 1. 1. 1. 1. 1. 1. 1. 1. 1. 1. 1. 0. 0. 0. 0. 1. 1. 1. 1. 0. 1. 0. 1. 1.\n",
      " 1. 1. 1. 1. 1. 1. 1. 1. 1. 1. 1. 1. 1. 1. 1. 1. 0. 0. 1. 1. 1. 1. 0. 1.\n",
      " 1. 0. 0. 1. 0. 1. 1. 1. 1. 1. 1. 1. 1. 1. 0. 1. 0. 1. 1. 1. 1. 1. 1. 1.\n",
      " 1. 1. 0. 1. 1. 1. 1. 1. 1. 1. 1. 1. 1. 1. 0. 1. 1. 1. 0. 0. 0. 1. 0. 1.\n",
      " 1. 1. 0. 1. 0. 1. 0. 1. 1. 1. 1. 1. 1. 1. 0. 1. 1. 0. 0. 1. 1. 0. 1. 1.\n",
      " 0. 1. 1. 1. 1. 0. 1. 1. 1. 1. 0. 0. 0. 1. 1. 1. 0. 1. 0. 0. 1. 0. 0. 1.\n",
      " 1. 0. 1. 1. 1. 1. 1. 1. 1. 1. 1. 0. 1. 1. 0. 1. 1. 1. 1. 1. 1. 0. 1. 1.\n",
      " 1. 1. 1. 0. 1. 0. 1. 0. 1. 1. 0. 0. 1. 0. 1. 1. 0. 1. 1. 0. 1. 1. 1. 0.\n",
      " 1. 1. 0. 1. 1. 0. 1. 1. 0. 1. 0. 0. 1. 0. 1. 1. 1. 1. 1. 0. 0. 1. 1. 0.\n",
      " 0. 1. 1. 1. 1. 0. 1. 1. 1. 1. 1. 0. 1. 0. 1. 1. 1. 1. 1. 1. 1. 1. 0. 1.]\n",
      "Average croos-validation accuracy: 0.71484\n",
      "Wall time: 7.91 s\n"
     ]
    }
   ],
   "source": [
    "%%time\n",
    "\n",
    "from sklearn.model_selection import LeaveOneOut\n",
    "\n",
    "knn = KNeighborsClassifier(n_neighbors=5)\n",
    "loo = LeaveOneOut()\n",
    "scores = cross_val_score(knn, X, y, cv=loo)\n",
    "print(\"Number of cv iterations: \", len(scores))\n",
    "print(\"Cross-validation scores: {}\".format(scores))\n",
    "print(\"Average croos-validation accuracy: {:.5f}\".format(scores.mean()))"
   ]
  },
  {
   "cell_type": "markdown",
   "metadata": {},
   "source": [
    "If you want, you can also try out the following, using LeaveOut to decide K."
   ]
  },
  {
   "cell_type": "code",
   "execution_count": 27,
   "metadata": {},
   "outputs": [
    {
     "name": "stdout",
     "output_type": "stream",
     "text": [
      "K=3\n",
      "Average cross-validation score: 0.69271\n",
      "\n",
      "K=4\n",
      "Average cross-validation score: 0.71224\n",
      "\n",
      "K=5\n",
      "Average cross-validation score: 0.71484\n",
      "\n",
      "K=6\n",
      "Average cross-validation score: 0.72656\n",
      "\n",
      "K=7\n",
      "Average cross-validation score: 0.70443\n",
      "\n",
      "K=8\n",
      "Average cross-validation score: 0.71224\n",
      "\n",
      "K=9\n",
      "Average cross-validation score: 0.70833\n",
      "\n"
     ]
    }
   ],
   "source": [
    "for k in range(3, 10):\n",
    "    knn = KNeighborsClassifier(n_neighbors=k)\n",
    "    \n",
    "    loo = LeaveOneOut()\n",
    "    scores = cross_val_score(knn, X, y, cv=loo)\n",
    "\n",
    "    print(\"K={}\".format(k))\n",
    "    #print(\"Cross-validation scores: {}\".format(scores))\n",
    "    print(\"Average cross-validation score: {:.5f}\\r\\n\".format(scores.mean()))"
   ]
  },
  {
   "cell_type": "markdown",
   "metadata": {},
   "source": [
    "## 8. ROC Curves and AUC\n",
    "\n",
    "Important functions needed for ROC and AUC:\n",
    "\n",
    "* **predict_proba(X_test)**: It returns [prob_1, prob_2, ... prob_n] if we have n class labels. All these probabilities add up to 1.\n",
    "* **roc_curve(y_test, pred_prob)**: It plots the ROC curve for the given groundtruth and prediction probabilities\n",
    "* **auc(fpr, tpr)**: It calculates the AUC for the given FPR and TPR"
   ]
  },
  {
   "cell_type": "markdown",
   "metadata": {},
   "source": [
    "We construct a few different KNN classifiers with different K values, and plot the ROC for them in the same figure."
   ]
  },
  {
   "cell_type": "code",
   "execution_count": 25,
   "metadata": {},
   "outputs": [
    {
     "data": {
      "image/png": "[encoded data removed]",
      "text/plain": [
       "<Figure size 432x432 with 1 Axes>"
      ]
     },
     "metadata": {
      "needs_background": "light"
     },
     "output_type": "display_data"
    }
   ],
   "source": [
    "import matplotlib.pyplot as plt\n",
    "from sklearn.metrics import roc_curve, auc\n",
    "\n",
    "# Data preparation\n",
    "X_train, X_test, y_train, y_test = train_test_split(X, y, test_size=0.4)\n",
    "\n",
    "# plot roc curve's settings\n",
    "plt.figure(figsize=(6, 6))\n",
    "plt.title('ROC')\n",
    "plt.ylabel('TPR: True Positive Rate')\n",
    "plt.xlabel('FPR: False Positive Rate')\n",
    "plt.xlim([0.0, 1.0])\n",
    "plt.ylim([0.0, 1.0])\n",
    "ax = plt.gca()\n",
    "ax.set_aspect('equal') #, adjustable='box')\n",
    "plt.plot([0,1], [0,1], 'r--')\n",
    "\n",
    "\n",
    "colors = ['cornflowerblue', 'darkorange', 'blue', 'seashell', 'gold', 'aqua', 'greenyellow', 'pink']\n",
    "\n",
    "for k in range(3, 6):\n",
    "    # Create a KNN classifier\n",
    "    knn = KNeighborsClassifier(n_neighbors=k)\n",
    "        \n",
    "    # Training\n",
    "    knn.fit(X_train, y_train)\n",
    "\n",
    "    # Predicting\n",
    "    y_pred = knn.predict(X_test)\n",
    "    \n",
    "    # Evaluate the accuracy\n",
    "    #accuracy = metrics.accuracy_score(y_test, y_pred)\n",
    "    #print('accuracy:', accuracy)\n",
    "    \n",
    "    # Get the prediction probabilities for Class Label 'Positive' (1)\n",
    "    pred_prob = knn.predict_proba(X_test)[:,1]\n",
    "    \n",
    "    # Compute fpr, tpr\n",
    "    fpr, tpr, thresholds = roc_curve(y_test, pred_prob, pos_label=1)\n",
    "    # Compute auc\n",
    "    roc_auc = auc(fpr, tpr)\n",
    "    \n",
    "    # Plot the ROC\n",
    "    plt.plot(fpr, tpr, color=colors[k-3], linestyle='dashed',\n",
    "             label='{0}NN (AUC = {1:0.2f})'.format(k, roc_auc))\n",
    "\n",
    "# Plot the legend\n",
    "plt.legend(loc='lower right')\n",
    "plt.show()"
   ]
  },
  {
   "cell_type": "markdown",
   "metadata": {},
   "source": [
    "### A model's predict() and predict_proba()\n",
    "\n",
    "In the following example, we iterate over all samples in X_test. For each sample, we call both *predict()* and *predict_proba()*. The results show that the class label with the highest probability is returned by predict() as the prediction."
   ]
  },
  {
   "cell_type": "code",
   "execution_count": 8,
   "metadata": {},
   "outputs": [
    {
     "name": "stdout",
     "output_type": "stream",
     "text": [
      "[0] vs. [[0.8 0.2]]\n",
      "[0] vs. [[0.6 0.4]]\n",
      "[0] vs. [[0.8 0.2]]\n",
      "[1] vs. [[0.4 0.6]]\n",
      "[0] vs. [[0.6 0.4]]\n",
      "[0] vs. [[0.6 0.4]]\n",
      "[0] vs. [[1. 0.]]\n",
      "[0] vs. [[0.8 0.2]]\n",
      "[1] vs. [[0.2 0.8]]\n",
      "[0] vs. [[0.6 0.4]]\n",
      "[0] vs. [[0.6 0.4]]\n",
      "[1] vs. [[0. 1.]]\n",
      "[0] vs. [[0.8 0.2]]\n",
      "[0] vs. [[1. 0.]]\n",
      "[0] vs. [[1. 0.]]\n",
      "[1] vs. [[0.2 0.8]]\n",
      "[0] vs. [[0.8 0.2]]\n",
      "[0] vs. [[1. 0.]]\n",
      "[1] vs. [[0. 1.]]\n",
      "[1] vs. [[0.4 0.6]]\n",
      "[1] vs. [[0.2 0.8]]\n",
      "[0] vs. [[1. 0.]]\n",
      "[0] vs. [[0.8 0.2]]\n",
      "[0] vs. [[1. 0.]]\n",
      "[1] vs. [[0.4 0.6]]\n",
      "[1] vs. [[0. 1.]]\n",
      "[0] vs. [[0.8 0.2]]\n",
      "[0] vs. [[1. 0.]]\n",
      "[0] vs. [[1. 0.]]\n",
      "[0] vs. [[1. 0.]]\n",
      "[1] vs. [[0.2 0.8]]\n",
      "[0] vs. [[0.6 0.4]]\n",
      "[1] vs. [[0. 1.]]\n",
      "[1] vs. [[0. 1.]]\n",
      "[0] vs. [[0.8 0.2]]\n",
      "[0] vs. [[0.6 0.4]]\n",
      "[1] vs. [[0. 1.]]\n",
      "[0] vs. [[1. 0.]]\n",
      "[0] vs. [[0.6 0.4]]\n",
      "[1] vs. [[0.2 0.8]]\n",
      "[0] vs. [[1. 0.]]\n",
      "[0] vs. [[0.6 0.4]]\n",
      "[1] vs. [[0.4 0.6]]\n",
      "[1] vs. [[0.4 0.6]]\n",
      "[0] vs. [[0.6 0.4]]\n",
      "[1] vs. [[0.4 0.6]]\n",
      "[0] vs. [[0.6 0.4]]\n",
      "[0] vs. [[0.8 0.2]]\n",
      "[0] vs. [[0.8 0.2]]\n",
      "[1] vs. [[0.4 0.6]]\n",
      "[0] vs. [[1. 0.]]\n",
      "[1] vs. [[0.4 0.6]]\n",
      "[0] vs. [[0.6 0.4]]\n",
      "[1] vs. [[0.4 0.6]]\n",
      "[0] vs. [[1. 0.]]\n",
      "[0] vs. [[1. 0.]]\n",
      "[1] vs. [[0.4 0.6]]\n",
      "[0] vs. [[1. 0.]]\n",
      "[0] vs. [[0.8 0.2]]\n",
      "[1] vs. [[0.2 0.8]]\n",
      "[1] vs. [[0.4 0.6]]\n",
      "[0] vs. [[0.6 0.4]]\n",
      "[0] vs. [[0.8 0.2]]\n",
      "[0] vs. [[1. 0.]]\n",
      "[0] vs. [[1. 0.]]\n",
      "[1] vs. [[0.4 0.6]]\n",
      "[0] vs. [[1. 0.]]\n",
      "[1] vs. [[0.2 0.8]]\n",
      "[1] vs. [[0.4 0.6]]\n",
      "[1] vs. [[0. 1.]]\n",
      "[0] vs. [[0.6 0.4]]\n",
      "[0] vs. [[1. 0.]]\n",
      "[0] vs. [[0.8 0.2]]\n",
      "[0] vs. [[1. 0.]]\n",
      "[0] vs. [[0.8 0.2]]\n",
      "[0] vs. [[0.6 0.4]]\n",
      "[0] vs. [[0.6 0.4]]\n",
      "[0] vs. [[1. 0.]]\n",
      "[0] vs. [[0.8 0.2]]\n",
      "[0] vs. [[1. 0.]]\n",
      "[1] vs. [[0.2 0.8]]\n",
      "[0] vs. [[0.8 0.2]]\n",
      "[0] vs. [[1. 0.]]\n",
      "[1] vs. [[0.2 0.8]]\n",
      "[0] vs. [[0.8 0.2]]\n",
      "[1] vs. [[0. 1.]]\n",
      "[1] vs. [[0.4 0.6]]\n",
      "[0] vs. [[0.8 0.2]]\n",
      "[0] vs. [[0.8 0.2]]\n",
      "[0] vs. [[1. 0.]]\n",
      "[0] vs. [[1. 0.]]\n",
      "[0] vs. [[0.8 0.2]]\n",
      "[0] vs. [[1. 0.]]\n",
      "[0] vs. [[0.8 0.2]]\n",
      "[1] vs. [[0.4 0.6]]\n",
      "[1] vs. [[0.4 0.6]]\n",
      "[0] vs. [[0.6 0.4]]\n",
      "[0] vs. [[1. 0.]]\n",
      "[1] vs. [[0.2 0.8]]\n",
      "[0] vs. [[1. 0.]]\n",
      "[0] vs. [[0.8 0.2]]\n",
      "[0] vs. [[1. 0.]]\n",
      "[0] vs. [[0.8 0.2]]\n",
      "[0] vs. [[0.6 0.4]]\n",
      "[1] vs. [[0.4 0.6]]\n",
      "[1] vs. [[0.4 0.6]]\n",
      "[0] vs. [[0.6 0.4]]\n",
      "[1] vs. [[0.4 0.6]]\n",
      "[0] vs. [[1. 0.]]\n",
      "[1] vs. [[0.4 0.6]]\n",
      "[0] vs. [[0.8 0.2]]\n",
      "[1] vs. [[0.4 0.6]]\n",
      "[0] vs. [[1. 0.]]\n",
      "[1] vs. [[0.2 0.8]]\n",
      "[1] vs. [[0.4 0.6]]\n",
      "[1] vs. [[0.4 0.6]]\n",
      "[1] vs. [[0.2 0.8]]\n",
      "[1] vs. [[0.4 0.6]]\n",
      "[0] vs. [[0.8 0.2]]\n",
      "[0] vs. [[0.6 0.4]]\n",
      "[0] vs. [[1. 0.]]\n",
      "[0] vs. [[1. 0.]]\n",
      "[1] vs. [[0.4 0.6]]\n",
      "[0] vs. [[1. 0.]]\n",
      "[1] vs. [[0.4 0.6]]\n",
      "[1] vs. [[0.2 0.8]]\n",
      "[0] vs. [[1. 0.]]\n",
      "[1] vs. [[0.4 0.6]]\n",
      "[1] vs. [[0.2 0.8]]\n",
      "[1] vs. [[0. 1.]]\n",
      "[1] vs. [[0.4 0.6]]\n",
      "[0] vs. [[0.6 0.4]]\n",
      "[0] vs. [[0.6 0.4]]\n",
      "[0] vs. [[0.6 0.4]]\n",
      "[1] vs. [[0. 1.]]\n",
      "[1] vs. [[0.2 0.8]]\n",
      "[0] vs. [[0.8 0.2]]\n",
      "[1] vs. [[0. 1.]]\n",
      "[1] vs. [[0.4 0.6]]\n",
      "[0] vs. [[1. 0.]]\n",
      "[0] vs. [[1. 0.]]\n",
      "[0] vs. [[0.8 0.2]]\n",
      "[0] vs. [[0.6 0.4]]\n",
      "[1] vs. [[0.2 0.8]]\n",
      "[0] vs. [[0.8 0.2]]\n",
      "[0] vs. [[0.8 0.2]]\n",
      "[0] vs. [[1. 0.]]\n",
      "[0] vs. [[1. 0.]]\n",
      "[1] vs. [[0.2 0.8]]\n",
      "[1] vs. [[0.2 0.8]]\n",
      "[0] vs. [[1. 0.]]\n",
      "[0] vs. [[0.6 0.4]]\n",
      "[0] vs. [[0.8 0.2]]\n",
      "[0] vs. [[1. 0.]]\n",
      "[0] vs. [[1. 0.]]\n",
      "[0] vs. [[0.6 0.4]]\n",
      "[0] vs. [[0.8 0.2]]\n",
      "[0] vs. [[0.6 0.4]]\n",
      "[0] vs. [[0.8 0.2]]\n",
      "[0] vs. [[1. 0.]]\n",
      "[1] vs. [[0.2 0.8]]\n",
      "[1] vs. [[0.2 0.8]]\n",
      "[0] vs. [[0.6 0.4]]\n",
      "[0] vs. [[1. 0.]]\n",
      "[0] vs. [[1. 0.]]\n",
      "[1] vs. [[0.2 0.8]]\n",
      "[0] vs. [[1. 0.]]\n",
      "[1] vs. [[0.2 0.8]]\n",
      "[1] vs. [[0. 1.]]\n",
      "[0] vs. [[0.6 0.4]]\n",
      "[1] vs. [[0.4 0.6]]\n",
      "[0] vs. [[1. 0.]]\n",
      "[0] vs. [[0.8 0.2]]\n",
      "[1] vs. [[0.2 0.8]]\n",
      "[1] vs. [[0. 1.]]\n",
      "[0] vs. [[1. 0.]]\n",
      "[0] vs. [[0.8 0.2]]\n",
      "[0] vs. [[0.6 0.4]]\n",
      "[0] vs. [[1. 0.]]\n",
      "[0] vs. [[0.8 0.2]]\n",
      "[1] vs. [[0.2 0.8]]\n",
      "[0] vs. [[0.8 0.2]]\n",
      "[0] vs. [[0.6 0.4]]\n",
      "[0] vs. [[0.6 0.4]]\n",
      "[1] vs. [[0.4 0.6]]\n",
      "[0] vs. [[1. 0.]]\n",
      "[0] vs. [[1. 0.]]\n",
      "[0] vs. [[1. 0.]]\n",
      "[1] vs. [[0.2 0.8]]\n",
      "[0] vs. [[0.6 0.4]]\n",
      "[0] vs. [[1. 0.]]\n",
      "[1] vs. [[0.4 0.6]]\n"
     ]
    }
   ],
   "source": [
    "for i in range(0, X_test.shape[0]):\n",
    "    # We get the current one sample, still in DataFrame format\n",
    "    one = X_test.iloc[i:i+1, ]\n",
    "    # We pass the single sample to the model. This way is more often used for model application, \n",
    "    # where often one single piece of new data should be classified.\n",
    "    pred_label = knn.predict(one)\n",
    "    pred_label_prob = knn.predict_proba(one)\n",
    "    \n",
    "    # We compre the outputs from the two functions on the same sample\n",
    "    print(str(pred_label) + ' vs. ' + str(pred_label_prob))"
   ]
  },
  {
   "cell_type": "markdown",
   "metadata": {},
   "source": [
    "### References"
   ]
  }
 ],
 "metadata": {
  "kernelspec": {
   "display_name": "Python 3",
   "language": "python",
   "name": "python3"
  },
  "language_info": {
   "codemirror_mode": {
    "name": "ipython",
    "version": 3
   },
   "file_extension": ".py",
   "mimetype": "text/x-python",
   "name": "python",
   "nbconvert_exporter": "python",
   "pygments_lexer": "ipython3",
   "version": "3.9.12"
  }
 },
 "nbformat": 4,
 "nbformat_minor": 4
}
