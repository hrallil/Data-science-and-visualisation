{
 "cells": [
  {
   "cell_type": "markdown",
   "metadata": {},
   "source": [
    "# Data Science and Visualization (RUC F2023)\n",
    "\n",
    "## Lecture 2: Exploratory Data Analysis (EDA)"
   ]
  },
  {
   "cell_type": "markdown",
   "metadata": {},
   "source": [
    "# Exercise 3:\n",
    "\n",
    "Fortunate500 dataset: write your code in a JupyterNotebook\n",
    "1. Get the maximum revenue value for each year (tip: using groupby).\n",
    "2. Find the 10 companies that appear in Fortunate 500 least frequently.\n",
    "3. Fill in the missing profit values using the minimum profit value of the corresponding year. (remember to convert the profit type to float64)"
   ]
  },
  {
   "cell_type": "code",
   "execution_count": 1,
   "metadata": {},
   "outputs": [],
   "source": [
    "import os\n",
    "import numpy as np \n",
    "import pandas as pd\n",
    "\n",
    "os.chdir('C:/Data')\n",
    "data = pd.read_csv('fortune500.csv') "
   ]
  },
  {
   "cell_type": "code",
   "execution_count": 2,
   "metadata": {
    "scrolled": true
   },
   "outputs": [
    {
     "data": {
      "text/html": [
       "<div>\n",
       "<style scoped>\n",
       "    .dataframe tbody tr th:only-of-type {\n",
       "        vertical-align: middle;\n",
       "    }\n",
       "\n",
       "    .dataframe tbody tr th {\n",
       "        vertical-align: top;\n",
       "    }\n",
       "\n",
       "    .dataframe thead th {\n",
       "        text-align: right;\n",
       "    }\n",
       "</style>\n",
       "<table border=\"1\" class=\"dataframe\">\n",
       "  <thead>\n",
       "    <tr style=\"text-align: right;\">\n",
       "      <th></th>\n",
       "      <th>Year</th>\n",
       "      <th>Rank</th>\n",
       "      <th>Company</th>\n",
       "      <th>Revenue (in millions)</th>\n",
       "      <th>Profit (in millions)</th>\n",
       "    </tr>\n",
       "  </thead>\n",
       "  <tbody>\n",
       "    <tr>\n",
       "      <th>0</th>\n",
       "      <td>1955</td>\n",
       "      <td>1</td>\n",
       "      <td>General Motors</td>\n",
       "      <td>9823.5</td>\n",
       "      <td>806</td>\n",
       "    </tr>\n",
       "    <tr>\n",
       "      <th>1</th>\n",
       "      <td>1955</td>\n",
       "      <td>2</td>\n",
       "      <td>Exxon Mobil</td>\n",
       "      <td>5661.4</td>\n",
       "      <td>584.8</td>\n",
       "    </tr>\n",
       "    <tr>\n",
       "      <th>2</th>\n",
       "      <td>1955</td>\n",
       "      <td>3</td>\n",
       "      <td>U.S. Steel</td>\n",
       "      <td>3250.4</td>\n",
       "      <td>195.4</td>\n",
       "    </tr>\n",
       "    <tr>\n",
       "      <th>3</th>\n",
       "      <td>1955</td>\n",
       "      <td>4</td>\n",
       "      <td>General Electric</td>\n",
       "      <td>2959.1</td>\n",
       "      <td>212.6</td>\n",
       "    </tr>\n",
       "    <tr>\n",
       "      <th>4</th>\n",
       "      <td>1955</td>\n",
       "      <td>5</td>\n",
       "      <td>Esmark</td>\n",
       "      <td>2510.8</td>\n",
       "      <td>19.1</td>\n",
       "    </tr>\n",
       "  </tbody>\n",
       "</table>\n",
       "</div>"
      ],
      "text/plain": [
       "   Year  Rank           Company  Revenue (in millions) Profit (in millions)\n",
       "0  1955     1    General Motors                 9823.5                  806\n",
       "1  1955     2       Exxon Mobil                 5661.4                584.8\n",
       "2  1955     3        U.S. Steel                 3250.4                195.4\n",
       "3  1955     4  General Electric                 2959.1                212.6\n",
       "4  1955     5            Esmark                 2510.8                 19.1"
      ]
     },
     "execution_count": 2,
     "metadata": {},
     "output_type": "execute_result"
    }
   ],
   "source": [
    "data.head()"
   ]
  },
  {
   "cell_type": "markdown",
   "metadata": {},
   "source": [
    "Since some of the column names are not concise enough and their inline blanks may cause problems for operations later, let's change them."
   ]
  },
  {
   "cell_type": "code",
   "execution_count": 3,
   "metadata": {},
   "outputs": [
    {
     "data": {
      "text/plain": [
       "Index(['year', 'rank', 'company', 'revenue', 'profit'], dtype='object')"
      ]
     },
     "execution_count": 3,
     "metadata": {},
     "output_type": "execute_result"
    }
   ],
   "source": [
    "data.columns = ['year', 'rank', 'company', 'revenue', 'profit']\n",
    "data.columns"
   ]
  },
  {
   "cell_type": "code",
   "execution_count": 6,
   "metadata": {},
   "outputs": [
    {
     "name": "stdout",
     "output_type": "stream",
     "text": [
      "<class 'pandas.core.frame.DataFrame'>\n",
      "RangeIndex: 25500 entries, 0 to 25499\n",
      "Data columns (total 5 columns):\n",
      " #   Column   Non-Null Count  Dtype  \n",
      "---  ------   --------------  -----  \n",
      " 0   year     25500 non-null  int64  \n",
      " 1   rank     25500 non-null  int64  \n",
      " 2   company  25500 non-null  object \n",
      " 3   revenue  25500 non-null  float64\n",
      " 4   profit   25500 non-null  object \n",
      "dtypes: float64(1), int64(2), object(2)\n",
      "memory usage: 996.2+ KB\n"
     ]
    }
   ],
   "source": [
    "data.info()"
   ]
  },
  {
   "cell_type": "markdown",
   "metadata": {},
   "source": [
    "### 1. Get the maximum revenue value for each year."
   ]
  },
  {
   "cell_type": "code",
   "execution_count": 10,
   "metadata": {},
   "outputs": [
    {
     "data": {
      "text/plain": [
       "year\n",
       "1955      9823.5\n",
       "1956     12443.3\n",
       "1957     10796.4\n",
       "1958     10989.8\n",
       "1959      9522.0\n",
       "1960     11233.1\n",
       "1961     12736.0\n",
       "1962     11395.9\n",
       "1963     14640.2\n",
       "1964     16494.8\n",
       "1965     16997.0\n",
       "1966     20734.0\n",
       "1967     20208.5\n",
       "1968     20026.3\n",
       "1969     22755.4\n",
       "1970     24295.1\n",
       "1971     18752.4\n",
       "1972     28263.9\n",
       "1973     30435.2\n",
       "1974     35798.3\n",
       "1975     42061.3\n",
       "1976     44864.8\n",
       "1977     48630.8\n",
       "1978     54961.3\n",
       "1979     63221.1\n",
       "1980     79106.5\n",
       "1981    103142.8\n",
       "1982    108107.7\n",
       "1983     97172.5\n",
       "1984     88561.1\n",
       "1985     90854.0\n",
       "1986     96371.7\n",
       "1987    102813.7\n",
       "1988    101782.0\n",
       "1989    121085.0\n",
       "1990    126974.3\n",
       "1991    125126.0\n",
       "1992    123780.1\n",
       "1993    132774.9\n",
       "1994    133621.9\n",
       "1995    154951.2\n",
       "1996    168828.6\n",
       "1997    168369.0\n",
       "1998    178174.0\n",
       "1999    161315.0\n",
       "2000    189058.0\n",
       "2001    210392.0\n",
       "2002    219812.0\n",
       "2003    246525.0\n",
       "2004    258681.0\n",
       "2005    288189.0\n",
       "Name: revenue, dtype: float64"
      ]
     },
     "execution_count": 10,
     "metadata": {},
     "output_type": "execute_result"
    }
   ],
   "source": [
    "max_rev_year = data.groupby('year')['revenue'].max()\n",
    "max_rev_year"
   ]
  },
  {
   "cell_type": "markdown",
   "metadata": {},
   "source": [
    "### 2. Find the 10 companies that appear in Fortunate 500 least frequently."
   ]
  },
  {
   "cell_type": "code",
   "execution_count": 62,
   "metadata": {},
   "outputs": [
    {
     "data": {
      "text/plain": [
       "company\n",
       "ACX Technologies             1\n",
       "ADC Telecommunications       1\n",
       "AMBAC Industries             1\n",
       "ATCOR                        1\n",
       "AXA Financial                1\n",
       "Adelphia Communications      1\n",
       "Allen Group                  1\n",
       "Amalgamated Sugar            1\n",
       "American Chicle              1\n",
       "American Medical Holdings    1\n",
       "Name: year, dtype: int64"
      ]
     },
     "execution_count": 62,
     "metadata": {},
     "output_type": "execute_result"
    }
   ],
   "source": [
    "# We get each company's total count cross all years\n",
    "frequents = data.groupby('company')['year'].count()\n",
    "\n",
    "# We obtain all those companies with count equal to 1\n",
    "least_frequents = frequents[frequents == 1]\n",
    "\n",
    "# We print the first 10 which are in alphabetical order due to 'groupby' on company\n",
    "least_frequents.head(10)"
   ]
  },
  {
   "cell_type": "markdown",
   "metadata": {},
   "source": [
    "Alternatively we can do the following. Note the two lists are different, since there are many companies that entered in the list only once."
   ]
  },
  {
   "cell_type": "code",
   "execution_count": 63,
   "metadata": {
    "scrolled": false
   },
   "outputs": [
    {
     "data": {
      "text/plain": [
       "ACX Technologies             1\n",
       "ADC Telecommunications       1\n",
       "AMBAC Industries             1\n",
       "ATCOR                        1\n",
       "AXA Financial                1\n",
       "Adelphia Communications      1\n",
       "Allen Group                  1\n",
       "Amalgamated Sugar            1\n",
       "American Chicle              1\n",
       "American Medical Holdings    1\n",
       "Name: company, dtype: int64"
      ]
     },
     "execution_count": 63,
     "metadata": {},
     "output_type": "execute_result"
    }
   ],
   "source": [
    "frequents = data.company.value_counts()\n",
    "least_frequents = frequents[frequents == 1]\n",
    "\n",
    "# We need to sort on the index to get the company names in alphabetical order\n",
    "least_frequents.sort_index().head(10)"
   ]
  },
  {
   "cell_type": "markdown",
   "metadata": {},
   "source": [
    "Note that the following also returns the 10 least frequent ones but the company names are not sorted and so the result is different."
   ]
  },
  {
   "cell_type": "code",
   "execution_count": 64,
   "metadata": {},
   "outputs": [
    {
     "data": {
      "text/plain": [
       "American Chicle              1\n",
       "Danly Machine Specialties    1\n",
       "Flour Mills of America       1\n",
       "Grolier Society              1\n",
       "Idacorp                      1\n",
       "Pennzoil-Quaker State        1\n",
       "Standard Motor Products      1\n",
       "Summit Bancorp               1\n",
       "Truax-Traer Coal             1\n",
       "Zurn Industries              1\n",
       "Name: company, dtype: int64"
      ]
     },
     "execution_count": 64,
     "metadata": {},
     "output_type": "execute_result"
    }
   ],
   "source": [
    "data.company.value_counts().nsmallest(10).sort_index()"
   ]
  },
  {
   "cell_type": "markdown",
   "metadata": {},
   "source": [
    "### 3. Fill in the missing profit values using the minimum profit value of the corresponding year. "
   ]
  },
  {
   "cell_type": "markdown",
   "metadata": {},
   "source": [
    "#### 1. We replace 'N-A.' strings by np.nan"
   ]
  },
  {
   "cell_type": "code",
   "execution_count": 65,
   "metadata": {},
   "outputs": [],
   "source": [
    "data.loc[data[\"profit\"] == \"N.A.\", \"profit\"] = np.nan"
   ]
  },
  {
   "cell_type": "markdown",
   "metadata": {},
   "source": [
    "#### 2. We convert the profit type to float64"
   ]
  },
  {
   "cell_type": "code",
   "execution_count": 67,
   "metadata": {},
   "outputs": [
    {
     "data": {
      "text/plain": [
       "count    25131.000000\n",
       "mean       207.903677\n",
       "std       1173.695947\n",
       "min     -98696.000000\n",
       "25%          8.900000\n",
       "50%         35.500000\n",
       "75%        150.500000\n",
       "max      25330.000000\n",
       "Name: profit, dtype: float64"
      ]
     },
     "execution_count": 67,
     "metadata": {},
     "output_type": "execute_result"
    }
   ],
   "source": [
    "data.profit = data.profit.astype('float64')\n",
    "data['profit'].describe()"
   ]
  },
  {
   "cell_type": "markdown",
   "metadata": {},
   "source": [
    "#### 3. We fill in with the minimum profit each year using groupby + transform"
   ]
  },
  {
   "cell_type": "code",
   "execution_count": 68,
   "metadata": {},
   "outputs": [
    {
     "data": {
      "text/plain": [
       "count    25500.000000\n",
       "mean       134.445039\n",
       "std       2061.561380\n",
       "min     -98696.000000\n",
       "25%          8.200000\n",
       "50%         34.200000\n",
       "75%        147.100000\n",
       "max      25330.000000\n",
       "Name: profit, dtype: float64"
      ]
     },
     "execution_count": 68,
     "metadata": {},
     "output_type": "execute_result"
    }
   ],
   "source": [
    "data['profit'].fillna(data.groupby('year')['profit'].transform('min'), inplace=True)\n",
    "data['profit'].describe()"
   ]
  },
  {
   "cell_type": "markdown",
   "metadata": {},
   "source": [
    "Notice the statistics are different from those before the filling."
   ]
  }
 ],
 "metadata": {
  "kernelspec": {
   "display_name": "Python 3",
   "language": "python",
   "name": "python3"
  },
  "language_info": {
   "codemirror_mode": {
    "name": "ipython",
    "version": 3
   },
   "file_extension": ".py",
   "mimetype": "text/x-python",
   "name": "python",
   "nbconvert_exporter": "python",
   "pygments_lexer": "ipython3",
   "version": "3.8.3"
  }
 },
 "nbformat": 4,
 "nbformat_minor": 4
}
