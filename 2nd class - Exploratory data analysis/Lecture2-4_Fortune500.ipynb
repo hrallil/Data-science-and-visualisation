{
 "cells": [
  {
   "cell_type": "markdown",
   "metadata": {},
   "source": [
    "# Data Science and Visualization (RUC F2023)\n",
    "\n",
    "## Lecture 2: Exploratory Data Analysis (EDA)"
   ]
  },
  {
   "cell_type": "markdown",
   "metadata": {},
   "source": [
    "# Data preprocessing and EDA\n",
    "\n",
    "This notebook demonstrates how to preprocess data and conduct EDA"
   ]
  },
  {
   "cell_type": "markdown",
   "metadata": {},
   "source": [
    "## 1. Load the dataset and look at its basic statistics\n",
    "\n",
    "We still use the Fortune 500 dataset but this time we've copied it to a local folder."
   ]
  },
  {
   "cell_type": "code",
   "execution_count": 1,
   "metadata": {},
   "outputs": [
    {
     "data": {
      "text/html": [
       "<div>\n",
       "<style scoped>\n",
       "    .dataframe tbody tr th:only-of-type {\n",
       "        vertical-align: middle;\n",
       "    }\n",
       "\n",
       "    .dataframe tbody tr th {\n",
       "        vertical-align: top;\n",
       "    }\n",
       "\n",
       "    .dataframe thead th {\n",
       "        text-align: right;\n",
       "    }\n",
       "</style>\n",
       "<table border=\"1\" class=\"dataframe\">\n",
       "  <thead>\n",
       "    <tr style=\"text-align: right;\">\n",
       "      <th></th>\n",
       "      <th>Year</th>\n",
       "      <th>Rank</th>\n",
       "      <th>Company</th>\n",
       "      <th>Revenue (in millions)</th>\n",
       "      <th>Profit (in millions)</th>\n",
       "    </tr>\n",
       "  </thead>\n",
       "  <tbody>\n",
       "    <tr>\n",
       "      <th>0</th>\n",
       "      <td>1955</td>\n",
       "      <td>1</td>\n",
       "      <td>General Motors</td>\n",
       "      <td>9823.5</td>\n",
       "      <td>806</td>\n",
       "    </tr>\n",
       "    <tr>\n",
       "      <th>1</th>\n",
       "      <td>1955</td>\n",
       "      <td>2</td>\n",
       "      <td>Exxon Mobil</td>\n",
       "      <td>5661.4</td>\n",
       "      <td>584.8</td>\n",
       "    </tr>\n",
       "    <tr>\n",
       "      <th>2</th>\n",
       "      <td>1955</td>\n",
       "      <td>3</td>\n",
       "      <td>U.S. Steel</td>\n",
       "      <td>3250.4</td>\n",
       "      <td>195.4</td>\n",
       "    </tr>\n",
       "    <tr>\n",
       "      <th>3</th>\n",
       "      <td>1955</td>\n",
       "      <td>4</td>\n",
       "      <td>General Electric</td>\n",
       "      <td>2959.1</td>\n",
       "      <td>212.6</td>\n",
       "    </tr>\n",
       "    <tr>\n",
       "      <th>4</th>\n",
       "      <td>1955</td>\n",
       "      <td>5</td>\n",
       "      <td>Esmark</td>\n",
       "      <td>2510.8</td>\n",
       "      <td>19.1</td>\n",
       "    </tr>\n",
       "  </tbody>\n",
       "</table>\n",
       "</div>"
      ],
      "text/plain": [
       "   Year  Rank           Company  Revenue (in millions) Profit (in millions)\n",
       "0  1955     1    General Motors                 9823.5                  806\n",
       "1  1955     2       Exxon Mobil                 5661.4                584.8\n",
       "2  1955     3        U.S. Steel                 3250.4                195.4\n",
       "3  1955     4  General Electric                 2959.1                212.6\n",
       "4  1955     5            Esmark                 2510.8                 19.1"
      ]
     },
     "execution_count": 1,
     "metadata": {},
     "output_type": "execute_result"
    }
   ],
   "source": [
    "import pandas as pd\n",
    "import os\n",
    "\n",
    "os.chdir('C:/Data')\n",
    "# os.getcwd()\n",
    "\n",
    "# I've stored the .csv in C:/Data/\n",
    "data = pd.read_csv('fortune500.csv')\n",
    "data.head()"
   ]
  },
  {
   "cell_type": "code",
   "execution_count": 2,
   "metadata": {},
   "outputs": [
    {
     "data": {
      "text/plain": [
       "(25500, 5)"
      ]
     },
     "execution_count": 2,
     "metadata": {},
     "output_type": "execute_result"
    }
   ],
   "source": [
    "data.shape"
   ]
  },
  {
   "cell_type": "markdown",
   "metadata": {},
   "source": [
    "All column names in a DataFrame are organized as a List (in particular, pandas.core.indexes.base.Index)"
   ]
  },
  {
   "cell_type": "code",
   "execution_count": 3,
   "metadata": {
    "scrolled": true
   },
   "outputs": [
    {
     "data": {
      "text/plain": [
       "Index(['Year', 'Rank', 'Company', 'Revenue (in millions)',\n",
       "       'Profit (in millions)'],\n",
       "      dtype='object')"
      ]
     },
     "execution_count": 3,
     "metadata": {},
     "output_type": "execute_result"
    }
   ],
   "source": [
    "data.columns"
   ]
  },
  {
   "cell_type": "markdown",
   "metadata": {},
   "source": [
    "Since some of the column names are not concise enough and their inline blanks may cause problems for operations later, let's change them."
   ]
  },
  {
   "cell_type": "code",
   "execution_count": 4,
   "metadata": {},
   "outputs": [
    {
     "data": {
      "text/plain": [
       "Index(['year', 'rank', 'company', 'revenue', 'profit'], dtype='object')"
      ]
     },
     "execution_count": 4,
     "metadata": {},
     "output_type": "execute_result"
    }
   ],
   "source": [
    "data.columns = ['year', 'rank', 'company', 'revenue', 'profit']\n",
    "data.columns"
   ]
  },
  {
   "cell_type": "markdown",
   "metadata": {},
   "source": [
    "We can call the info() function to print a concise summary of a DataFrame object."
   ]
  },
  {
   "cell_type": "code",
   "execution_count": 7,
   "metadata": {
    "scrolled": false
   },
   "outputs": [
    {
     "name": "stdout",
     "output_type": "stream",
     "text": [
      "<class 'pandas.core.frame.DataFrame'>\n",
      "RangeIndex: 25500 entries, 0 to 25499\n",
      "Data columns (total 5 columns):\n",
      " #   Column   Non-Null Count  Dtype  \n",
      "---  ------   --------------  -----  \n",
      " 0   year     25500 non-null  int64  \n",
      " 1   rank     25500 non-null  int64  \n",
      " 2   company  25500 non-null  object \n",
      " 3   revenue  25500 non-null  float64\n",
      " 4   profit   25500 non-null  object \n",
      "dtypes: float64(1), int64(2), object(2)\n",
      "memory usage: 996.2+ KB\n"
     ]
    }
   ],
   "source": [
    "data.info()"
   ]
  },
  {
   "cell_type": "code",
   "execution_count": 8,
   "metadata": {
    "scrolled": false
   },
   "outputs": [
    {
     "data": {
      "text/plain": [
       "year       0\n",
       "rank       0\n",
       "company    0\n",
       "revenue    0\n",
       "profit     0\n",
       "dtype: int64"
      ]
     },
     "execution_count": 8,
     "metadata": {},
     "output_type": "execute_result"
    }
   ],
   "source": [
    "data.isnull().sum()"
   ]
  },
  {
   "cell_type": "markdown",
   "metadata": {},
   "source": [
    "**Question**: What are the top-10 companies that appear in Fortunate 500 most frequently?<br>\n",
    "\n",
    "* **value_counts()** counts the occurances for each distinct value for a given dimension."
   ]
  },
  {
   "cell_type": "code",
   "execution_count": 12,
   "metadata": {
    "scrolled": true
   },
   "outputs": [
    {
     "data": {
      "text/plain": [
       "CBS               57\n",
       "OfficeMax         55\n",
       "General Motors    51\n",
       "Anheuser-Busch    51\n",
       "Ashland           51\n",
       "McGraw-Hill       51\n",
       "General Mills     51\n",
       "H.J. Heinz        51\n",
       "PepsiCo           51\n",
       "USG               51\n",
       "Name: company, dtype: int64"
      ]
     },
     "execution_count": 12,
     "metadata": {},
     "output_type": "execute_result"
    }
   ],
   "source": [
    "data.company.value_counts().nlargest(10)"
   ]
  },
  {
   "cell_type": "markdown",
   "metadata": {},
   "source": [
    "## 2. Deal with 'missing' values for 'profit' dimension"
   ]
  },
  {
   "cell_type": "markdown",
   "metadata": {},
   "source": [
    "The 'profit' should be *numeric*, but why is it of the type of *object*? Let's get a description of it."
   ]
  },
  {
   "cell_type": "code",
   "execution_count": 13,
   "metadata": {
    "scrolled": true
   },
   "outputs": [
    {
     "data": {
      "text/plain": [
       "count     25500\n",
       "unique     6977\n",
       "top        N.A.\n",
       "freq        369\n",
       "Name: profit, dtype: object"
      ]
     },
     "execution_count": 13,
     "metadata": {},
     "output_type": "execute_result"
    }
   ],
   "source": [
    "(data['profit']).describe()"
   ]
  },
  {
   "cell_type": "markdown",
   "metadata": {},
   "source": [
    "There are 369 rows in which the 'profit' dimension's value is 'N.A.'! Note this is not one of the *standard* missing value (NaN). We can call isnull() to check this."
   ]
  },
  {
   "cell_type": "code",
   "execution_count": 14,
   "metadata": {},
   "outputs": [
    {
     "data": {
      "text/plain": [
       "0"
      ]
     },
     "execution_count": 14,
     "metadata": {},
     "output_type": "execute_result"
    }
   ],
   "source": [
    "data['profit'].isnull().sum()"
   ]
  },
  {
   "cell_type": "markdown",
   "metadata": {},
   "source": [
    "We can show all those N.A. values under the 'profit' column:"
   ]
  },
  {
   "cell_type": "code",
   "execution_count": 8,
   "metadata": {
    "scrolled": true
   },
   "outputs": [
    {
     "data": {
      "text/plain": [
       "228      N.A.\n",
       "290      N.A.\n",
       "294      N.A.\n",
       "296      N.A.\n",
       "352      N.A.\n",
       "464      N.A.\n",
       "712      N.A.\n",
       "857      N.A.\n",
       "1225     N.A.\n",
       "1372     N.A.\n",
       "1419     N.A.\n",
       "1717     N.A.\n",
       "1738     N.A.\n",
       "1900     N.A.\n",
       "2264     N.A.\n",
       "2456     N.A.\n",
       "2491     N.A.\n",
       "2754     N.A.\n",
       "3253     N.A.\n",
       "3442     N.A.\n",
       "3754     N.A.\n",
       "3998     N.A.\n",
       "5485     N.A.\n",
       "8032     N.A.\n",
       "8183     N.A.\n",
       "8191     N.A.\n",
       "8193     N.A.\n",
       "8296     N.A.\n",
       "8313     N.A.\n",
       "8481     N.A.\n",
       "8646     N.A.\n",
       "8672     N.A.\n",
       "8688     N.A.\n",
       "8689     N.A.\n",
       "8788     N.A.\n",
       "8817     N.A.\n",
       "8931     N.A.\n",
       "8959     N.A.\n",
       "9132     N.A.\n",
       "9184     N.A.\n",
       "9187     N.A.\n",
       "9195     N.A.\n",
       "9279     N.A.\n",
       "9330     N.A.\n",
       "9459     N.A.\n",
       "9654     N.A.\n",
       "9681     N.A.\n",
       "9685     N.A.\n",
       "9697     N.A.\n",
       "9765     N.A.\n",
       "9872     N.A.\n",
       "9942     N.A.\n",
       "10140    N.A.\n",
       "10161    N.A.\n",
       "10182    N.A.\n",
       "10192    N.A.\n",
       "10261    N.A.\n",
       "10434    N.A.\n",
       "10634    N.A.\n",
       "10640    N.A.\n",
       "10653    N.A.\n",
       "10679    N.A.\n",
       "10738    N.A.\n",
       "10858    N.A.\n",
       "10937    N.A.\n",
       "11122    N.A.\n",
       "11136    N.A.\n",
       "11161    N.A.\n",
       "11182    N.A.\n",
       "11250    N.A.\n",
       "11353    N.A.\n",
       "11459    N.A.\n",
       "11577    N.A.\n",
       "11649    N.A.\n",
       "11654    N.A.\n",
       "11680    N.A.\n",
       "11731    N.A.\n",
       "11781    N.A.\n",
       "11829    N.A.\n",
       "11980    N.A.\n",
       "11987    N.A.\n",
       "12090    N.A.\n",
       "12152    N.A.\n",
       "12162    N.A.\n",
       "12172    N.A.\n",
       "12193    N.A.\n",
       "12216    N.A.\n",
       "12341    N.A.\n",
       "12447    N.A.\n",
       "12482    N.A.\n",
       "12586    N.A.\n",
       "12641    N.A.\n",
       "12670    N.A.\n",
       "12699    N.A.\n",
       "12778    N.A.\n",
       "12935    N.A.\n",
       "12985    N.A.\n",
       "13079    N.A.\n",
       "13108    N.A.\n",
       "13146    N.A.\n",
       "13192    N.A.\n",
       "13266    N.A.\n",
       "13349    N.A.\n",
       "13463    N.A.\n",
       "13469    N.A.\n",
       "13563    N.A.\n",
       "13599    N.A.\n",
       "13614    N.A.\n",
       "13711    N.A.\n",
       "13764    N.A.\n",
       "13782    N.A.\n",
       "13802    N.A.\n",
       "13873    N.A.\n",
       "13887    N.A.\n",
       "13966    N.A.\n",
       "14096    N.A.\n",
       "14099    N.A.\n",
       "14229    N.A.\n",
       "14233    N.A.\n",
       "14252    N.A.\n",
       "14310    N.A.\n",
       "14330    N.A.\n",
       "14442    N.A.\n",
       "14484    N.A.\n",
       "14597    N.A.\n",
       "14620    N.A.\n",
       "14737    N.A.\n",
       "14742    N.A.\n",
       "14746    N.A.\n",
       "14794    N.A.\n",
       "14827    N.A.\n",
       "14847    N.A.\n",
       "14929    N.A.\n",
       "14946    N.A.\n",
       "14979    N.A.\n",
       "15095    N.A.\n",
       "15160    N.A.\n",
       "15226    N.A.\n",
       "15236    N.A.\n",
       "15254    N.A.\n",
       "15327    N.A.\n",
       "15348    N.A.\n",
       "15370    N.A.\n",
       "15437    N.A.\n",
       "15453    N.A.\n",
       "15473    N.A.\n",
       "15477    N.A.\n",
       "15489    N.A.\n",
       "15586    N.A.\n",
       "15594    N.A.\n",
       "15647    N.A.\n",
       "15653    N.A.\n",
       "15663    N.A.\n",
       "15674    N.A.\n",
       "15729    N.A.\n",
       "15735    N.A.\n",
       "15749    N.A.\n",
       "15753    N.A.\n",
       "15760    N.A.\n",
       "15813    N.A.\n",
       "15825    N.A.\n",
       "15838    N.A.\n",
       "15880    N.A.\n",
       "15901    N.A.\n",
       "15937    N.A.\n",
       "15941    N.A.\n",
       "15947    N.A.\n",
       "15951    N.A.\n",
       "15959    N.A.\n",
       "15970    N.A.\n",
       "15982    N.A.\n",
       "16111    N.A.\n",
       "16125    N.A.\n",
       "16141    N.A.\n",
       "16142    N.A.\n",
       "16166    N.A.\n",
       "16208    N.A.\n",
       "16236    N.A.\n",
       "16238    N.A.\n",
       "16259    N.A.\n",
       "16278    N.A.\n",
       "16294    N.A.\n",
       "16299    N.A.\n",
       "16321    N.A.\n",
       "16351    N.A.\n",
       "16365    N.A.\n",
       "16377    N.A.\n",
       "16404    N.A.\n",
       "16407    N.A.\n",
       "16409    N.A.\n",
       "16458    N.A.\n",
       "16469    N.A.\n",
       "16481    N.A.\n",
       "16493    N.A.\n",
       "16541    N.A.\n",
       "16615    N.A.\n",
       "16618    N.A.\n",
       "16629    N.A.\n",
       "16631    N.A.\n",
       "16657    N.A.\n",
       "16666    N.A.\n",
       "16678    N.A.\n",
       "16731    N.A.\n",
       "16732    N.A.\n",
       "16756    N.A.\n",
       "16794    N.A.\n",
       "16862    N.A.\n",
       "16876    N.A.\n",
       "16884    N.A.\n",
       "16899    N.A.\n",
       "16902    N.A.\n",
       "16934    N.A.\n",
       "16947    N.A.\n",
       "16967    N.A.\n",
       "17123    N.A.\n",
       "17152    N.A.\n",
       "17170    N.A.\n",
       "17171    N.A.\n",
       "17178    N.A.\n",
       "17218    N.A.\n",
       "17234    N.A.\n",
       "17249    N.A.\n",
       "17286    N.A.\n",
       "17327    N.A.\n",
       "17330    N.A.\n",
       "17344    N.A.\n",
       "17350    N.A.\n",
       "17367    N.A.\n",
       "17381    N.A.\n",
       "17386    N.A.\n",
       "17429    N.A.\n",
       "17446    N.A.\n",
       "17447    N.A.\n",
       "17470    N.A.\n",
       "17482    N.A.\n",
       "17489    N.A.\n",
       "17490    N.A.\n",
       "17494    N.A.\n",
       "17639    N.A.\n",
       "17651    N.A.\n",
       "17682    N.A.\n",
       "17693    N.A.\n",
       "17694    N.A.\n",
       "17727    N.A.\n",
       "17752    N.A.\n",
       "17807    N.A.\n",
       "17818    N.A.\n",
       "17837    N.A.\n",
       "17857    N.A.\n",
       "17865    N.A.\n",
       "17872    N.A.\n",
       "17877    N.A.\n",
       "17905    N.A.\n",
       "17928    N.A.\n",
       "17935    N.A.\n",
       "17980    N.A.\n",
       "17985    N.A.\n",
       "18098    N.A.\n",
       "18136    N.A.\n",
       "18142    N.A.\n",
       "18187    N.A.\n",
       "18225    N.A.\n",
       "18305    N.A.\n",
       "18327    N.A.\n",
       "18328    N.A.\n",
       "18343    N.A.\n",
       "18360    N.A.\n",
       "18361    N.A.\n",
       "18362    N.A.\n",
       "18378    N.A.\n",
       "18412    N.A.\n",
       "18419    N.A.\n",
       "18434    N.A.\n",
       "18440    N.A.\n",
       "18447    N.A.\n",
       "18478    N.A.\n",
       "18488    N.A.\n",
       "18555    N.A.\n",
       "18627    N.A.\n",
       "18633    N.A.\n",
       "18679    N.A.\n",
       "18698    N.A.\n",
       "18725    N.A.\n",
       "18771    N.A.\n",
       "18786    N.A.\n",
       "18803    N.A.\n",
       "18825    N.A.\n",
       "18845    N.A.\n",
       "18867    N.A.\n",
       "18868    N.A.\n",
       "18887    N.A.\n",
       "18896    N.A.\n",
       "18897    N.A.\n",
       "18898    N.A.\n",
       "18949    N.A.\n",
       "18953    N.A.\n",
       "18965    N.A.\n",
       "18997    N.A.\n",
       "19144    N.A.\n",
       "19148    N.A.\n",
       "19180    N.A.\n",
       "19230    N.A.\n",
       "19238    N.A.\n",
       "19289    N.A.\n",
       "19295    N.A.\n",
       "19324    N.A.\n",
       "19335    N.A.\n",
       "19382    N.A.\n",
       "19410    N.A.\n",
       "19418    N.A.\n",
       "19457    N.A.\n",
       "19465    N.A.\n",
       "19466    N.A.\n",
       "19477    N.A.\n",
       "19608    N.A.\n",
       "19653    N.A.\n",
       "19671    N.A.\n",
       "19714    N.A.\n",
       "19736    N.A.\n",
       "19751    N.A.\n",
       "19788    N.A.\n",
       "19820    N.A.\n",
       "19831    N.A.\n",
       "19878    N.A.\n",
       "19920    N.A.\n",
       "19939    N.A.\n",
       "19941    N.A.\n",
       "19946    N.A.\n",
       "19961    N.A.\n",
       "19978    N.A.\n",
       "20173    N.A.\n",
       "20369    N.A.\n",
       "20375    N.A.\n",
       "20437    N.A.\n",
       "20456    N.A.\n",
       "20477    N.A.\n",
       "20663    N.A.\n",
       "20677    N.A.\n",
       "20986    N.A.\n",
       "20989    N.A.\n",
       "20996    N.A.\n",
       "20997    N.A.\n",
       "21085    N.A.\n",
       "21150    N.A.\n",
       "21477    N.A.\n",
       "21497    N.A.\n",
       "21669    N.A.\n",
       "21931    N.A.\n",
       "21981    N.A.\n",
       "22183    N.A.\n",
       "22359    N.A.\n",
       "22466    N.A.\n",
       "22660    N.A.\n",
       "22766    N.A.\n",
       "22856    N.A.\n",
       "22981    N.A.\n",
       "23159    N.A.\n",
       "23222    N.A.\n",
       "23402    N.A.\n",
       "23504    N.A.\n",
       "23669    N.A.\n",
       "23743    N.A.\n",
       "23951    N.A.\n",
       "24236    N.A.\n",
       "24242    N.A.\n",
       "24296    N.A.\n",
       "24435    N.A.\n",
       "24489    N.A.\n",
       "25485    N.A.\n",
       "Name: profit, dtype: object"
      ]
     },
     "execution_count": 8,
     "metadata": {},
     "output_type": "execute_result"
    }
   ],
   "source": [
    "pd.set_option('display.max_rows', None)\n",
    "data['profit'][data['profit']=='N.A.']"
   ]
  },
  {
   "cell_type": "markdown",
   "metadata": {},
   "source": [
    "We can get the number of rows with 'N.A.' profit values in another way:"
   ]
  },
  {
   "cell_type": "code",
   "execution_count": 15,
   "metadata": {},
   "outputs": [
    {
     "data": {
      "text/plain": [
       "369"
      ]
     },
     "execution_count": 15,
     "metadata": {},
     "output_type": "execute_result"
    }
   ],
   "source": [
    "len(data['profit'][data['profit']=='N.A.'])"
   ]
  },
  {
   "cell_type": "markdown",
   "metadata": {},
   "source": [
    "We can change the N.A. profit values to some numeric values through a few steps\n",
    "\n",
    "### (1) N.A. value replacement on profit dimension\n",
    "\n",
    "We need to change the type (typecast) of 'profit' column, from str to float64. But before that, we have to replace all 'N.A.' values with an appropriate value. Otherwise, str objects cannot be converted to float64 objects. Here we play with a trick. We use np.nan to replace all 'N.A.'s."
   ]
  },
  {
   "cell_type": "code",
   "execution_count": 18,
   "metadata": {},
   "outputs": [],
   "source": [
    "import numpy as np\n",
    "\n",
    "data.loc[data[\"profit\"] == \"N.A.\", \"profit\"] = np.nan"
   ]
  },
  {
   "cell_type": "markdown",
   "metadata": {},
   "source": [
    "Now, check again how many NaN values in the 'profit' column:"
   ]
  },
  {
   "cell_type": "code",
   "execution_count": 19,
   "metadata": {},
   "outputs": [
    {
     "data": {
      "text/plain": [
       "369"
      ]
     },
     "execution_count": 19,
     "metadata": {},
     "output_type": "execute_result"
    }
   ],
   "source": [
    "data['profit'].isna().sum()"
   ]
  },
  {
   "cell_type": "markdown",
   "metadata": {},
   "source": [
    "### (2) typecast on profit dimension\n",
    "\n",
    "We call **astype()** call the profit dimension. Remember to assign the new type back to data.profit."
   ]
  },
  {
   "cell_type": "code",
   "execution_count": 22,
   "metadata": {},
   "outputs": [
    {
     "data": {
      "text/plain": [
       "count    25131.000000\n",
       "mean       207.903677\n",
       "std       1173.695947\n",
       "min     -98696.000000\n",
       "25%          8.900000\n",
       "50%         35.500000\n",
       "75%        150.500000\n",
       "max      25330.000000\n",
       "Name: profit, dtype: float64"
      ]
     },
     "execution_count": 22,
     "metadata": {},
     "output_type": "execute_result"
    }
   ],
   "source": [
    "# Now we will convert it into 'float64' type.\n",
    "data.profit = data.profit.astype('float64')\n",
    "  \n",
    "data['profit'].describe()"
   ]
  },
  {
   "cell_type": "markdown",
   "metadata": {},
   "source": [
    "### (3) filling for missing values\n",
    "\n",
    "Now we change the previously 'N.A.'' and current np.nan values to the *average* profit of the corresponding year. Here we need an operation of **groupby + transform**."
   ]
  },
  {
   "cell_type": "markdown",
   "metadata": {},
   "source": [
    "Let's first get the average yearly 'profit':"
   ]
  },
  {
   "cell_type": "code",
   "execution_count": 24,
   "metadata": {
    "scrolled": true
   },
   "outputs": [
    {
     "data": {
      "text/plain": [
       "year\n",
       "1955      16.732186\n",
       "1956      22.509237\n",
       "1957      23.181087\n",
       "1958      23.456740\n",
       "1959      19.279276\n",
       "1960      24.019439\n",
       "1961      23.340361\n",
       "1962      23.326104\n",
       "1963      26.965000\n",
       "1964      29.675800\n",
       "1965      34.543287\n",
       "1966      40.023000\n",
       "1967      44.155400\n",
       "1968      42.801200\n",
       "1969      48.387400\n",
       "1970      49.354800\n",
       "1971      43.952535\n",
       "1972      47.585569\n",
       "1973      56.448479\n",
       "1974      78.461460\n",
       "1975      88.345547\n",
       "1976      76.774645\n",
       "1977     100.138742\n",
       "1978     107.128921\n",
       "1979     125.347862\n",
       "1980     158.932049\n",
       "1981     165.021748\n",
       "1982     171.926327\n",
       "1983     125.104684\n",
       "1984     140.670143\n",
       "1985     176.473306\n",
       "1986     145.980294\n",
       "1987     134.419916\n",
       "1988     188.693750\n",
       "1989     241.518908\n",
       "1990     219.716632\n",
       "1991     194.674583\n",
       "1992     114.938622\n",
       "1993      -0.405165\n",
       "1994     129.387810\n",
       "1995     435.736640\n",
       "1996     493.942105\n",
       "1997     606.676815\n",
       "1998     652.375050\n",
       "1999     672.704628\n",
       "2000     825.773387\n",
       "2001     893.058753\n",
       "2002     415.736694\n",
       "2003     140.546263\n",
       "2004     891.185400\n",
       "2005    1028.991182\n",
       "Name: profit, dtype: float64"
      ]
     },
     "execution_count": 24,
     "metadata": {},
     "output_type": "execute_result"
    }
   ],
   "source": [
    "data.groupby('year')['profit'].mean()"
   ]
  },
  {
   "cell_type": "markdown",
   "metadata": {},
   "source": [
    "The following will replace each 'profit' value, no matter 'missing' or not, by the mean profit in its corresponding year group."
   ]
  },
  {
   "cell_type": "code",
   "execution_count": 36,
   "metadata": {
    "scrolled": true
   },
   "outputs": [
    {
     "data": {
      "text/plain": [
       "0          16.732186\n",
       "1          16.732186\n",
       "2          16.732186\n",
       "3          16.732186\n",
       "4          16.732186\n",
       "            ...     \n",
       "25495    1028.991182\n",
       "25496    1028.991182\n",
       "25497    1028.991182\n",
       "25498    1028.991182\n",
       "25499    1028.991182\n",
       "Name: profit, Length: 25500, dtype: float64"
      ]
     },
     "execution_count": 36,
     "metadata": {},
     "output_type": "execute_result"
    }
   ],
   "source": [
    "# In case we want to see what groupby followed by transform means\n",
    "data.groupby('year')['profit'].transform('mean')"
   ]
  },
  {
   "cell_type": "markdown",
   "metadata": {},
   "source": [
    "But, we want to apply the same transformation to the missing values only. So we put all functions together:"
   ]
  },
  {
   "cell_type": "code",
   "execution_count": 25,
   "metadata": {
    "scrolled": true
   },
   "outputs": [],
   "source": [
    "data['profit'].fillna(data.groupby('year')['profit'].transform('mean'), inplace=True)"
   ]
  },
  {
   "cell_type": "code",
   "execution_count": 26,
   "metadata": {},
   "outputs": [
    {
     "data": {
      "text/plain": [
       "count    25500.000000\n",
       "mean       207.445384\n",
       "std       1165.337309\n",
       "min     -98696.000000\n",
       "25%          9.000000\n",
       "50%         36.500000\n",
       "75%        153.525000\n",
       "max      25330.000000\n",
       "Name: profit, dtype: float64"
      ]
     },
     "execution_count": 26,
     "metadata": {},
     "output_type": "execute_result"
    }
   ],
   "source": [
    "data['profit'].describe()"
   ]
  },
  {
   "cell_type": "markdown",
   "metadata": {},
   "source": [
    "#### Summary\n",
    "\n",
    "* x = df_merged[continuous_variables].fillna(df_merged.groupby('domain_userid')[continuous_variables].transform('median'))\n",
    "\n",
    "How do we do it?\n",
    "\n",
    "* fillna\n",
    "* groupby\n",
    "* transform<br>\n",
    "    * 'mean': other options are 'min', 'max', 'median'\n",
    "    * inplace=True"
   ]
  },
  {
   "cell_type": "markdown",
   "metadata": {},
   "source": [
    "## A small example for better understanding groupby + transform"
   ]
  },
  {
   "cell_type": "code",
   "execution_count": 37,
   "metadata": {
    "scrolled": true
   },
   "outputs": [
    {
     "data": {
      "text/html": [
       "<div>\n",
       "<style scoped>\n",
       "    .dataframe tbody tr th:only-of-type {\n",
       "        vertical-align: middle;\n",
       "    }\n",
       "\n",
       "    .dataframe tbody tr th {\n",
       "        vertical-align: top;\n",
       "    }\n",
       "\n",
       "    .dataframe thead th {\n",
       "        text-align: right;\n",
       "    }\n",
       "</style>\n",
       "<table border=\"1\" class=\"dataframe\">\n",
       "  <thead>\n",
       "    <tr style=\"text-align: right;\">\n",
       "      <th></th>\n",
       "      <th>A</th>\n",
       "      <th>B</th>\n",
       "      <th>C</th>\n",
       "    </tr>\n",
       "  </thead>\n",
       "  <tbody>\n",
       "    <tr>\n",
       "      <th>0</th>\n",
       "      <td>foo</td>\n",
       "      <td>one</td>\n",
       "      <td>1</td>\n",
       "    </tr>\n",
       "    <tr>\n",
       "      <th>1</th>\n",
       "      <td>bar</td>\n",
       "      <td>one</td>\n",
       "      <td>5</td>\n",
       "    </tr>\n",
       "    <tr>\n",
       "      <th>2</th>\n",
       "      <td>foo</td>\n",
       "      <td>two</td>\n",
       "      <td>5</td>\n",
       "    </tr>\n",
       "    <tr>\n",
       "      <th>3</th>\n",
       "      <td>bar</td>\n",
       "      <td>three</td>\n",
       "      <td>2</td>\n",
       "    </tr>\n",
       "    <tr>\n",
       "      <th>4</th>\n",
       "      <td>foo</td>\n",
       "      <td>two</td>\n",
       "      <td>5</td>\n",
       "    </tr>\n",
       "    <tr>\n",
       "      <th>5</th>\n",
       "      <td>bar</td>\n",
       "      <td>two</td>\n",
       "      <td>5</td>\n",
       "    </tr>\n",
       "  </tbody>\n",
       "</table>\n",
       "</div>"
      ],
      "text/plain": [
       "     A      B  C\n",
       "0  foo    one  1\n",
       "1  bar    one  5\n",
       "2  foo    two  5\n",
       "3  bar  three  2\n",
       "4  foo    two  5\n",
       "5  bar    two  5"
      ]
     },
     "execution_count": 37,
     "metadata": {},
     "output_type": "execute_result"
    }
   ],
   "source": [
    "df = pd.DataFrame({'A' : ['foo', 'bar', 'foo', 'bar',\n",
    "                          'foo', 'bar'],\n",
    "                   'B' : ['one', 'one', 'two', 'three',\n",
    "                          'two', 'two'],\n",
    "                   'C' : [1, 5, 5, 2, 5, 5]})\n",
    "df"
   ]
  },
  {
   "cell_type": "code",
   "execution_count": 50,
   "metadata": {
    "scrolled": true
   },
   "outputs": [
    {
     "data": {
      "text/html": [
       "<div>\n",
       "<style scoped>\n",
       "    .dataframe tbody tr th:only-of-type {\n",
       "        vertical-align: middle;\n",
       "    }\n",
       "\n",
       "    .dataframe tbody tr th {\n",
       "        vertical-align: top;\n",
       "    }\n",
       "\n",
       "    .dataframe thead th {\n",
       "        text-align: right;\n",
       "    }\n",
       "</style>\n",
       "<table border=\"1\" class=\"dataframe\">\n",
       "  <thead>\n",
       "    <tr style=\"text-align: right;\">\n",
       "      <th></th>\n",
       "      <th>C</th>\n",
       "    </tr>\n",
       "    <tr>\n",
       "      <th>A</th>\n",
       "      <th></th>\n",
       "    </tr>\n",
       "  </thead>\n",
       "  <tbody>\n",
       "    <tr>\n",
       "      <th>bar</th>\n",
       "      <td>4.000000</td>\n",
       "    </tr>\n",
       "    <tr>\n",
       "      <th>foo</th>\n",
       "      <td>3.666667</td>\n",
       "    </tr>\n",
       "  </tbody>\n",
       "</table>\n",
       "</div>"
      ],
      "text/plain": [
       "            C\n",
       "A            \n",
       "bar  4.000000\n",
       "foo  3.666667"
      ]
     },
     "execution_count": 50,
     "metadata": {},
     "output_type": "execute_result"
    }
   ],
   "source": [
    "df.groupby('A').mean()"
   ]
  },
  {
   "cell_type": "code",
   "execution_count": 52,
   "metadata": {
    "scrolled": false
   },
   "outputs": [
    {
     "data": {
      "text/plain": [
       "0    3.666667\n",
       "1    4.000000\n",
       "2    3.666667\n",
       "3    4.000000\n",
       "4    3.666667\n",
       "5    4.000000\n",
       "Name: C, dtype: float64"
      ]
     },
     "execution_count": 52,
     "metadata": {},
     "output_type": "execute_result"
    }
   ],
   "source": [
    "df.groupby('A')['C'].transform('mean')"
   ]
  },
  {
   "cell_type": "code",
   "execution_count": 51,
   "metadata": {
    "scrolled": true
   },
   "outputs": [
    {
     "name": "stdout",
     "output_type": "stream",
     "text": [
      "<pandas.core.groupby.generic.DataFrameGroupBy object at 0x00000241C25C9430>\n"
     ]
    }
   ],
   "source": [
    "grouped = df.groupby('A')\n",
    "grouped['C'].transform('mean')"
   ]
  }
 ],
 "metadata": {
  "kernelspec": {
   "display_name": "Python 3",
   "language": "python",
   "name": "python3"
  },
  "language_info": {
   "codemirror_mode": {
    "name": "ipython",
    "version": 3
   },
   "file_extension": ".py",
   "mimetype": "text/x-python",
   "name": "python",
   "nbconvert_exporter": "python",
   "pygments_lexer": "ipython3",
   "version": "3.8.3"
  }
 },
 "nbformat": 4,
 "nbformat_minor": 4
}
