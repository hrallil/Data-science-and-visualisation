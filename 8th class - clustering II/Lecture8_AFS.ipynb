{
 "cells": [
  {
   "cell_type": "markdown",
   "metadata": {},
   "source": [
    "# Data Science and Visualization (RUC F2023)\n",
    "\n",
    "## Lecture 8: Clustering II"
   ]
  },
  {
   "cell_type": "markdown",
   "metadata": {},
   "source": [
    " # Automatic Feature Selection\n",
    " \n",
    " * Univariate Statistics (univariate feature selection)\n",
    " * Model-based Selection\n",
    " * Iterative Selection "
   ]
  },
  {
   "cell_type": "markdown",
   "metadata": {},
   "source": [
    "## 0. Setup and data loading"
   ]
  },
  {
   "cell_type": "markdown",
   "metadata": {},
   "source": [
    "We use a dataset about fuel economy of cars."
   ]
  },
  {
   "cell_type": "code",
   "execution_count": 8,
   "metadata": {
    "scrolled": true
   },
   "outputs": [
    {
     "data": {
      "text/html": [
       "<div>\n",
       "<style scoped>\n",
       "    .dataframe tbody tr th:only-of-type {\n",
       "        vertical-align: middle;\n",
       "    }\n",
       "\n",
       "    .dataframe tbody tr th {\n",
       "        vertical-align: top;\n",
       "    }\n",
       "\n",
       "    .dataframe thead th {\n",
       "        text-align: right;\n",
       "    }\n",
       "</style>\n",
       "<table border=\"1\" class=\"dataframe\">\n",
       "  <thead>\n",
       "    <tr style=\"text-align: right;\">\n",
       "      <th></th>\n",
       "      <th>mpg</th>\n",
       "      <th>cylinders</th>\n",
       "      <th>displacement</th>\n",
       "      <th>horsepower</th>\n",
       "      <th>weight</th>\n",
       "      <th>acceleration</th>\n",
       "      <th>model_year</th>\n",
       "      <th>origin</th>\n",
       "      <th>name</th>\n",
       "    </tr>\n",
       "  </thead>\n",
       "  <tbody>\n",
       "    <tr>\n",
       "      <th>0</th>\n",
       "      <td>18.0</td>\n",
       "      <td>8</td>\n",
       "      <td>307.0</td>\n",
       "      <td>130.0</td>\n",
       "      <td>3504</td>\n",
       "      <td>12.0</td>\n",
       "      <td>70</td>\n",
       "      <td>usa</td>\n",
       "      <td>chevrolet chevelle malibu</td>\n",
       "    </tr>\n",
       "    <tr>\n",
       "      <th>1</th>\n",
       "      <td>15.0</td>\n",
       "      <td>8</td>\n",
       "      <td>350.0</td>\n",
       "      <td>165.0</td>\n",
       "      <td>3693</td>\n",
       "      <td>11.5</td>\n",
       "      <td>70</td>\n",
       "      <td>usa</td>\n",
       "      <td>buick skylark 320</td>\n",
       "    </tr>\n",
       "    <tr>\n",
       "      <th>2</th>\n",
       "      <td>18.0</td>\n",
       "      <td>8</td>\n",
       "      <td>318.0</td>\n",
       "      <td>150.0</td>\n",
       "      <td>3436</td>\n",
       "      <td>11.0</td>\n",
       "      <td>70</td>\n",
       "      <td>usa</td>\n",
       "      <td>plymouth satellite</td>\n",
       "    </tr>\n",
       "    <tr>\n",
       "      <th>3</th>\n",
       "      <td>16.0</td>\n",
       "      <td>8</td>\n",
       "      <td>304.0</td>\n",
       "      <td>150.0</td>\n",
       "      <td>3433</td>\n",
       "      <td>12.0</td>\n",
       "      <td>70</td>\n",
       "      <td>usa</td>\n",
       "      <td>amc rebel sst</td>\n",
       "    </tr>\n",
       "    <tr>\n",
       "      <th>4</th>\n",
       "      <td>17.0</td>\n",
       "      <td>8</td>\n",
       "      <td>302.0</td>\n",
       "      <td>140.0</td>\n",
       "      <td>3449</td>\n",
       "      <td>10.5</td>\n",
       "      <td>70</td>\n",
       "      <td>usa</td>\n",
       "      <td>ford torino</td>\n",
       "    </tr>\n",
       "  </tbody>\n",
       "</table>\n",
       "</div>"
      ],
      "text/plain": [
       "    mpg  cylinders  displacement  horsepower  weight  acceleration  \\\n",
       "0  18.0          8         307.0       130.0    3504          12.0   \n",
       "1  15.0          8         350.0       165.0    3693          11.5   \n",
       "2  18.0          8         318.0       150.0    3436          11.0   \n",
       "3  16.0          8         304.0       150.0    3433          12.0   \n",
       "4  17.0          8         302.0       140.0    3449          10.5   \n",
       "\n",
       "   model_year origin                       name  \n",
       "0          70    usa  chevrolet chevelle malibu  \n",
       "1          70    usa          buick skylark 320  \n",
       "2          70    usa         plymouth satellite  \n",
       "3          70    usa              amc rebel sst  \n",
       "4          70    usa                ford torino  "
      ]
     },
     "execution_count": 8,
     "metadata": {},
     "output_type": "execute_result"
    }
   ],
   "source": [
    "import pandas as pd\n",
    "\n",
    "# mpg: miles per gallon\n",
    "mpg = pd.read_csv('C:/Data/mpg.csv')\n",
    "mpg.head()"
   ]
  },
  {
   "cell_type": "code",
   "execution_count": 9,
   "metadata": {},
   "outputs": [
    {
     "data": {
      "text/plain": [
       "(398, 9)"
      ]
     },
     "execution_count": 9,
     "metadata": {},
     "output_type": "execute_result"
    }
   ],
   "source": [
    "mpg.shape"
   ]
  },
  {
   "cell_type": "markdown",
   "metadata": {},
   "source": [
    "Let's focus on the numeric columns:"
   ]
  },
  {
   "cell_type": "code",
   "execution_count": 10,
   "metadata": {},
   "outputs": [],
   "source": [
    "mpg = mpg.select_dtypes('number').dropna()"
   ]
  },
  {
   "cell_type": "markdown",
   "metadata": {},
   "source": [
    "We divide the features into Independent and Dependent Variables"
   ]
  },
  {
   "cell_type": "code",
   "execution_count": 11,
   "metadata": {
    "scrolled": true
   },
   "outputs": [],
   "source": [
    "X = mpg.drop('mpg', axis =1)\n",
    "y = mpg['mpg']"
   ]
  },
  {
   "cell_type": "code",
   "execution_count": 12,
   "metadata": {},
   "outputs": [
    {
     "data": {
      "text/plain": [
       "(392, 6)"
      ]
     },
     "execution_count": 12,
     "metadata": {},
     "output_type": "execute_result"
    }
   ],
   "source": [
    "X.shape"
   ]
  },
  {
   "cell_type": "markdown",
   "metadata": {},
   "source": [
    "There are 6 columns in X. We want to figure out which should be used for data modelling. In this case, data modelling is to predict **mpg** values by using other columns. So it is a regression problem."
   ]
  },
  {
   "cell_type": "markdown",
   "metadata": {},
   "source": [
    "## 1. Univariate Statistics (aka univariate feature selection)\n",
    "\n",
    "* Consider each feature f individually. \n",
    "* Is there a significant relationship between f and the target?\n",
    "* Select those fs that are related with the highest confidence."
   ]
  },
  {
   "cell_type": "markdown",
   "metadata": {},
   "source": [
    "### SelectKBest()"
   ]
  },
  {
   "cell_type": "code",
   "execution_count": 13,
   "metadata": {},
   "outputs": [
    {
     "name": "stdout",
     "output_type": "stream",
     "text": [
      "Top 1 features: Index(['weight'], dtype='object')\n",
      "Top 2 features: Index(['displacement', 'weight'], dtype='object')\n",
      "Top 3 features: Index(['displacement', 'horsepower', 'weight'], dtype='object')\n",
      "Top 4 features: Index(['cylinders', 'displacement', 'horsepower', 'weight'], dtype='object')\n",
      "Top 5 features: Index(['cylinders', 'displacement', 'horsepower', 'weight', 'model_year'], dtype='object')\n"
     ]
    }
   ],
   "source": [
    "from sklearn.feature_selection import SelectKBest, f_regression\n",
    "\n",
    "for n in range(1, 6):\n",
    "    # Select top n features based on f_regression\n",
    "    selector = SelectKBest(f_regression, k=n)\n",
    "    selector.fit(X, y)\n",
    "    print('Top', n, 'features:', X.columns[selector.get_support()])"
   ]
  },
  {
   "cell_type": "markdown",
   "metadata": {},
   "source": [
    "### SelectPercentile()"
   ]
  },
  {
   "cell_type": "code",
   "execution_count": 49,
   "metadata": {},
   "outputs": [
    {
     "name": "stdout",
     "output_type": "stream",
     "text": [
      "Top 10 % features: Index(['weight'], dtype='object')\n",
      "Top 20 % features: Index(['weight'], dtype='object')\n",
      "Top 30 % features: Index(['displacement', 'weight'], dtype='object')\n",
      "Top 40 % features: Index(['displacement', 'weight'], dtype='object')\n",
      "Top 50 % features: Index(['displacement', 'horsepower', 'weight'], dtype='object')\n",
      "Top 60 % features: Index(['displacement', 'horsepower', 'weight'], dtype='object')\n",
      "Top 70 % features: Index(['cylinders', 'displacement', 'horsepower', 'weight'], dtype='object')\n",
      "Top 80 % features: Index(['cylinders', 'displacement', 'horsepower', 'weight'], dtype='object')\n",
      "Top 90 % features: Index(['cylinders', 'displacement', 'horsepower', 'weight', 'model_year'], dtype='object')\n",
      "Top 100 % features: Index(['cylinders', 'displacement', 'horsepower', 'weight', 'acceleration',\n",
      "       'model_year'],\n",
      "      dtype='object')\n"
     ]
    }
   ],
   "source": [
    "from sklearn.feature_selection import SelectPercentile, f_regression\n",
    "\n",
    "for n in range(10, 110, 10):\n",
    "    selector = SelectPercentile(f_regression, percentile=n)\n",
    "    selector.fit(X, y)\n",
    "    print('Top', n, '% features:', X.columns[selector.get_support()])"
   ]
  },
  {
   "cell_type": "markdown",
   "metadata": {},
   "source": [
    "## 2. Model-based Selection\n",
    "\n",
    "* Use a supervised learning model to judge the importance of each feature.\n",
    "    * A different model than the final task can be used\n",
    "* Select only the most important features\n",
    "* All features are considered at once"
   ]
  },
  {
   "cell_type": "code",
   "execution_count": 18,
   "metadata": {
    "scrolled": true
   },
   "outputs": [
    {
     "data": {
      "text/plain": [
       "Index(['cylinders', 'model_year'], dtype='object')"
      ]
     },
     "execution_count": 18,
     "metadata": {},
     "output_type": "execute_result"
    }
   ],
   "source": [
    "from sklearn.feature_selection import SelectFromModel\n",
    "from sklearn.linear_model import LinearRegression\n",
    "\n",
    "# Selecting the Best important features according to Logistic Regression using SelectFromModel\n",
    "sfm_selector = SelectFromModel(estimator=LinearRegression())\n",
    "\n",
    "sfm_selector.fit(X, y)\n",
    "X.columns[sfm_selector.get_support()]"
   ]
  },
  {
   "cell_type": "markdown",
   "metadata": {},
   "source": [
    "## 3. Recursive Feature Elimination (RFE)\n",
    "\n",
    "* Multiple models, and multiple features incrementally\n",
    "* Starts with all features to build a model, discards the least important features, and builds a new model with the remaining features.\n",
    "* Repeats until a pre-specified number of features remain"
   ]
  },
  {
   "cell_type": "code",
   "execution_count": 26,
   "metadata": {
    "scrolled": true
   },
   "outputs": [
    {
     "name": "stdout",
     "output_type": "stream",
     "text": [
      "Top 5 features: Index(['cylinders', 'displacement', 'weight', 'acceleration', 'model_year'], dtype='object')\n",
      "Top 4 features: Index(['cylinders', 'displacement', 'acceleration', 'model_year'], dtype='object')\n",
      "Top 3 features: Index(['cylinders', 'acceleration', 'model_year'], dtype='object')\n",
      "Top 2 features: Index(['cylinders', 'model_year'], dtype='object')\n",
      "Top 1 features: Index(['cylinders'], dtype='object')\n"
     ]
    }
   ],
   "source": [
    "from sklearn.feature_selection import RFE\n",
    "from sklearn.linear_model import LogisticRegression\n",
    "\n",
    "for n in range(5, 0, -1):\n",
    "    # Selecting the Best important features according to Linear Regression\n",
    "    rfe_selector = RFE(estimator=LinearRegression(), n_features_to_select=n, step=1)\n",
    "    rfe_selector.fit(X, y)\n",
    "    print('Top', n, 'features:', X.columns[rfe_selector.get_support()])"
   ]
  },
  {
   "cell_type": "markdown",
   "metadata": {},
   "source": [
    "### References\n",
    "\n",
    "* https://lucashomil.github.io/datascience/blog-2.html\n",
    "* https://towardsdatascience.com/5-feature-selection-method-from-scikit-learn-you-should-know-ed4d116e4172"
   ]
  }
 ],
 "metadata": {
  "kernelspec": {
   "display_name": "Python 3",
   "language": "python",
   "name": "python3"
  },
  "language_info": {
   "codemirror_mode": {
    "name": "ipython",
    "version": 3
   },
   "file_extension": ".py",
   "mimetype": "text/x-python",
   "name": "python",
   "nbconvert_exporter": "python",
   "pygments_lexer": "ipython3",
   "version": "3.8.3"
  }
 },
 "nbformat": 4,
 "nbformat_minor": 4
}
