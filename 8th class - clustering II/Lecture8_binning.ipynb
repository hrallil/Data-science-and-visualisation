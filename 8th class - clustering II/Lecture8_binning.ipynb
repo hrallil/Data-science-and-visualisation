{
 "cells": [
  {
   "cell_type": "markdown",
   "metadata": {},
   "source": [
    "# Data Science and Visualization (RUC F2023)\n",
    "\n",
    "## Lecture 8: Clustering II"
   ]
  },
  {
   "cell_type": "markdown",
   "metadata": {},
   "source": [
    " # Data Binning\n"
   ]
  },
  {
   "cell_type": "markdown",
   "metadata": {},
   "source": [
    "## 1. The raw data"
   ]
  },
  {
   "cell_type": "code",
   "execution_count": 1,
   "metadata": {},
   "outputs": [],
   "source": [
    "import pandas as pd\n",
    "from sklearn.cluster import KMeans"
   ]
  },
  {
   "cell_type": "code",
   "execution_count": 2,
   "metadata": {
    "scrolled": true
   },
   "outputs": [
    {
     "data": {
      "text/html": [
       "<div>\n",
       "<style scoped>\n",
       "    .dataframe tbody tr th:only-of-type {\n",
       "        vertical-align: middle;\n",
       "    }\n",
       "\n",
       "    .dataframe tbody tr th {\n",
       "        vertical-align: top;\n",
       "    }\n",
       "\n",
       "    .dataframe thead th {\n",
       "        text-align: right;\n",
       "    }\n",
       "</style>\n",
       "<table border=\"1\" class=\"dataframe\">\n",
       "  <thead>\n",
       "    <tr style=\"text-align: right;\">\n",
       "      <th></th>\n",
       "      <th>bin</th>\n",
       "      <th>age</th>\n",
       "      <th>income</th>\n",
       "    </tr>\n",
       "  </thead>\n",
       "  <tbody>\n",
       "    <tr>\n",
       "      <th>0</th>\n",
       "      <td>60-69</td>\n",
       "      <td>64</td>\n",
       "      <td>87083.236510</td>\n",
       "    </tr>\n",
       "    <tr>\n",
       "      <th>1</th>\n",
       "      <td>30-39</td>\n",
       "      <td>33</td>\n",
       "      <td>76807.824635</td>\n",
       "    </tr>\n",
       "    <tr>\n",
       "      <th>2</th>\n",
       "      <td>20-29</td>\n",
       "      <td>24</td>\n",
       "      <td>12043.598766</td>\n",
       "    </tr>\n",
       "    <tr>\n",
       "      <th>3</th>\n",
       "      <td>30-39</td>\n",
       "      <td>33</td>\n",
       "      <td>61972.002432</td>\n",
       "    </tr>\n",
       "    <tr>\n",
       "      <th>4</th>\n",
       "      <td>70-79</td>\n",
       "      <td>78</td>\n",
       "      <td>60120.315192</td>\n",
       "    </tr>\n",
       "  </tbody>\n",
       "</table>\n",
       "</div>"
      ],
      "text/plain": [
       "     bin  age        income\n",
       "0  60-69   64  87083.236510\n",
       "1  30-39   33  76807.824635\n",
       "2  20-29   24  12043.598766\n",
       "3  30-39   33  61972.002432\n",
       "4  70-79   78  60120.315192"
      ]
     },
     "execution_count": 2,
     "metadata": {},
     "output_type": "execute_result"
    }
   ],
   "source": [
    "data = pd.read_csv('C:/Data/Ch5_age_income_data.csv')\n",
    "data.head()"
   ]
  },
  {
   "cell_type": "markdown",
   "metadata": {},
   "source": [
    "### How was the **bin** column generated?"
   ]
  },
  {
   "cell_type": "code",
   "execution_count": 3,
   "metadata": {},
   "outputs": [
    {
     "data": {
      "text/plain": [
       "18"
      ]
     },
     "execution_count": 3,
     "metadata": {},
     "output_type": "execute_result"
    }
   ],
   "source": [
    "data.age.min()"
   ]
  },
  {
   "cell_type": "code",
   "execution_count": 4,
   "metadata": {},
   "outputs": [
    {
     "data": {
      "text/plain": [
       "89"
      ]
     },
     "execution_count": 4,
     "metadata": {},
     "output_type": "execute_result"
    }
   ],
   "source": [
    "data.age.max()"
   ]
  },
  {
   "cell_type": "code",
   "execution_count": 5,
   "metadata": {},
   "outputs": [],
   "source": [
    "def generateBin(age):\n",
    "    if (age < 20):\n",
    "        return '10-19'\n",
    "    elif (age < 30):\n",
    "        return '20-29'\n",
    "    elif (age < 40):\n",
    "        return '30-39'\n",
    "    elif (age < 50):\n",
    "        return '40-49'\n",
    "    elif (age < 60):\n",
    "        return '50-59'\n",
    "    elif (age < 70):\n",
    "        return '60-69'\n",
    "    elif (age < 80):\n",
    "        return '70-79'\n",
    "    elif (age < 90):\n",
    "        return '80-89'"
   ]
  },
  {
   "cell_type": "code",
   "execution_count": 6,
   "metadata": {
    "scrolled": true
   },
   "outputs": [
    {
     "data": {
      "text/html": [
       "<div>\n",
       "<style scoped>\n",
       "    .dataframe tbody tr th:only-of-type {\n",
       "        vertical-align: middle;\n",
       "    }\n",
       "\n",
       "    .dataframe tbody tr th {\n",
       "        vertical-align: top;\n",
       "    }\n",
       "\n",
       "    .dataframe thead th {\n",
       "        text-align: right;\n",
       "    }\n",
       "</style>\n",
       "<table border=\"1\" class=\"dataframe\">\n",
       "  <thead>\n",
       "    <tr style=\"text-align: right;\">\n",
       "      <th></th>\n",
       "      <th>bin</th>\n",
       "      <th>age</th>\n",
       "      <th>income</th>\n",
       "      <th>bin2</th>\n",
       "    </tr>\n",
       "  </thead>\n",
       "  <tbody>\n",
       "    <tr>\n",
       "      <th>0</th>\n",
       "      <td>60-69</td>\n",
       "      <td>64</td>\n",
       "      <td>87083.236510</td>\n",
       "      <td>60-69</td>\n",
       "    </tr>\n",
       "    <tr>\n",
       "      <th>1</th>\n",
       "      <td>30-39</td>\n",
       "      <td>33</td>\n",
       "      <td>76807.824635</td>\n",
       "      <td>30-39</td>\n",
       "    </tr>\n",
       "    <tr>\n",
       "      <th>2</th>\n",
       "      <td>20-29</td>\n",
       "      <td>24</td>\n",
       "      <td>12043.598766</td>\n",
       "      <td>20-29</td>\n",
       "    </tr>\n",
       "    <tr>\n",
       "      <th>3</th>\n",
       "      <td>30-39</td>\n",
       "      <td>33</td>\n",
       "      <td>61972.002432</td>\n",
       "      <td>30-39</td>\n",
       "    </tr>\n",
       "    <tr>\n",
       "      <th>4</th>\n",
       "      <td>70-79</td>\n",
       "      <td>78</td>\n",
       "      <td>60120.315192</td>\n",
       "      <td>70-79</td>\n",
       "    </tr>\n",
       "  </tbody>\n",
       "</table>\n",
       "</div>"
      ],
      "text/plain": [
       "     bin  age        income   bin2\n",
       "0  60-69   64  87083.236510  60-69\n",
       "1  30-39   33  76807.824635  30-39\n",
       "2  20-29   24  12043.598766  20-29\n",
       "3  30-39   33  61972.002432  30-39\n",
       "4  70-79   78  60120.315192  70-79"
      ]
     },
     "execution_count": 6,
     "metadata": {},
     "output_type": "execute_result"
    }
   ],
   "source": [
    "data['bin2'] = data['age'].apply(generateBin)\n",
    "data.head()"
   ]
  },
  {
   "cell_type": "markdown",
   "metadata": {},
   "source": [
    "### Histogram plotting"
   ]
  },
  {
   "cell_type": "code",
   "execution_count": 7,
   "metadata": {
    "scrolled": false
   },
   "outputs": [
    {
     "data": {
      "text/plain": [
       "(array([ 195., 2091., 1883., 1267., 1118.,  798.,  478.,  275.]),\n",
       " array([10, 20, 30, 40, 50, 60, 70, 80, 90]),\n",
       " <a list of 8 Patch objects>)"
      ]
     },
     "execution_count": 7,
     "metadata": {},
     "output_type": "execute_result"
    },
    {
     "data": {
      "image/png": "[encoded data removed]",
      "text/plain": [
       "<Figure size 432x288 with 1 Axes>"
      ]
     },
     "metadata": {
      "needs_background": "light"
     },
     "output_type": "display_data"
    }
   ],
   "source": [
    "import matplotlib.pyplot as plt\n",
    "import seaborn as sns\n",
    "\n",
    "plt.hist(data['age'],  bins=range(10, 100, 10))\n",
    "#plt.xticks([0, 20, 40, 60, 80, 100])"
   ]
  },
  {
   "cell_type": "markdown",
   "metadata": {},
   "source": [
    "## 2. Fixed-Width Binning\n",
    "\n",
    "Here we use pandas.**cut(.)** function. It requires a number of bins or a series of bins."
   ]
  },
  {
   "cell_type": "markdown",
   "metadata": {},
   "source": [
    "### Without explicit bins but the number of bins"
   ]
  },
  {
   "cell_type": "code",
   "execution_count": 8,
   "metadata": {},
   "outputs": [],
   "source": [
    "data['age_binned_1'] = pd.cut(data['age'], 8)"
   ]
  },
  {
   "cell_type": "code",
   "execution_count": 9,
   "metadata": {},
   "outputs": [
    {
     "data": {
      "text/plain": [
       "IntervalIndex([(17.929, 26.875], (26.875, 35.75], (35.75, 44.625], (44.625, 53.5], (53.5, 62.375], (62.375, 71.25], (71.25, 80.125], (80.125, 89.0]], dtype='interval[float64, right]')"
      ]
     },
     "execution_count": 9,
     "metadata": {},
     "output_type": "execute_result"
    }
   ],
   "source": [
    "data['age_binned_1'].unique().categories"
   ]
  },
  {
   "cell_type": "code",
   "execution_count": 10,
   "metadata": {
    "scrolled": false
   },
   "outputs": [
    {
     "data": {
      "text/html": [
       "<div>\n",
       "<style scoped>\n",
       "    .dataframe tbody tr th:only-of-type {\n",
       "        vertical-align: middle;\n",
       "    }\n",
       "\n",
       "    .dataframe tbody tr th {\n",
       "        vertical-align: top;\n",
       "    }\n",
       "\n",
       "    .dataframe thead th {\n",
       "        text-align: right;\n",
       "    }\n",
       "</style>\n",
       "<table border=\"1\" class=\"dataframe\">\n",
       "  <thead>\n",
       "    <tr style=\"text-align: right;\">\n",
       "      <th></th>\n",
       "      <th>bin</th>\n",
       "      <th>age</th>\n",
       "      <th>income</th>\n",
       "      <th>bin2</th>\n",
       "      <th>age_binned_1</th>\n",
       "    </tr>\n",
       "  </thead>\n",
       "  <tbody>\n",
       "    <tr>\n",
       "      <th>0</th>\n",
       "      <td>60-69</td>\n",
       "      <td>64</td>\n",
       "      <td>87083.236510</td>\n",
       "      <td>60-69</td>\n",
       "      <td>(62.375, 71.25]</td>\n",
       "    </tr>\n",
       "    <tr>\n",
       "      <th>1</th>\n",
       "      <td>30-39</td>\n",
       "      <td>33</td>\n",
       "      <td>76807.824635</td>\n",
       "      <td>30-39</td>\n",
       "      <td>(26.875, 35.75]</td>\n",
       "    </tr>\n",
       "    <tr>\n",
       "      <th>2</th>\n",
       "      <td>20-29</td>\n",
       "      <td>24</td>\n",
       "      <td>12043.598766</td>\n",
       "      <td>20-29</td>\n",
       "      <td>(17.929, 26.875]</td>\n",
       "    </tr>\n",
       "    <tr>\n",
       "      <th>3</th>\n",
       "      <td>30-39</td>\n",
       "      <td>33</td>\n",
       "      <td>61972.002432</td>\n",
       "      <td>30-39</td>\n",
       "      <td>(26.875, 35.75]</td>\n",
       "    </tr>\n",
       "    <tr>\n",
       "      <th>4</th>\n",
       "      <td>70-79</td>\n",
       "      <td>78</td>\n",
       "      <td>60120.315192</td>\n",
       "      <td>70-79</td>\n",
       "      <td>(71.25, 80.125]</td>\n",
       "    </tr>\n",
       "  </tbody>\n",
       "</table>\n",
       "</div>"
      ],
      "text/plain": [
       "     bin  age        income   bin2      age_binned_1\n",
       "0  60-69   64  87083.236510  60-69   (62.375, 71.25]\n",
       "1  30-39   33  76807.824635  30-39   (26.875, 35.75]\n",
       "2  20-29   24  12043.598766  20-29  (17.929, 26.875]\n",
       "3  30-39   33  61972.002432  30-39   (26.875, 35.75]\n",
       "4  70-79   78  60120.315192  70-79   (71.25, 80.125]"
      ]
     },
     "execution_count": 10,
     "metadata": {},
     "output_type": "execute_result"
    }
   ],
   "source": [
    "data.head()"
   ]
  },
  {
   "cell_type": "markdown",
   "metadata": {},
   "source": [
    "### With explict bins"
   ]
  },
  {
   "cell_type": "code",
   "execution_count": 11,
   "metadata": {},
   "outputs": [],
   "source": [
    "fixed_width_bins = [10, 20, 30, 40, 50, 60, 70, 80, 90]"
   ]
  },
  {
   "cell_type": "code",
   "execution_count": 12,
   "metadata": {},
   "outputs": [],
   "source": [
    "data['age_binned_2'] = pd.cut(data['age'], fixed_width_bins)"
   ]
  },
  {
   "cell_type": "code",
   "execution_count": 13,
   "metadata": {
    "scrolled": true
   },
   "outputs": [
    {
     "data": {
      "text/html": [
       "<div>\n",
       "<style scoped>\n",
       "    .dataframe tbody tr th:only-of-type {\n",
       "        vertical-align: middle;\n",
       "    }\n",
       "\n",
       "    .dataframe tbody tr th {\n",
       "        vertical-align: top;\n",
       "    }\n",
       "\n",
       "    .dataframe thead th {\n",
       "        text-align: right;\n",
       "    }\n",
       "</style>\n",
       "<table border=\"1\" class=\"dataframe\">\n",
       "  <thead>\n",
       "    <tr style=\"text-align: right;\">\n",
       "      <th></th>\n",
       "      <th>bin</th>\n",
       "      <th>age</th>\n",
       "      <th>income</th>\n",
       "      <th>bin2</th>\n",
       "      <th>age_binned_1</th>\n",
       "      <th>age_binned_2</th>\n",
       "    </tr>\n",
       "  </thead>\n",
       "  <tbody>\n",
       "    <tr>\n",
       "      <th>0</th>\n",
       "      <td>60-69</td>\n",
       "      <td>64</td>\n",
       "      <td>87083.236510</td>\n",
       "      <td>60-69</td>\n",
       "      <td>(62.375, 71.25]</td>\n",
       "      <td>(60, 70]</td>\n",
       "    </tr>\n",
       "    <tr>\n",
       "      <th>1</th>\n",
       "      <td>30-39</td>\n",
       "      <td>33</td>\n",
       "      <td>76807.824635</td>\n",
       "      <td>30-39</td>\n",
       "      <td>(26.875, 35.75]</td>\n",
       "      <td>(30, 40]</td>\n",
       "    </tr>\n",
       "    <tr>\n",
       "      <th>2</th>\n",
       "      <td>20-29</td>\n",
       "      <td>24</td>\n",
       "      <td>12043.598766</td>\n",
       "      <td>20-29</td>\n",
       "      <td>(17.929, 26.875]</td>\n",
       "      <td>(20, 30]</td>\n",
       "    </tr>\n",
       "    <tr>\n",
       "      <th>3</th>\n",
       "      <td>30-39</td>\n",
       "      <td>33</td>\n",
       "      <td>61972.002432</td>\n",
       "      <td>30-39</td>\n",
       "      <td>(26.875, 35.75]</td>\n",
       "      <td>(30, 40]</td>\n",
       "    </tr>\n",
       "    <tr>\n",
       "      <th>4</th>\n",
       "      <td>70-79</td>\n",
       "      <td>78</td>\n",
       "      <td>60120.315192</td>\n",
       "      <td>70-79</td>\n",
       "      <td>(71.25, 80.125]</td>\n",
       "      <td>(70, 80]</td>\n",
       "    </tr>\n",
       "  </tbody>\n",
       "</table>\n",
       "</div>"
      ],
      "text/plain": [
       "     bin  age        income   bin2      age_binned_1 age_binned_2\n",
       "0  60-69   64  87083.236510  60-69   (62.375, 71.25]     (60, 70]\n",
       "1  30-39   33  76807.824635  30-39   (26.875, 35.75]     (30, 40]\n",
       "2  20-29   24  12043.598766  20-29  (17.929, 26.875]     (20, 30]\n",
       "3  30-39   33  61972.002432  30-39   (26.875, 35.75]     (30, 40]\n",
       "4  70-79   78  60120.315192  70-79   (71.25, 80.125]     (70, 80]"
      ]
     },
     "execution_count": 13,
     "metadata": {},
     "output_type": "execute_result"
    }
   ],
   "source": [
    "data.head()"
   ]
  },
  {
   "cell_type": "code",
   "execution_count": 14,
   "metadata": {
    "scrolled": true
   },
   "outputs": [
    {
     "data": {
      "text/plain": [
       "IntervalIndex([(10, 20], (20, 30], (30, 40], (40, 50], (50, 60], (60, 70], (70, 80], (80, 90]], dtype='interval[int64, right]')"
      ]
     },
     "execution_count": 14,
     "metadata": {},
     "output_type": "execute_result"
    }
   ],
   "source": [
    "data['age_binned_2'].unique().categories"
   ]
  },
  {
   "cell_type": "markdown",
   "metadata": {},
   "source": [
    "## 3. Quantile Binning\n",
    "\n",
    "Here we use pandas.**qcut(.)** function. It requires a number of bins or a series of bins."
   ]
  },
  {
   "cell_type": "code",
   "execution_count": 15,
   "metadata": {},
   "outputs": [
    {
     "data": {
      "text/html": [
       "<div>\n",
       "<style scoped>\n",
       "    .dataframe tbody tr th:only-of-type {\n",
       "        vertical-align: middle;\n",
       "    }\n",
       "\n",
       "    .dataframe tbody tr th {\n",
       "        vertical-align: top;\n",
       "    }\n",
       "\n",
       "    .dataframe thead th {\n",
       "        text-align: right;\n",
       "    }\n",
       "</style>\n",
       "<table border=\"1\" class=\"dataframe\">\n",
       "  <thead>\n",
       "    <tr style=\"text-align: right;\">\n",
       "      <th></th>\n",
       "      <th>bin</th>\n",
       "      <th>age</th>\n",
       "      <th>income</th>\n",
       "      <th>bin2</th>\n",
       "      <th>age_binned_1</th>\n",
       "      <th>age_binned_2</th>\n",
       "      <th>age_binned_q</th>\n",
       "    </tr>\n",
       "  </thead>\n",
       "  <tbody>\n",
       "    <tr>\n",
       "      <th>0</th>\n",
       "      <td>60-69</td>\n",
       "      <td>64</td>\n",
       "      <td>87083.236510</td>\n",
       "      <td>60-69</td>\n",
       "      <td>(62.375, 71.25]</td>\n",
       "      <td>(60, 70]</td>\n",
       "      <td>(55.0, 66.0]</td>\n",
       "    </tr>\n",
       "    <tr>\n",
       "      <th>1</th>\n",
       "      <td>30-39</td>\n",
       "      <td>33</td>\n",
       "      <td>76807.824635</td>\n",
       "      <td>30-39</td>\n",
       "      <td>(26.875, 35.75]</td>\n",
       "      <td>(30, 40]</td>\n",
       "      <td>(28.0, 33.0]</td>\n",
       "    </tr>\n",
       "    <tr>\n",
       "      <th>2</th>\n",
       "      <td>20-29</td>\n",
       "      <td>24</td>\n",
       "      <td>12043.598766</td>\n",
       "      <td>20-29</td>\n",
       "      <td>(17.929, 26.875]</td>\n",
       "      <td>(20, 30]</td>\n",
       "      <td>(17.999, 24.0]</td>\n",
       "    </tr>\n",
       "    <tr>\n",
       "      <th>3</th>\n",
       "      <td>30-39</td>\n",
       "      <td>33</td>\n",
       "      <td>61972.002432</td>\n",
       "      <td>30-39</td>\n",
       "      <td>(26.875, 35.75]</td>\n",
       "      <td>(30, 40]</td>\n",
       "      <td>(28.0, 33.0]</td>\n",
       "    </tr>\n",
       "    <tr>\n",
       "      <th>4</th>\n",
       "      <td>70-79</td>\n",
       "      <td>78</td>\n",
       "      <td>60120.315192</td>\n",
       "      <td>70-79</td>\n",
       "      <td>(71.25, 80.125]</td>\n",
       "      <td>(70, 80]</td>\n",
       "      <td>(66.0, 89.0]</td>\n",
       "    </tr>\n",
       "    <tr>\n",
       "      <th>...</th>\n",
       "      <td>...</td>\n",
       "      <td>...</td>\n",
       "      <td>...</td>\n",
       "      <td>...</td>\n",
       "      <td>...</td>\n",
       "      <td>...</td>\n",
       "      <td>...</td>\n",
       "    </tr>\n",
       "    <tr>\n",
       "      <th>8100</th>\n",
       "      <td>70-79</td>\n",
       "      <td>72</td>\n",
       "      <td>58520.584848</td>\n",
       "      <td>70-79</td>\n",
       "      <td>(71.25, 80.125]</td>\n",
       "      <td>(70, 80]</td>\n",
       "      <td>(66.0, 89.0]</td>\n",
       "    </tr>\n",
       "    <tr>\n",
       "      <th>8101</th>\n",
       "      <td>60-69</td>\n",
       "      <td>65</td>\n",
       "      <td>52685.667872</td>\n",
       "      <td>60-69</td>\n",
       "      <td>(62.375, 71.25]</td>\n",
       "      <td>(60, 70]</td>\n",
       "      <td>(55.0, 66.0]</td>\n",
       "    </tr>\n",
       "    <tr>\n",
       "      <th>8102</th>\n",
       "      <td>20-29</td>\n",
       "      <td>24</td>\n",
       "      <td>30334.468418</td>\n",
       "      <td>20-29</td>\n",
       "      <td>(17.929, 26.875]</td>\n",
       "      <td>(20, 30]</td>\n",
       "      <td>(17.999, 24.0]</td>\n",
       "    </tr>\n",
       "    <tr>\n",
       "      <th>8103</th>\n",
       "      <td>20-29</td>\n",
       "      <td>21</td>\n",
       "      <td>50360.341896</td>\n",
       "      <td>20-29</td>\n",
       "      <td>(17.929, 26.875]</td>\n",
       "      <td>(20, 30]</td>\n",
       "      <td>(17.999, 24.0]</td>\n",
       "    </tr>\n",
       "    <tr>\n",
       "      <th>8104</th>\n",
       "      <td>50-59</td>\n",
       "      <td>54</td>\n",
       "      <td>91548.357440</td>\n",
       "      <td>50-59</td>\n",
       "      <td>(53.5, 62.375]</td>\n",
       "      <td>(50, 60]</td>\n",
       "      <td>(47.0, 55.0]</td>\n",
       "    </tr>\n",
       "  </tbody>\n",
       "</table>\n",
       "<p>8105 rows × 7 columns</p>\n",
       "</div>"
      ],
      "text/plain": [
       "        bin  age        income   bin2      age_binned_1 age_binned_2  \\\n",
       "0     60-69   64  87083.236510  60-69   (62.375, 71.25]     (60, 70]   \n",
       "1     30-39   33  76807.824635  30-39   (26.875, 35.75]     (30, 40]   \n",
       "2     20-29   24  12043.598766  20-29  (17.929, 26.875]     (20, 30]   \n",
       "3     30-39   33  61972.002432  30-39   (26.875, 35.75]     (30, 40]   \n",
       "4     70-79   78  60120.315192  70-79   (71.25, 80.125]     (70, 80]   \n",
       "...     ...  ...           ...    ...               ...          ...   \n",
       "8100  70-79   72  58520.584848  70-79   (71.25, 80.125]     (70, 80]   \n",
       "8101  60-69   65  52685.667872  60-69   (62.375, 71.25]     (60, 70]   \n",
       "8102  20-29   24  30334.468418  20-29  (17.929, 26.875]     (20, 30]   \n",
       "8103  20-29   21  50360.341896  20-29  (17.929, 26.875]     (20, 30]   \n",
       "8104  50-59   54  91548.357440  50-59    (53.5, 62.375]     (50, 60]   \n",
       "\n",
       "        age_binned_q  \n",
       "0       (55.0, 66.0]  \n",
       "1       (28.0, 33.0]  \n",
       "2     (17.999, 24.0]  \n",
       "3       (28.0, 33.0]  \n",
       "4       (66.0, 89.0]  \n",
       "...              ...  \n",
       "8100    (66.0, 89.0]  \n",
       "8101    (55.0, 66.0]  \n",
       "8102  (17.999, 24.0]  \n",
       "8103  (17.999, 24.0]  \n",
       "8104    (47.0, 55.0]  \n",
       "\n",
       "[8105 rows x 7 columns]"
      ]
     },
     "execution_count": 15,
     "metadata": {},
     "output_type": "execute_result"
    }
   ],
   "source": [
    "data['age_binned_q'] = pd.qcut(data['age'], 8)\n",
    "data"
   ]
  },
  {
   "cell_type": "code",
   "execution_count": 16,
   "metadata": {
    "scrolled": true
   },
   "outputs": [
    {
     "data": {
      "text/plain": [
       "IntervalIndex([(17.999, 24.0], (24.0, 28.0], (28.0, 33.0], (33.0, 39.0], (39.0, 47.0], (47.0, 55.0], (55.0, 66.0], (66.0, 89.0]], dtype='interval[float64, right]')"
      ]
     },
     "execution_count": 16,
     "metadata": {},
     "output_type": "execute_result"
    }
   ],
   "source": [
    "data['age_binned_q'].unique().categories"
   ]
  },
  {
   "cell_type": "code",
   "execution_count": 17,
   "metadata": {
    "scrolled": true
   },
   "outputs": [],
   "source": [
    "series_2 = data.groupby(['age_binned_q'])['age'].count()"
   ]
  },
  {
   "cell_type": "code",
   "execution_count": 18,
   "metadata": {},
   "outputs": [
    {
     "data": {
      "text/plain": [
       "IntervalIndex([(17.999, 24.0], (24.0, 28.0], (28.0, 33.0], (33.0, 39.0], (39.0, 47.0], (47.0, 55.0], (55.0, 66.0], (66.0, 89.0]], dtype='interval[float64, right]')"
      ]
     },
     "execution_count": 18,
     "metadata": {},
     "output_type": "execute_result"
    }
   ],
   "source": [
    "data['age_binned_q'].unique().categories"
   ]
  },
  {
   "cell_type": "code",
   "execution_count": 19,
   "metadata": {},
   "outputs": [],
   "source": [
    "index = ['[18, 24]', '(24, 28]', '(28, 33]', '(33, 39]', '(39, 47]', '(47, 55]', '(55, 66]', '(66, 89]']"
   ]
  },
  {
   "cell_type": "code",
   "execution_count": 20,
   "metadata": {
    "scrolled": false
   },
   "outputs": [
    {
     "data": {
      "text/plain": [
       "([<matplotlib.axis.XTick at 0x1f17458b3d0>,\n",
       "  <matplotlib.axis.XTick at 0x1f17458b3a0>,\n",
       "  <matplotlib.axis.XTick at 0x1f174587850>,\n",
       "  <matplotlib.axis.XTick at 0x1f1745c0400>,\n",
       "  <matplotlib.axis.XTick at 0x1f1745c0910>,\n",
       "  <matplotlib.axis.XTick at 0x1f1745c0e20>,\n",
       "  <matplotlib.axis.XTick at 0x1f1745c6370>,\n",
       "  <matplotlib.axis.XTick at 0x1f1745c0a00>],\n",
       " <a list of 8 Text major ticklabel objects>)"
      ]
     },
     "execution_count": 20,
     "metadata": {},
     "output_type": "execute_result"
    },
    {
     "data": {
      "image/png": "[encoded data removed]",
      "text/plain": [
       "<Figure size 432x288 with 1 Axes>"
      ]
     },
     "metadata": {
      "needs_background": "light"
     },
     "output_type": "display_data"
    }
   ],
   "source": [
    "plt.bar(index, series_2.values, width=1)\n",
    "\n",
    "plt.xticks(index,  rotation=45, ha='right', rotation_mode='anchor')"
   ]
  },
  {
   "cell_type": "markdown",
   "metadata": {},
   "source": [
    "## 4. Binning with Labels"
   ]
  },
  {
   "cell_type": "code",
   "execution_count": 21,
   "metadata": {
    "scrolled": false
   },
   "outputs": [
    {
     "data": {
      "text/html": [
       "<div>\n",
       "<style scoped>\n",
       "    .dataframe tbody tr th:only-of-type {\n",
       "        vertical-align: middle;\n",
       "    }\n",
       "\n",
       "    .dataframe tbody tr th {\n",
       "        vertical-align: top;\n",
       "    }\n",
       "\n",
       "    .dataframe thead th {\n",
       "        text-align: right;\n",
       "    }\n",
       "</style>\n",
       "<table border=\"1\" class=\"dataframe\">\n",
       "  <thead>\n",
       "    <tr style=\"text-align: right;\">\n",
       "      <th></th>\n",
       "      <th>bin</th>\n",
       "      <th>age</th>\n",
       "      <th>income</th>\n",
       "      <th>bin2</th>\n",
       "      <th>age_binned_1</th>\n",
       "      <th>age_binned_2</th>\n",
       "      <th>age_binned_q</th>\n",
       "      <th>age_range</th>\n",
       "    </tr>\n",
       "  </thead>\n",
       "  <tbody>\n",
       "    <tr>\n",
       "      <th>0</th>\n",
       "      <td>60-69</td>\n",
       "      <td>64</td>\n",
       "      <td>87083.236510</td>\n",
       "      <td>60-69</td>\n",
       "      <td>(62.375, 71.25]</td>\n",
       "      <td>(60, 70]</td>\n",
       "      <td>(55.0, 66.0]</td>\n",
       "      <td>senior</td>\n",
       "    </tr>\n",
       "    <tr>\n",
       "      <th>1</th>\n",
       "      <td>30-39</td>\n",
       "      <td>33</td>\n",
       "      <td>76807.824635</td>\n",
       "      <td>30-39</td>\n",
       "      <td>(26.875, 35.75]</td>\n",
       "      <td>(30, 40]</td>\n",
       "      <td>(28.0, 33.0]</td>\n",
       "      <td>young</td>\n",
       "    </tr>\n",
       "    <tr>\n",
       "      <th>2</th>\n",
       "      <td>20-29</td>\n",
       "      <td>24</td>\n",
       "      <td>12043.598766</td>\n",
       "      <td>20-29</td>\n",
       "      <td>(17.929, 26.875]</td>\n",
       "      <td>(20, 30]</td>\n",
       "      <td>(17.999, 24.0]</td>\n",
       "      <td>young</td>\n",
       "    </tr>\n",
       "    <tr>\n",
       "      <th>3</th>\n",
       "      <td>30-39</td>\n",
       "      <td>33</td>\n",
       "      <td>61972.002432</td>\n",
       "      <td>30-39</td>\n",
       "      <td>(26.875, 35.75]</td>\n",
       "      <td>(30, 40]</td>\n",
       "      <td>(28.0, 33.0]</td>\n",
       "      <td>young</td>\n",
       "    </tr>\n",
       "    <tr>\n",
       "      <th>4</th>\n",
       "      <td>70-79</td>\n",
       "      <td>78</td>\n",
       "      <td>60120.315192</td>\n",
       "      <td>70-79</td>\n",
       "      <td>(71.25, 80.125]</td>\n",
       "      <td>(70, 80]</td>\n",
       "      <td>(66.0, 89.0]</td>\n",
       "      <td>old</td>\n",
       "    </tr>\n",
       "    <tr>\n",
       "      <th>...</th>\n",
       "      <td>...</td>\n",
       "      <td>...</td>\n",
       "      <td>...</td>\n",
       "      <td>...</td>\n",
       "      <td>...</td>\n",
       "      <td>...</td>\n",
       "      <td>...</td>\n",
       "      <td>...</td>\n",
       "    </tr>\n",
       "    <tr>\n",
       "      <th>8100</th>\n",
       "      <td>70-79</td>\n",
       "      <td>72</td>\n",
       "      <td>58520.584848</td>\n",
       "      <td>70-79</td>\n",
       "      <td>(71.25, 80.125]</td>\n",
       "      <td>(70, 80]</td>\n",
       "      <td>(66.0, 89.0]</td>\n",
       "      <td>old</td>\n",
       "    </tr>\n",
       "    <tr>\n",
       "      <th>8101</th>\n",
       "      <td>60-69</td>\n",
       "      <td>65</td>\n",
       "      <td>52685.667872</td>\n",
       "      <td>60-69</td>\n",
       "      <td>(62.375, 71.25]</td>\n",
       "      <td>(60, 70]</td>\n",
       "      <td>(55.0, 66.0]</td>\n",
       "      <td>senior</td>\n",
       "    </tr>\n",
       "    <tr>\n",
       "      <th>8102</th>\n",
       "      <td>20-29</td>\n",
       "      <td>24</td>\n",
       "      <td>30334.468418</td>\n",
       "      <td>20-29</td>\n",
       "      <td>(17.929, 26.875]</td>\n",
       "      <td>(20, 30]</td>\n",
       "      <td>(17.999, 24.0]</td>\n",
       "      <td>young</td>\n",
       "    </tr>\n",
       "    <tr>\n",
       "      <th>8103</th>\n",
       "      <td>20-29</td>\n",
       "      <td>21</td>\n",
       "      <td>50360.341896</td>\n",
       "      <td>20-29</td>\n",
       "      <td>(17.929, 26.875]</td>\n",
       "      <td>(20, 30]</td>\n",
       "      <td>(17.999, 24.0]</td>\n",
       "      <td>young</td>\n",
       "    </tr>\n",
       "    <tr>\n",
       "      <th>8104</th>\n",
       "      <td>50-59</td>\n",
       "      <td>54</td>\n",
       "      <td>91548.357440</td>\n",
       "      <td>50-59</td>\n",
       "      <td>(53.5, 62.375]</td>\n",
       "      <td>(50, 60]</td>\n",
       "      <td>(47.0, 55.0]</td>\n",
       "      <td>experienced</td>\n",
       "    </tr>\n",
       "  </tbody>\n",
       "</table>\n",
       "<p>8105 rows × 8 columns</p>\n",
       "</div>"
      ],
      "text/plain": [
       "        bin  age        income   bin2      age_binned_1 age_binned_2  \\\n",
       "0     60-69   64  87083.236510  60-69   (62.375, 71.25]     (60, 70]   \n",
       "1     30-39   33  76807.824635  30-39   (26.875, 35.75]     (30, 40]   \n",
       "2     20-29   24  12043.598766  20-29  (17.929, 26.875]     (20, 30]   \n",
       "3     30-39   33  61972.002432  30-39   (26.875, 35.75]     (30, 40]   \n",
       "4     70-79   78  60120.315192  70-79   (71.25, 80.125]     (70, 80]   \n",
       "...     ...  ...           ...    ...               ...          ...   \n",
       "8100  70-79   72  58520.584848  70-79   (71.25, 80.125]     (70, 80]   \n",
       "8101  60-69   65  52685.667872  60-69   (62.375, 71.25]     (60, 70]   \n",
       "8102  20-29   24  30334.468418  20-29  (17.929, 26.875]     (20, 30]   \n",
       "8103  20-29   21  50360.341896  20-29  (17.929, 26.875]     (20, 30]   \n",
       "8104  50-59   54  91548.357440  50-59    (53.5, 62.375]     (50, 60]   \n",
       "\n",
       "        age_binned_q    age_range  \n",
       "0       (55.0, 66.0]       senior  \n",
       "1       (28.0, 33.0]        young  \n",
       "2     (17.999, 24.0]        young  \n",
       "3       (28.0, 33.0]        young  \n",
       "4       (66.0, 89.0]          old  \n",
       "...              ...          ...  \n",
       "8100    (66.0, 89.0]          old  \n",
       "8101    (55.0, 66.0]       senior  \n",
       "8102  (17.999, 24.0]        young  \n",
       "8103  (17.999, 24.0]        young  \n",
       "8104    (47.0, 55.0]  experienced  \n",
       "\n",
       "[8105 rows x 8 columns]"
      ]
     },
     "execution_count": 21,
     "metadata": {},
     "output_type": "execute_result"
    }
   ],
   "source": [
    "#Creating bins and labels\n",
    "bins = [10, 20, 40, 50, 60, 70, 80, 90]\n",
    "\n",
    "labels = ['teenage','young', 'middle age', 'experienced', 'senior', 'old', 'very old']\n",
    "\n",
    "data['age_range'] = pd.cut(data['age'], bins=bins, labels=labels)\n",
    "data"
   ]
  },
  {
   "cell_type": "code",
   "execution_count": 22,
   "metadata": {
    "scrolled": true
   },
   "outputs": [
    {
     "data": {
      "text/plain": [
       "Index(['teenage', 'young', 'middle age', 'experienced', 'senior', 'old',\n",
       "       'very old'],\n",
       "      dtype='object')"
      ]
     },
     "execution_count": 22,
     "metadata": {},
     "output_type": "execute_result"
    }
   ],
   "source": [
    "data['age_range'].unique().categories"
   ]
  },
  {
   "cell_type": "code",
   "execution_count": 23,
   "metadata": {
    "scrolled": true
   },
   "outputs": [
    {
     "data": {
      "text/plain": [
       "age_range\n",
       "teenage         396\n",
       "young          3901\n",
       "middle age     1255\n",
       "experienced    1078\n",
       "senior          785\n",
       "old             435\n",
       "very old        255\n",
       "Name: age, dtype: int64"
      ]
     },
     "execution_count": 23,
     "metadata": {},
     "output_type": "execute_result"
    }
   ],
   "source": [
    "series_3 = data.groupby(['age_range'])['age'].count()\n",
    "series_3"
   ]
  },
  {
   "cell_type": "code",
   "execution_count": 24,
   "metadata": {},
   "outputs": [
    {
     "data": {
      "text/plain": [
       "([<matplotlib.axis.XTick at 0x1f174601040>,\n",
       "  <matplotlib.axis.XTick at 0x1f174600fd0>,\n",
       "  <matplotlib.axis.XTick at 0x1f1746003d0>,\n",
       "  <matplotlib.axis.XTick at 0x1f174626d60>,\n",
       "  <matplotlib.axis.XTick at 0x1f1746352b0>,\n",
       "  <matplotlib.axis.XTick at 0x1f1746357c0>,\n",
       "  <matplotlib.axis.XTick at 0x1f174635cd0>],\n",
       " <a list of 7 Text major ticklabel objects>)"
      ]
     },
     "execution_count": 24,
     "metadata": {},
     "output_type": "execute_result"
    },
    {
     "data": {
      "image/png": "[encoded data removed]",
      "text/plain": [
       "<Figure size 432x288 with 1 Axes>"
      ]
     },
     "metadata": {
      "needs_background": "light"
     },
     "output_type": "display_data"
    }
   ],
   "source": [
    "plt.bar(labels, series_3.values, width=1)\n",
    "\n",
    "plt.xticks(labels,  rotation=45, ha='right', rotation_mode='anchor')"
   ]
  }
 ],
 "metadata": {
  "kernelspec": {
   "display_name": "Python 3",
   "language": "python",
   "name": "python3"
  },
  "language_info": {
   "codemirror_mode": {
    "name": "ipython",
    "version": 3
   },
   "file_extension": ".py",
   "mimetype": "text/x-python",
   "name": "python",
   "nbconvert_exporter": "python",
   "pygments_lexer": "ipython3",
   "version": "3.8.3"
  }
 },
 "nbformat": 4,
 "nbformat_minor": 4
}
