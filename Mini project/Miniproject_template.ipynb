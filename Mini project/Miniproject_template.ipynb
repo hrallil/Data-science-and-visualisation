{
 "cells": [
  {
   "cell_type": "markdown",
   "metadata": {},
   "source": [
    "# Data Science and Visualization (RUC F2023)\n",
    "\n",
    "## Miniproject Report"
   ]
  },
  {
   "cell_type": "markdown",
   "metadata": {},
   "source": [
    "## Remarks:\n",
    "\n",
    "1. This template serves as a guideline for structuring your miniproject report. You're supposed to follow the provided sections overall, but you're allowed to make changes or adjustments whenever it's appropriate for your particular project. \n",
    "\n",
    "    * For example, in each section provided below, you may use many cells instead of just one. \n",
    "\n",
    "    * You may also add subsections if you want. If necessary, you can also add or remove sections.\n",
    "\n",
    "\n",
    "2. You should rename this notebook file to 'Group_xxx_report.ipynb' where 'xxx' is your group number in our [padlet] (https://padlet.com/luhua/dsv-f23-mini-project-group-formation-sgw8mxkajzhh0tli). This notebook should be submitted to Digital Exam in time.\n",
    "\n",
    "3. Make sure the data you use is available somewhere and accessible to the examiner and censor. You may upload your data together with this report to Digital Exam, or put it online and provide the URL to it in this report. It's your own responsibility to ensure the data accessibility. \n",
    "\n",
    "4. Any text in '[ ]' throughout the template should be replaced by appropriate content that you're supposed to generate. Also remember to remove the pairs of '[' and ']' in the final report. \n",
    "\n",
    "5. Give sufficient descriptive and explanative information by using Markdown cells and/or comments in Python code.\n",
    "\n",
    "6. Remove this cell in the final report.\n",
    "\n",
    "7. If you have questions, please email to luhua@ruc.dk."
   ]
  },
  {
   "attachments": {},
   "cell_type": "markdown",
   "metadata": {},
   "source": [
    "## Project Title: [Decide a good title for your project and write it here]\n",
    "\n",
    "## Group Members:\n",
    "* [Mathias, computer science and informatics, 3rd, mamaar@ruc.dk]\n",
    "* [name_2, study, year, email_2]\n",
    "* [Add more if needed]"
   ]
  },
  {
   "cell_type": "markdown",
   "metadata": {},
   "source": [
    "## Abstract\n",
    "\n",
    "[Here, you need to write ~5 sentences to describe the main points of your project, including but not limited to, dataset, research questions, data science methods, findings from the data, your condlusions and remarks.]"
   ]
  },
  {
   "cell_type": "markdown",
   "metadata": {},
   "source": [
    "## 0. Setup and Data\n",
    "\n",
    "Import the modules needed for the project."
   ]
  },
  {
   "cell_type": "code",
   "execution_count": 70,
   "metadata": {},
   "outputs": [],
   "source": [
    "import pandas as pd\n",
    "import matplotlib.pyplot as plt\n",
    "import numpy as np"
   ]
  },
  {
   "cell_type": "markdown",
   "metadata": {},
   "source": [
    "### Data description:\n",
    "\n",
    "[Here you should provide a description of your dataset and where to find the dataset.]"
   ]
  },
  {
   "cell_type": "markdown",
   "metadata": {},
   "source": [
    "## 1. Loading the Data\n",
    "\n",
    "[Below you should load the data, display a part of the data, show the shape (number of rows and that of columns) of the data, and show the statistics of the data.]"
   ]
  },
  {
   "cell_type": "code",
   "execution_count": 65,
   "metadata": {},
   "outputs": [
    {
     "data": {
      "text/html": [
       "<div>\n",
       "<style scoped>\n",
       "    .dataframe tbody tr th:only-of-type {\n",
       "        vertical-align: middle;\n",
       "    }\n",
       "\n",
       "    .dataframe tbody tr th {\n",
       "        vertical-align: top;\n",
       "    }\n",
       "\n",
       "    .dataframe thead th {\n",
       "        text-align: right;\n",
       "    }\n",
       "</style>\n",
       "<table border=\"1\" class=\"dataframe\">\n",
       "  <thead>\n",
       "    <tr style=\"text-align: right;\">\n",
       "      <th></th>\n",
       "      <th>Test name</th>\n",
       "      <th>PKG (J)</th>\n",
       "      <th>CPU (J)</th>\n",
       "      <th>Memory (byte)</th>\n",
       "      <th>Temperature</th>\n",
       "      <th>Time (ms)</th>\n",
       "    </tr>\n",
       "  </thead>\n",
       "  <tbody>\n",
       "    <tr>\n",
       "      <th>0</th>\n",
       "      <td>random2-25000-1</td>\n",
       "      <td>15.660828</td>\n",
       "      <td>13.801025</td>\n",
       "      <td></td>\n",
       "      <td></td>\n",
       "      <td>2133.24</td>\n",
       "    </tr>\n",
       "    <tr>\n",
       "      <th>1</th>\n",
       "      <td>random3-25000-1</td>\n",
       "      <td>15.820557</td>\n",
       "      <td>13.970337</td>\n",
       "      <td></td>\n",
       "      <td></td>\n",
       "      <td>2144.08</td>\n",
       "    </tr>\n",
       "    <tr>\n",
       "      <th>2</th>\n",
       "      <td>random4-25000-1</td>\n",
       "      <td>17.963196</td>\n",
       "      <td>15.886780</td>\n",
       "      <td></td>\n",
       "      <td></td>\n",
       "      <td>2407.42</td>\n",
       "    </tr>\n",
       "    <tr>\n",
       "      <th>3</th>\n",
       "      <td>random5-25000-1</td>\n",
       "      <td>17.389160</td>\n",
       "      <td>15.399658</td>\n",
       "      <td></td>\n",
       "      <td></td>\n",
       "      <td>2381.58</td>\n",
       "    </tr>\n",
       "    <tr>\n",
       "      <th>4</th>\n",
       "      <td>random6-25000-1</td>\n",
       "      <td>17.897888</td>\n",
       "      <td>15.836975</td>\n",
       "      <td></td>\n",
       "      <td></td>\n",
       "      <td>2424.54</td>\n",
       "    </tr>\n",
       "  </tbody>\n",
       "</table>\n",
       "</div>"
      ],
      "text/plain": [
       "         Test name    PKG (J)    CPU (J) Memory (byte) Temperature  Time (ms)\n",
       "0  random2-25000-1  15.660828  13.801025                              2133.24\n",
       "1  random3-25000-1  15.820557  13.970337                              2144.08\n",
       "2  random4-25000-1  17.963196  15.886780                              2407.42\n",
       "3  random5-25000-1  17.389160  15.399658                              2381.58\n",
       "4  random6-25000-1  17.897888  15.836975                              2424.54"
      ]
     },
     "execution_count": 65,
     "metadata": {},
     "output_type": "execute_result"
    }
   ],
   "source": [
    "df = pd.read_csv(\"data/bubblesort-PC16.csv\") #dummy data\n",
    "df.columns=[\"Test name\",\"PKG (J)\",\"CPU (J)\",\"Memory (byte)\",\"Temperature\",\"Time (ms)\"]\n",
    "df.head()"
   ]
  },
  {
   "cell_type": "markdown",
   "metadata": {},
   "source": [
    "## 2. Data Preprocessing\n",
    "\n",
    "[Below you should handle the missing values, convert data types, apply data scaling and so on, if any of them is needed.]"
   ]
  },
  {
   "cell_type": "code",
   "execution_count": 223,
   "metadata": {},
   "outputs": [
    {
     "data": {
      "text/plain": [
       "Test name         0\n",
       "PKG (J)           0\n",
       "CPU (J)           0\n",
       "Memory (byte)    74\n",
       "Temperature      74\n",
       "Time (ms)         0\n",
       "dtype: int64"
      ]
     },
     "execution_count": 223,
     "metadata": {},
     "output_type": "execute_result"
    }
   ],
   "source": [
    "#removing values that are nonsense \n",
    "df = df[df['PKG (J)'] >= 0]\n",
    "df = df[df['CPU (J)'] >= 0]\n",
    "#df = df[df['Memory (byte)'] >= 0]\n",
    "#df = df[df['Temperature'] >= 0]\n",
    "df = df[df['Time (ms)'] >= 0]\n",
    "\n",
    "df = df.replace(\"  \", np.nan)\n",
    "\n",
    "\n",
    "#missing values for each column\n",
    "df.isnull().sum(axis=0)\n"
   ]
  },
  {
   "cell_type": "code",
   "execution_count": 182,
   "metadata": {},
   "outputs": [
    {
     "name": "stderr",
     "output_type": "stream",
     "text": [
      "C:\\Users\\mathi\\AppData\\Local\\Temp\\ipykernel_15168\\2461633448.py:3: FutureWarning: The default dtype for empty Series will be 'object' instead of 'float64' in a future version. Specify a dtype explicitly to silence this warning.\n",
      "  dfRandom = pd.Series()\n"
     ]
    }
   ],
   "source": [
    "#random input seperated into a list, where each element is a DataFrame containing that random CSVs output\n",
    "listOfRandoms = []\n",
    "for randIndex in range(0,11):\n",
    "    listOfRandoms.append(df[df[\"Test name\"].str.startswith(f\"random{randIndex}-\")])\n",
    "\n",
    "\n",
    "# Dataframe containing results for the best case input \n",
    "dfBest = df[df[\"Test name\"].str.startswith(\"best\")]\n",
    "# Dataframe containing results for the worst case input \n",
    "dfWorst = df[df[\"Test name\"].str.startswith(\"worst\")]"
   ]
  },
  {
   "cell_type": "code",
   "execution_count": 188,
   "metadata": {},
   "outputs": [
    {
     "data": {
      "text/html": [
       "<div>\n",
       "<style scoped>\n",
       "    .dataframe tbody tr th:only-of-type {\n",
       "        vertical-align: middle;\n",
       "    }\n",
       "\n",
       "    .dataframe tbody tr th {\n",
       "        vertical-align: top;\n",
       "    }\n",
       "\n",
       "    .dataframe thead th {\n",
       "        text-align: right;\n",
       "    }\n",
       "</style>\n",
       "<table border=\"1\" class=\"dataframe\">\n",
       "  <thead>\n",
       "    <tr style=\"text-align: right;\">\n",
       "      <th></th>\n",
       "      <th>Test name</th>\n",
       "      <th>PKG (J)</th>\n",
       "      <th>CPU (J)</th>\n",
       "      <th>Memory (byte)</th>\n",
       "      <th>Temperature</th>\n",
       "      <th>Time (ms)</th>\n",
       "    </tr>\n",
       "  </thead>\n",
       "  <tbody>\n",
       "    <tr>\n",
       "      <th>58</th>\n",
       "      <td>best-25000-1</td>\n",
       "      <td>8.375916</td>\n",
       "      <td>6.896790</td>\n",
       "      <td>NaN</td>\n",
       "      <td>NaN</td>\n",
       "      <td>1454.82</td>\n",
       "    </tr>\n",
       "    <tr>\n",
       "      <th>59</th>\n",
       "      <td>best-50000-1</td>\n",
       "      <td>12.358948</td>\n",
       "      <td>10.305115</td>\n",
       "      <td>NaN</td>\n",
       "      <td>NaN</td>\n",
       "      <td>2103.92</td>\n",
       "    </tr>\n",
       "    <tr>\n",
       "      <th>60</th>\n",
       "      <td>best-75000-1</td>\n",
       "      <td>19.475464</td>\n",
       "      <td>16.655029</td>\n",
       "      <td>NaN</td>\n",
       "      <td>NaN</td>\n",
       "      <td>3272.38</td>\n",
       "    </tr>\n",
       "    <tr>\n",
       "      <th>61</th>\n",
       "      <td>best-100000-1</td>\n",
       "      <td>27.459290</td>\n",
       "      <td>23.829163</td>\n",
       "      <td>NaN</td>\n",
       "      <td>NaN</td>\n",
       "      <td>4550.81</td>\n",
       "    </tr>\n",
       "    <tr>\n",
       "      <th>62</th>\n",
       "      <td>best-200000-1</td>\n",
       "      <td>68.809387</td>\n",
       "      <td>60.602539</td>\n",
       "      <td>NaN</td>\n",
       "      <td>NaN</td>\n",
       "      <td>10998.90</td>\n",
       "    </tr>\n",
       "    <tr>\n",
       "      <th>63</th>\n",
       "      <td>best-300000-1</td>\n",
       "      <td>142.240906</td>\n",
       "      <td>125.971497</td>\n",
       "      <td>NaN</td>\n",
       "      <td>NaN</td>\n",
       "      <td>22701.60</td>\n",
       "    </tr>\n",
       "    <tr>\n",
       "      <th>64</th>\n",
       "      <td>best-400000-1</td>\n",
       "      <td>247.800110</td>\n",
       "      <td>218.949036</td>\n",
       "      <td>NaN</td>\n",
       "      <td>NaN</td>\n",
       "      <td>39311.90</td>\n",
       "    </tr>\n",
       "    <tr>\n",
       "      <th>65</th>\n",
       "      <td>best-500000-1</td>\n",
       "      <td>390.421997</td>\n",
       "      <td>342.826660</td>\n",
       "      <td>NaN</td>\n",
       "      <td>NaN</td>\n",
       "      <td>60670.10</td>\n",
       "    </tr>\n",
       "  </tbody>\n",
       "</table>\n",
       "</div>"
      ],
      "text/plain": [
       "        Test name     PKG (J)     CPU (J)  Memory (byte)  Temperature  \\\n",
       "58   best-25000-1    8.375916    6.896790            NaN          NaN   \n",
       "59   best-50000-1   12.358948   10.305115            NaN          NaN   \n",
       "60   best-75000-1   19.475464   16.655029            NaN          NaN   \n",
       "61  best-100000-1   27.459290   23.829163            NaN          NaN   \n",
       "62  best-200000-1   68.809387   60.602539            NaN          NaN   \n",
       "63  best-300000-1  142.240906  125.971497            NaN          NaN   \n",
       "64  best-400000-1  247.800110  218.949036            NaN          NaN   \n",
       "65  best-500000-1  390.421997  342.826660            NaN          NaN   \n",
       "\n",
       "    Time (ms)  \n",
       "58    1454.82  \n",
       "59    2103.92  \n",
       "60    3272.38  \n",
       "61    4550.81  \n",
       "62   10998.90  \n",
       "63   22701.60  \n",
       "64   39311.90  \n",
       "65   60670.10  "
      ]
     },
     "execution_count": 188,
     "metadata": {},
     "output_type": "execute_result"
    }
   ],
   "source": [
    "dfBest"
   ]
  },
  {
   "cell_type": "markdown",
   "metadata": {},
   "source": [
    "## 3. Exploratory Data Analysis\n",
    "\n",
    "[Below you can conduct EDA of your data, e.g., ask some questions and try to answer them by accessing the data properly and making some visualizations.]"
   ]
  },
  {
   "cell_type": "code",
   "execution_count": 222,
   "metadata": {},
   "outputs": [
    {
     "data": {
      "image/png": "[encoded data removed]",
      "text/plain": [
       "<Figure size 576x360 with 1 Axes>"
      ]
     },
     "metadata": {
      "needs_background": "light"
     },
     "output_type": "display_data"
    },
    {
     "data": {
      "image/png": "[encoded data removed]",
      "text/plain": [
       "<Figure size 576x360 with 1 Axes>"
      ]
     },
     "metadata": {
      "needs_background": "light"
     },
     "output_type": "display_data"
    },
    {
     "data": {
      "image/png": "[encoded data removed]",
      "text/plain": [
       "<Figure size 720x504 with 1 Axes>"
      ]
     },
     "metadata": {
      "needs_background": "light"
     },
     "output_type": "display_data"
    }
   ],
   "source": [
    "plt.figure(figsize=(10, 7))\n",
    "x = dfBest[\"Time (ms)\"]\n",
    "y = dfBest[\"CPU (J)\"]\n",
    "plt.scatter(y,x, color='navy', s=30, marker='o', label=\"Best\")\n",
    "plt.title(\"Best for Bubblesort\")\n",
    "plt.xlabel(\"Time (ms)\")\n",
    "plt.ylabel(\"CPU (J)\")\n",
    "plt.show()\n",
    "\n",
    "plt.figure(figsize=(10, 7))\n",
    "x = dfWorst[\"Time (ms)\"]\n",
    "y = dfWorst[\"CPU (J)\"]\n",
    "plt.scatter(y,x, color='navy', s=30, marker='o', label=\"Best\")\n",
    "plt.title(\"Worst for Bubblesort\")\n",
    "plt.xlabel(\"Time (ms)\")\n",
    "plt.ylabel(\"CPU (J)\")\n",
    "plt.show()\n",
    "\n",
    "plt.figure(figsize=(10, 7))\n",
    "for i in range(10):\n",
    "    plt.plot(listOfRandoms[i][\"CPU (J)\"],listOfRandoms[i][\"Time (ms)\"],'o', label=f\"random{i}\")\n",
    "plt.title(\"Random for Bubblesort\")\n",
    "plt.xlabel(\"Time (ms)\")\n",
    "plt.ylabel(\"CPU (J)\")\n",
    "plt.show()"
   ]
  },
  {
   "cell_type": "markdown",
   "metadata": {},
   "source": [
    "## 4. Data Modelling\n",
    "\n",
    "[Below you apply machine learning models and other data science methods to your data, e.g., classification, regression, clustering, and association rule mining. You should do at least one of them. Give a description of what you do here.]"
   ]
  },
  {
   "cell_type": "markdown",
   "metadata": {},
   "source": [
    "### 4.1. Feature Selection\n",
    "\n",
    "[Decide which features you want to use and obtain them properly from the original data.]"
   ]
  },
  {
   "cell_type": "code",
   "execution_count": null,
   "metadata": {},
   "outputs": [],
   "source": []
  },
  {
   "cell_type": "markdown",
   "metadata": {},
   "source": [
    "### 4.2 Model Construction and Validation\n",
    "\n",
    "[Construct the model and validate the model design if necessary.]"
   ]
  },
  {
   "cell_type": "code",
   "execution_count": null,
   "metadata": {},
   "outputs": [],
   "source": []
  },
  {
   "cell_type": "markdown",
   "metadata": {},
   "source": [
    "### 4.3 Model Application and Performance Evaluation\n",
    "\n",
    "[Apply the model and evaluate its performance]"
   ]
  },
  {
   "cell_type": "code",
   "execution_count": null,
   "metadata": {},
   "outputs": [],
   "source": []
  },
  {
   "cell_type": "markdown",
   "metadata": {},
   "source": [
    "### 4.4 Visualize and Analyze Your Results/Findings from Data Modelling\n",
    "\n",
    "[Here you may visualize the modeling results, and/or analyze/interprete its meanings.]"
   ]
  },
  {
   "cell_type": "code",
   "execution_count": null,
   "metadata": {},
   "outputs": [],
   "source": []
  },
  {
   "cell_type": "markdown",
   "metadata": {},
   "source": [
    "## 5. Conclusion and Discussion\n",
    "\n",
    "[Here you may draw your conclusion based on the previous sections, and discuss the pros and cons of the project, and propose something for future work.]"
   ]
  },
  {
   "cell_type": "code",
   "execution_count": null,
   "metadata": {},
   "outputs": [],
   "source": []
  }
 ],
 "metadata": {
  "kernelspec": {
   "display_name": "Python 3",
   "language": "python",
   "name": "python3"
  },
  "language_info": {
   "codemirror_mode": {
    "name": "ipython",
    "version": 3
   },
   "file_extension": ".py",
   "mimetype": "text/x-python",
   "name": "python",
   "nbconvert_exporter": "python",
   "pygments_lexer": "ipython3",
   "version": "3.9.12"
  }
 },
 "nbformat": 4,
 "nbformat_minor": 4
}
